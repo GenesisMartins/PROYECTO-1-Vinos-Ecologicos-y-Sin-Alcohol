{
 "cells": [
  {
   "cell_type": "markdown",
   "id": "390e4d6b",
   "metadata": {},
   "source": [
    "# 1.2 Limpieza"
   ]
  },
  {
   "cell_type": "markdown",
   "id": "4cd033c6",
   "metadata": {},
   "source": [
    "Descarga de base de datos mundial obtenida de la Organización de la Viña y el vino.\n",
    "\n",
    "\n",
    "Fuente: https://www.oiv.int/es/que-hacemos/datos"
   ]
  },
  {
   "cell_type": "markdown",
   "id": "2580c02d",
   "metadata": {},
   "source": [
    "#### Paso 1 Descripción de los datos"
   ]
  },
  {
   "cell_type": "markdown",
   "id": "c065ed25",
   "metadata": {},
   "source": [
    "El objetivo de este notebook es limpiar los datasets de registros duplicados, valores nulos, consistencia en el tipo de dato, etc.\n",
    "\n",
    "### Tabla 1. referido al consumo del vino a lo largo de la historia alrededor del mundo.\n",
    "\n",
    "Comenzamos por importar un CSV "
   ]
  },
  {
   "cell_type": "code",
   "execution_count": 3,
   "id": "50932215",
   "metadata": {},
   "outputs": [],
   "source": [
    "#Importamos Librerias\n",
    "\n",
    "import pandas as pd"
   ]
  },
  {
   "cell_type": "code",
   "execution_count": 6,
   "id": "eb578045",
   "metadata": {
    "scrolled": true
   },
   "outputs": [
    {
     "data": {
      "text/html": [
       "<div>\n",
       "<style scoped>\n",
       "    .dataframe tbody tr th:only-of-type {\n",
       "        vertical-align: middle;\n",
       "    }\n",
       "\n",
       "    .dataframe tbody tr th {\n",
       "        vertical-align: top;\n",
       "    }\n",
       "\n",
       "    .dataframe thead th {\n",
       "        text-align: right;\n",
       "    }\n",
       "</style>\n",
       "<table border=\"1\" class=\"dataframe\">\n",
       "  <thead>\n",
       "    <tr style=\"text-align: right;\">\n",
       "      <th></th>\n",
       "      <th>Continent</th>\n",
       "      <th>Region/Country</th>\n",
       "      <th>Product</th>\n",
       "      <th>Variable</th>\n",
       "      <th>Year</th>\n",
       "      <th>Unit</th>\n",
       "      <th>Quantity</th>\n",
       "    </tr>\n",
       "  </thead>\n",
       "  <tbody>\n",
       "    <tr>\n",
       "      <th>0</th>\n",
       "      <td>Asia</td>\n",
       "      <td>Afganistán</td>\n",
       "      <td>Uvas de mesa</td>\n",
       "      <td>Consumo</td>\n",
       "      <td>1995.0</td>\n",
       "      <td>toneladas</td>\n",
       "      <td>189 800</td>\n",
       "    </tr>\n",
       "    <tr>\n",
       "      <th>1</th>\n",
       "      <td>Asia</td>\n",
       "      <td>Afganistán</td>\n",
       "      <td>Uvas pasas</td>\n",
       "      <td>Consumo</td>\n",
       "      <td>1995.0</td>\n",
       "      <td>toneladas</td>\n",
       "      <td>8 050</td>\n",
       "    </tr>\n",
       "    <tr>\n",
       "      <th>2</th>\n",
       "      <td>Asia</td>\n",
       "      <td>Afganistán</td>\n",
       "      <td>Uvas frescas</td>\n",
       "      <td>Exportaciones</td>\n",
       "      <td>1995.0</td>\n",
       "      <td>toneladas</td>\n",
       "      <td>11 500</td>\n",
       "    </tr>\n",
       "    <tr>\n",
       "      <th>3</th>\n",
       "      <td>Asia</td>\n",
       "      <td>Afganistán</td>\n",
       "      <td>Uvas pasas</td>\n",
       "      <td>Exportaciones</td>\n",
       "      <td>1995.0</td>\n",
       "      <td>toneladas</td>\n",
       "      <td>20 000</td>\n",
       "    </tr>\n",
       "    <tr>\n",
       "      <th>4</th>\n",
       "      <td>Asia</td>\n",
       "      <td>Afganistán</td>\n",
       "      <td>Uvas frescas</td>\n",
       "      <td>Importaciones</td>\n",
       "      <td>1995.0</td>\n",
       "      <td>toneladas</td>\n",
       "      <td>0</td>\n",
       "    </tr>\n",
       "  </tbody>\n",
       "</table>\n",
       "</div>"
      ],
      "text/plain": [
       "  Continent Region/Country       Product       Variable    Year       Unit  \\\n",
       "0      Asia     Afganistán  Uvas de mesa        Consumo  1995.0  toneladas   \n",
       "1      Asia     Afganistán    Uvas pasas        Consumo  1995.0  toneladas   \n",
       "2      Asia     Afganistán  Uvas frescas  Exportaciones  1995.0  toneladas   \n",
       "3      Asia     Afganistán    Uvas pasas  Exportaciones  1995.0  toneladas   \n",
       "4      Asia     Afganistán  Uvas frescas  Importaciones  1995.0  toneladas   \n",
       "\n",
       "   Quantity  \n",
       "0   189 800  \n",
       "1     8 050  \n",
       "2    11 500  \n",
       "3    20 000  \n",
       "4         0  "
      ]
     },
     "execution_count": 6,
     "metadata": {},
     "output_type": "execute_result"
    }
   ],
   "source": [
    "historia_vino = pd.read_csv('csv_data_vinos_OVI.csv', encoding=\"latin\", sep=\";\")\n",
    "historia_vino.head()"
   ]
  },
  {
   "cell_type": "code",
   "execution_count": 7,
   "id": "fbd5348c",
   "metadata": {},
   "outputs": [
    {
     "data": {
      "text/plain": [
       "(52798, 7)"
      ]
     },
     "execution_count": 7,
     "metadata": {},
     "output_type": "execute_result"
    }
   ],
   "source": [
    "historia_vino.shape"
   ]
  },
  {
   "cell_type": "code",
   "execution_count": 8,
   "id": "1ca4bc4b",
   "metadata": {
    "scrolled": true
   },
   "outputs": [
    {
     "name": "stdout",
     "output_type": "stream",
     "text": [
      "<class 'pandas.core.frame.DataFrame'>\n",
      "RangeIndex: 52798 entries, 0 to 52797\n",
      "Data columns (total 7 columns):\n",
      " #   Column          Non-Null Count  Dtype  \n",
      "---  ------          --------------  -----  \n",
      " 0   Continent       52797 non-null  object \n",
      " 1   Region/Country  52796 non-null  object \n",
      " 2   Product         52796 non-null  object \n",
      " 3   Variable        52796 non-null  object \n",
      " 4   Year            52796 non-null  float64\n",
      " 5   Unit            52796 non-null  object \n",
      " 6   Quantity        52796 non-null  object \n",
      "dtypes: float64(1), object(6)\n",
      "memory usage: 2.8+ MB\n"
     ]
    }
   ],
   "source": [
    "historia_vino.info()"
   ]
  },
  {
   "cell_type": "code",
   "execution_count": 9,
   "id": "fa59ec80",
   "metadata": {
    "scrolled": true
   },
   "outputs": [
    {
     "data": {
      "text/plain": [
       "<bound method NDFrame.describe of                                  Continent Region/Country       Product  \\\n",
       "0                                     Asia     Afganistán  Uvas de mesa   \n",
       "1                                     Asia     Afganistán    Uvas pasas   \n",
       "2                                     Asia     Afganistán  Uvas frescas   \n",
       "3                                     Asia     Afganistán    Uvas pasas   \n",
       "4                                     Asia     Afganistán  Uvas frescas   \n",
       "...                                    ...            ...           ...   \n",
       "52793                               África       Zimbabue          Vino   \n",
       "52794                               África       Zimbabue          Vino   \n",
       "52795                               África       Zimbabue          Vino   \n",
       "52796                                  NaN            NaN           NaN   \n",
       "52797  Filtros aplicados: \\nLanguage es ES            NaN           NaN   \n",
       "\n",
       "            Variable    Year       Unit  Quantity  \n",
       "0            Consumo  1995.0  toneladas   189 800  \n",
       "1            Consumo  1995.0  toneladas     8 050  \n",
       "2      Exportaciones  1995.0  toneladas    11 500  \n",
       "3      Exportaciones  1995.0  toneladas    20 000  \n",
       "4      Importaciones  1995.0  toneladas         0  \n",
       "...              ...     ...        ...       ...  \n",
       "52793  Importaciones  2021.0    1000 hl        14  \n",
       "52794     Producción  2021.0    1000 hl        14  \n",
       "52795  Exportaciones  2022.0    1000 hl         0  \n",
       "52796            NaN     NaN        NaN       NaN  \n",
       "52797            NaN     NaN        NaN       NaN  \n",
       "\n",
       "[52798 rows x 7 columns]>"
      ]
     },
     "execution_count": 9,
     "metadata": {},
     "output_type": "execute_result"
    }
   ],
   "source": [
    "historia_vino.describe"
   ]
  },
  {
   "cell_type": "markdown",
   "id": "9a419cb2",
   "metadata": {},
   "source": [
    "a) Limpieza de datos\n",
    "1. Revisamos si existen columnas no informativas y columnas con valores constantes.\n",
    "2. Eliminaremos las columnas que no necesitemos.\n",
    "3. Unificaremos criterios para estandarizar la tabla.\n",
    "\n",
    "Veamos de una en una cada columna:\n",
    "    1. Continent = Refiere al continente donde se ubica la data.\n",
    "    2. Region = País donde se ubica la data.\n",
    "    3. Product = tipo de material utilizado, en este caso la Uva.\n",
    "    4. Variable = Refiere a importación, exportación o consumo.\n",
    "    5. Year = Año al que refiere la data.\n",
    "    6. Unit = Unidad de medida utilizado, en este caso, toneladas.\n",
    "    7. Quantity = Cantidad de toneladas al año"
   ]
  },
  {
   "cell_type": "code",
   "execution_count": 15,
   "id": "7d9162d3",
   "metadata": {},
   "outputs": [
    {
     "data": {
      "text/plain": [
       "Index(['Continent', 'Region/Country', 'Product', 'Variable', 'Year', 'Unit',\n",
       "       'Quantity'],\n",
       "      dtype='object')"
      ]
     },
     "execution_count": 15,
     "metadata": {},
     "output_type": "execute_result"
    }
   ],
   "source": [
    "# Hay un criterio unificado en todas las columnas, cada una comienza con la primera letra en mayuscula y posterior minusculas.\n",
    "# En este caso no es necesario utilizar ningun metodo ni función prederterminada.\n",
    "# No es necesario renombrar ninguna columna.\n",
    "# Es importante que todas lleven el mismo formato.\n",
    "historia_vino.columns"
   ]
  },
  {
   "cell_type": "code",
   "execution_count": null,
   "id": "21668afd",
   "metadata": {},
   "outputs": [],
   "source": [
    "# Valores invalidos o no necesarios:\n"
   ]
  },
  {
   "cell_type": "code",
   "execution_count": null,
   "id": "8b9e8d91",
   "metadata": {},
   "outputs": [],
   "source": []
  },
  {
   "cell_type": "code",
   "execution_count": null,
   "id": "df9ee0e8",
   "metadata": {},
   "outputs": [],
   "source": []
  },
  {
   "cell_type": "code",
   "execution_count": null,
   "id": "4498a703",
   "metadata": {},
   "outputs": [],
   "source": []
  },
  {
   "cell_type": "code",
   "execution_count": null,
   "id": "b4665937",
   "metadata": {},
   "outputs": [],
   "source": []
  },
  {
   "cell_type": "code",
   "execution_count": null,
   "id": "65ecc1ea",
   "metadata": {},
   "outputs": [],
   "source": []
  },
  {
   "cell_type": "code",
   "execution_count": 14,
   "id": "389ae219",
   "metadata": {},
   "outputs": [],
   "source": [
    "## agregar la parte de scrapeo"
   ]
  },
  {
   "cell_type": "code",
   "execution_count": null,
   "id": "cc457bef",
   "metadata": {},
   "outputs": [],
   "source": []
  },
  {
   "cell_type": "code",
   "execution_count": null,
   "id": "aef86c5c",
   "metadata": {},
   "outputs": [],
   "source": []
  },
  {
   "cell_type": "markdown",
   "id": "a260134d",
   "metadata": {},
   "source": [
    "#### a) Limpieza listings\n",
    "\n",
    "Primero, elimino columnas con valores constantes o columnas no informativas. Eliminaré también columnas relacionadas con el host, como name o summary para evitar sesgos (quizá habría que analizarlas aparte). Veámoslas de una en una."
   ]
  },
  {
   "cell_type": "code",
   "execution_count": null,
   "id": "0c399af1",
   "metadata": {},
   "outputs": [],
   "source": []
  }
 ],
 "metadata": {
  "kernelspec": {
   "display_name": "Python 3 (ipykernel)",
   "language": "python",
   "name": "python3"
  },
  "language_info": {
   "codemirror_mode": {
    "name": "ipython",
    "version": 3
   },
   "file_extension": ".py",
   "mimetype": "text/x-python",
   "name": "python",
   "nbconvert_exporter": "python",
   "pygments_lexer": "ipython3",
   "version": "3.11.5"
  }
 },
 "nbformat": 4,
 "nbformat_minor": 5
}
