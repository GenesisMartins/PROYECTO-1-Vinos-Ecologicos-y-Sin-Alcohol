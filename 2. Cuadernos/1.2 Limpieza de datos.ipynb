{
 "cells": [
  {
   "cell_type": "markdown",
   "id": "390e4d6b",
   "metadata": {},
   "source": [
    "# 1.2 Limpieza"
   ]
  },
  {
   "cell_type": "markdown",
   "id": "4cd033c6",
   "metadata": {},
   "source": [
    "Descarga de base de datos mundial obtenida de la Organización de la Viña y el vino.\n",
    "\n",
    "\n",
    "Fuente: https://www.oiv.int/es/que-hacemos/datos"
   ]
  },
  {
   "cell_type": "markdown",
   "id": "2580c02d",
   "metadata": {},
   "source": [
    "#### Paso 1 Descripción de los datos"
   ]
  },
  {
   "cell_type": "markdown",
   "id": "c065ed25",
   "metadata": {},
   "source": [
    "El objetivo de este notebook es limpiar los datasets de registros duplicados, valores nulos, consistencia en el tipo de dato, etc.\n",
    "\n",
    "### Tabla 1. referido al consumo del vino a lo largo de la historia alrededor del mundo.\n",
    "\n",
    "Comenzamos por importar un CSV "
   ]
  },
  {
   "cell_type": "code",
   "execution_count": 30,
   "id": "50932215",
   "metadata": {},
   "outputs": [],
   "source": [
    "#Importamos Librerias\n",
    "\n",
    "import pandas as pd"
   ]
  },
  {
   "cell_type": "code",
   "execution_count": 31,
   "id": "eb578045",
   "metadata": {
    "scrolled": true
   },
   "outputs": [
    {
     "data": {
      "text/html": [
       "<div>\n",
       "<style scoped>\n",
       "    .dataframe tbody tr th:only-of-type {\n",
       "        vertical-align: middle;\n",
       "    }\n",
       "\n",
       "    .dataframe tbody tr th {\n",
       "        vertical-align: top;\n",
       "    }\n",
       "\n",
       "    .dataframe thead th {\n",
       "        text-align: right;\n",
       "    }\n",
       "</style>\n",
       "<table border=\"1\" class=\"dataframe\">\n",
       "  <thead>\n",
       "    <tr style=\"text-align: right;\">\n",
       "      <th></th>\n",
       "      <th>Continent</th>\n",
       "      <th>Region/Country</th>\n",
       "      <th>Product</th>\n",
       "      <th>Variable</th>\n",
       "      <th>Year</th>\n",
       "      <th>Unit</th>\n",
       "      <th>Quantity</th>\n",
       "    </tr>\n",
       "  </thead>\n",
       "  <tbody>\n",
       "    <tr>\n",
       "      <th>0</th>\n",
       "      <td>Asia</td>\n",
       "      <td>Afganistán</td>\n",
       "      <td>Uvas de mesa</td>\n",
       "      <td>Consumo</td>\n",
       "      <td>1995.0</td>\n",
       "      <td>toneladas</td>\n",
       "      <td>189 800</td>\n",
       "    </tr>\n",
       "    <tr>\n",
       "      <th>1</th>\n",
       "      <td>Asia</td>\n",
       "      <td>Afganistán</td>\n",
       "      <td>Uvas pasas</td>\n",
       "      <td>Consumo</td>\n",
       "      <td>1995.0</td>\n",
       "      <td>toneladas</td>\n",
       "      <td>8 050</td>\n",
       "    </tr>\n",
       "    <tr>\n",
       "      <th>2</th>\n",
       "      <td>Asia</td>\n",
       "      <td>Afganistán</td>\n",
       "      <td>Uvas frescas</td>\n",
       "      <td>Exportaciones</td>\n",
       "      <td>1995.0</td>\n",
       "      <td>toneladas</td>\n",
       "      <td>11 500</td>\n",
       "    </tr>\n",
       "    <tr>\n",
       "      <th>3</th>\n",
       "      <td>Asia</td>\n",
       "      <td>Afganistán</td>\n",
       "      <td>Uvas pasas</td>\n",
       "      <td>Exportaciones</td>\n",
       "      <td>1995.0</td>\n",
       "      <td>toneladas</td>\n",
       "      <td>20 000</td>\n",
       "    </tr>\n",
       "    <tr>\n",
       "      <th>4</th>\n",
       "      <td>Asia</td>\n",
       "      <td>Afganistán</td>\n",
       "      <td>Uvas frescas</td>\n",
       "      <td>Importaciones</td>\n",
       "      <td>1995.0</td>\n",
       "      <td>toneladas</td>\n",
       "      <td>0</td>\n",
       "    </tr>\n",
       "  </tbody>\n",
       "</table>\n",
       "</div>"
      ],
      "text/plain": [
       "  Continent Region/Country       Product       Variable    Year       Unit  \\\n",
       "0      Asia     Afganistán  Uvas de mesa        Consumo  1995.0  toneladas   \n",
       "1      Asia     Afganistán    Uvas pasas        Consumo  1995.0  toneladas   \n",
       "2      Asia     Afganistán  Uvas frescas  Exportaciones  1995.0  toneladas   \n",
       "3      Asia     Afganistán    Uvas pasas  Exportaciones  1995.0  toneladas   \n",
       "4      Asia     Afganistán  Uvas frescas  Importaciones  1995.0  toneladas   \n",
       "\n",
       "   Quantity  \n",
       "0   189 800  \n",
       "1     8 050  \n",
       "2    11 500  \n",
       "3    20 000  \n",
       "4         0  "
      ]
     },
     "execution_count": 31,
     "metadata": {},
     "output_type": "execute_result"
    }
   ],
   "source": [
    "historia_vino = pd.read_csv('csv_data_vinos_OVI.csv', encoding=\"latin\", sep=\";\")\n",
    "historia_vino.head()"
   ]
  },
  {
   "cell_type": "code",
   "execution_count": 32,
   "id": "fbd5348c",
   "metadata": {},
   "outputs": [
    {
     "data": {
      "text/plain": [
       "(52798, 7)"
      ]
     },
     "execution_count": 32,
     "metadata": {},
     "output_type": "execute_result"
    }
   ],
   "source": [
    "historia_vino.shape"
   ]
  },
  {
   "cell_type": "code",
   "execution_count": 33,
   "id": "1ca4bc4b",
   "metadata": {
    "scrolled": true
   },
   "outputs": [
    {
     "name": "stdout",
     "output_type": "stream",
     "text": [
      "<class 'pandas.core.frame.DataFrame'>\n",
      "RangeIndex: 52798 entries, 0 to 52797\n",
      "Data columns (total 7 columns):\n",
      " #   Column          Non-Null Count  Dtype  \n",
      "---  ------          --------------  -----  \n",
      " 0   Continent       52796 non-null  object \n",
      " 1   Region/Country  52796 non-null  object \n",
      " 2   Product         52796 non-null  object \n",
      " 3   Variable        52796 non-null  object \n",
      " 4   Year            52796 non-null  float64\n",
      " 5   Unit            52796 non-null  object \n",
      " 6   Quantity        52796 non-null  object \n",
      "dtypes: float64(1), object(6)\n",
      "memory usage: 2.8+ MB\n"
     ]
    }
   ],
   "source": [
    "historia_vino.info()"
   ]
  },
  {
   "cell_type": "code",
   "execution_count": 35,
   "id": "238f28cc",
   "metadata": {
    "scrolled": true
   },
   "outputs": [
    {
     "data": {
      "text/html": [
       "<div>\n",
       "<style scoped>\n",
       "    .dataframe tbody tr th:only-of-type {\n",
       "        vertical-align: middle;\n",
       "    }\n",
       "\n",
       "    .dataframe tbody tr th {\n",
       "        vertical-align: top;\n",
       "    }\n",
       "\n",
       "    .dataframe thead th {\n",
       "        text-align: right;\n",
       "    }\n",
       "</style>\n",
       "<table border=\"1\" class=\"dataframe\">\n",
       "  <thead>\n",
       "    <tr style=\"text-align: right;\">\n",
       "      <th></th>\n",
       "      <th>Year</th>\n",
       "    </tr>\n",
       "  </thead>\n",
       "  <tbody>\n",
       "    <tr>\n",
       "      <th>count</th>\n",
       "      <td>52796.000000</td>\n",
       "    </tr>\n",
       "    <tr>\n",
       "      <th>mean</th>\n",
       "      <td>2008.086105</td>\n",
       "    </tr>\n",
       "    <tr>\n",
       "      <th>std</th>\n",
       "      <td>7.857716</td>\n",
       "    </tr>\n",
       "    <tr>\n",
       "      <th>min</th>\n",
       "      <td>1995.000000</td>\n",
       "    </tr>\n",
       "    <tr>\n",
       "      <th>25%</th>\n",
       "      <td>2001.000000</td>\n",
       "    </tr>\n",
       "    <tr>\n",
       "      <th>50%</th>\n",
       "      <td>2008.000000</td>\n",
       "    </tr>\n",
       "    <tr>\n",
       "      <th>75%</th>\n",
       "      <td>2015.000000</td>\n",
       "    </tr>\n",
       "    <tr>\n",
       "      <th>max</th>\n",
       "      <td>2023.000000</td>\n",
       "    </tr>\n",
       "  </tbody>\n",
       "</table>\n",
       "</div>"
      ],
      "text/plain": [
       "               Year\n",
       "count  52796.000000\n",
       "mean    2008.086105\n",
       "std        7.857716\n",
       "min     1995.000000\n",
       "25%     2001.000000\n",
       "50%     2008.000000\n",
       "75%     2015.000000\n",
       "max     2023.000000"
      ]
     },
     "execution_count": 35,
     "metadata": {},
     "output_type": "execute_result"
    }
   ],
   "source": [
    "historia_vino.describe()"
   ]
  },
  {
   "cell_type": "markdown",
   "id": "1691ad2c",
   "metadata": {},
   "source": [
    "a) Limpieza de datos\n",
    "1. Revisamos si existen columnas no informativas y columnas con valores constantes.\n",
    "2. Eliminaremos las columnas que no necesitemos.\n",
    "3. Unificaremos criterios para estandarizar la tabla.\n",
    "\n",
    "Veamos de una en una cada columna:\n",
    "    1. Continent = Refiere al continente donde se ubica la data.\n",
    "    2. Region = País donde se ubica la data.\n",
    "    3. Product = tipo de material utilizado, en este caso la Uva.\n",
    "    4. Variable = Refiere a importación, exportación o consumo.\n",
    "    5. Year = Año al que refiere la data.\n",
    "    6. Unit = Unidad de medida utilizado, en este caso, toneladas.\n",
    "    7. Quantity = Cantidad de toneladas al año"
   ]
  },
  {
   "cell_type": "code",
   "execution_count": 39,
   "id": "5d66229c",
   "metadata": {
    "scrolled": true
   },
   "outputs": [
    {
     "data": {
      "text/plain": [
       "Index(['Continent', 'Region/Country', 'Product', 'Variable', 'Year', 'Unit',\n",
       "       'Quantity'],\n",
       "      dtype='object')"
      ]
     },
     "execution_count": 39,
     "metadata": {},
     "output_type": "execute_result"
    }
   ],
   "source": [
    "# Hay un criterio unificado en todas las columnas, cada una comienza con la primera letra en mayuscula y posterior minusculas.\n",
    "# En este caso no es necesario utilizar ningun metodo ni función prederterminada.\n",
    "# No es necesario renombrar ninguna columna.\n",
    "# Es importante que todas lleven el mismo formato.\n",
    "historia_vino.columns"
   ]
  },
  {
   "cell_type": "code",
   "execution_count": 40,
   "id": "745effd2",
   "metadata": {},
   "outputs": [
    {
     "data": {
      "text/plain": [
       "1"
      ]
     },
     "execution_count": 40,
     "metadata": {},
     "output_type": "execute_result"
    }
   ],
   "source": [
    "# Valores duplicados:\n",
    "historia_vino.duplicated().sum()"
   ]
  },
  {
   "cell_type": "code",
   "execution_count": 41,
   "id": "226dbaa8",
   "metadata": {},
   "outputs": [
    {
     "data": {
      "text/plain": [
       "0"
      ]
     },
     "execution_count": 41,
     "metadata": {},
     "output_type": "execute_result"
    }
   ],
   "source": [
    "# Eliminamos el valor duplicado: \n",
    "historia_vino.drop_duplicates(inplace=True)\n",
    "\n",
    "historia_vino.duplicated().sum()"
   ]
  },
  {
   "cell_type": "code",
   "execution_count": 26,
   "id": "aad9af44",
   "metadata": {},
   "outputs": [
    {
     "data": {
      "text/plain": [
       "Continent         1\n",
       "Region/Country    2\n",
       "Product           2\n",
       "Variable          2\n",
       "Year              2\n",
       "Unit              2\n",
       "Quantity          2\n",
       "dtype: int64"
      ]
     },
     "execution_count": 26,
     "metadata": {},
     "output_type": "execute_result"
    }
   ],
   "source": [
    "# Valores invalidos o no necesarios:\n",
    "historia_vino.isna().sum()"
   ]
  },
  {
   "cell_type": "code",
   "execution_count": 51,
   "id": "4cf7430e",
   "metadata": {},
   "outputs": [
    {
     "data": {
      "text/plain": [
       "Continent         0\n",
       "Region/Country    0\n",
       "Product           0\n",
       "Variable          0\n",
       "Year              0\n",
       "Unit              0\n",
       "Quantity          0\n",
       "dtype: int64"
      ]
     },
     "execution_count": 51,
     "metadata": {},
     "output_type": "execute_result"
    }
   ],
   "source": [
    "# Eliminamos los valores nulos.\n",
    "historia_vino.dropna(how='all', inplace = True)\n",
    "historia_vino.isna().sum()"
   ]
  },
  {
   "cell_type": "code",
   "execution_count": 52,
   "id": "94d0370e",
   "metadata": {},
   "outputs": [
    {
     "data": {
      "text/plain": [
       "(52796, 7)"
      ]
     },
     "execution_count": 52,
     "metadata": {},
     "output_type": "execute_result"
    }
   ],
   "source": [
    "historia_vino.shape"
   ]
  },
  {
   "cell_type": "code",
   "execution_count": 54,
   "id": "7c4e9b8c",
   "metadata": {},
   "outputs": [
    {
     "data": {
      "text/html": [
       "<div>\n",
       "<style scoped>\n",
       "    .dataframe tbody tr th:only-of-type {\n",
       "        vertical-align: middle;\n",
       "    }\n",
       "\n",
       "    .dataframe tbody tr th {\n",
       "        vertical-align: top;\n",
       "    }\n",
       "\n",
       "    .dataframe thead th {\n",
       "        text-align: right;\n",
       "    }\n",
       "</style>\n",
       "<table border=\"1\" class=\"dataframe\">\n",
       "  <thead>\n",
       "    <tr style=\"text-align: right;\">\n",
       "      <th></th>\n",
       "      <th>Continent</th>\n",
       "      <th>Region/Country</th>\n",
       "      <th>Product</th>\n",
       "      <th>Variable</th>\n",
       "      <th>Year</th>\n",
       "      <th>Unit</th>\n",
       "      <th>Quantity</th>\n",
       "    </tr>\n",
       "  </thead>\n",
       "  <tbody>\n",
       "    <tr>\n",
       "      <th>0</th>\n",
       "      <td>Asia</td>\n",
       "      <td>Afganistán</td>\n",
       "      <td>Uvas de mesa</td>\n",
       "      <td>Consumo</td>\n",
       "      <td>1995.0</td>\n",
       "      <td>toneladas</td>\n",
       "      <td>189 800</td>\n",
       "    </tr>\n",
       "    <tr>\n",
       "      <th>1</th>\n",
       "      <td>Asia</td>\n",
       "      <td>Afganistán</td>\n",
       "      <td>Uvas pasas</td>\n",
       "      <td>Consumo</td>\n",
       "      <td>1995.0</td>\n",
       "      <td>toneladas</td>\n",
       "      <td>8 050</td>\n",
       "    </tr>\n",
       "    <tr>\n",
       "      <th>2</th>\n",
       "      <td>Asia</td>\n",
       "      <td>Afganistán</td>\n",
       "      <td>Uvas frescas</td>\n",
       "      <td>Exportaciones</td>\n",
       "      <td>1995.0</td>\n",
       "      <td>toneladas</td>\n",
       "      <td>11 500</td>\n",
       "    </tr>\n",
       "    <tr>\n",
       "      <th>3</th>\n",
       "      <td>Asia</td>\n",
       "      <td>Afganistán</td>\n",
       "      <td>Uvas pasas</td>\n",
       "      <td>Exportaciones</td>\n",
       "      <td>1995.0</td>\n",
       "      <td>toneladas</td>\n",
       "      <td>20 000</td>\n",
       "    </tr>\n",
       "    <tr>\n",
       "      <th>4</th>\n",
       "      <td>Asia</td>\n",
       "      <td>Afganistán</td>\n",
       "      <td>Uvas frescas</td>\n",
       "      <td>Importaciones</td>\n",
       "      <td>1995.0</td>\n",
       "      <td>toneladas</td>\n",
       "      <td>0</td>\n",
       "    </tr>\n",
       "  </tbody>\n",
       "</table>\n",
       "</div>"
      ],
      "text/plain": [
       "  Continent Region/Country       Product       Variable    Year       Unit  \\\n",
       "0      Asia     Afganistán  Uvas de mesa        Consumo  1995.0  toneladas   \n",
       "1      Asia     Afganistán    Uvas pasas        Consumo  1995.0  toneladas   \n",
       "2      Asia     Afganistán  Uvas frescas  Exportaciones  1995.0  toneladas   \n",
       "3      Asia     Afganistán    Uvas pasas  Exportaciones  1995.0  toneladas   \n",
       "4      Asia     Afganistán  Uvas frescas  Importaciones  1995.0  toneladas   \n",
       "\n",
       "   Quantity  \n",
       "0   189 800  \n",
       "1     8 050  \n",
       "2    11 500  \n",
       "3    20 000  \n",
       "4         0  "
      ]
     },
     "execution_count": 54,
     "metadata": {},
     "output_type": "execute_result"
    }
   ],
   "source": [
    "historia_vino.head()"
   ]
  },
  {
   "cell_type": "markdown",
   "id": "742bc5ae",
   "metadata": {},
   "source": [
    "### Tabla 2. referido a los datos obtenidos tras el escraping\n",
    "\n",
    "Comenzamos por importar el CSV tras el escraping"
   ]
  },
  {
   "cell_type": "code",
   "execution_count": 57,
   "id": "6e22fa19",
   "metadata": {},
   "outputs": [
    {
     "data": {
      "text/html": [
       "<div>\n",
       "<style scoped>\n",
       "    .dataframe tbody tr th:only-of-type {\n",
       "        vertical-align: middle;\n",
       "    }\n",
       "\n",
       "    .dataframe tbody tr th {\n",
       "        vertical-align: top;\n",
       "    }\n",
       "\n",
       "    .dataframe thead th {\n",
       "        text-align: right;\n",
       "    }\n",
       "</style>\n",
       "<table border=\"1\" class=\"dataframe\">\n",
       "  <thead>\n",
       "    <tr style=\"text-align: right;\">\n",
       "      <th></th>\n",
       "      <th>nombre</th>\n",
       "      <th>variedad</th>\n",
       "      <th>precio</th>\n",
       "      <th>volumen</th>\n",
       "      <th>graduacion</th>\n",
       "      <th>productor</th>\n",
       "      <th>pais</th>\n",
       "      <th>etiqueta</th>\n",
       "      <th>notas de cata</th>\n",
       "      <th>url</th>\n",
       "    </tr>\n",
       "  </thead>\n",
       "  <tbody>\n",
       "    <tr>\n",
       "      <th>0</th>\n",
       "      <td>Carl Jung RosÃ© â Vino Rosado Sin Alcohol</td>\n",
       "      <td>Vino Rosado Sin Alcohol</td>\n",
       "      <td>6.86</td>\n",
       "      <td>75</td>\n",
       "      <td>&lt;0,5 %</td>\n",
       "      <td>Carl Jung (Alemania)</td>\n",
       "      <td>Alemania</td>\n",
       "      <td>Vegano</td>\n",
       "      <td>De color rosa sutil, ligeramente brillante, fi...</td>\n",
       "      <td>https://www.thebluedolphinstore.com/producto/v...</td>\n",
       "    </tr>\n",
       "    <tr>\n",
       "      <th>1</th>\n",
       "      <td>Schloss Raggendorf Shiraz RosÃ© â Vino Rosad...</td>\n",
       "      <td>Vino Rosado Sin Alcohol</td>\n",
       "      <td>6.86</td>\n",
       "      <td>75</td>\n",
       "      <td>0,5%</td>\n",
       "      <td>Carl Jung (Alemania)</td>\n",
       "      <td>Alemania</td>\n",
       "      <td>Syrah</td>\n",
       "      <td>De color rosa sutil, ligeramente brillante, fi...</td>\n",
       "      <td>https://www.thebluedolphinstore.com/producto/v...</td>\n",
       "    </tr>\n",
       "    <tr>\n",
       "      <th>2</th>\n",
       "      <td>Carl Jung Cabernet Sauvignon â Vino Tinto Si...</td>\n",
       "      <td>Vino Rosado Sin Alcohol</td>\n",
       "      <td>6.86</td>\n",
       "      <td>75</td>\n",
       "      <td>&lt;0,5 %</td>\n",
       "      <td>Carl Jung (Alemania)</td>\n",
       "      <td>Alemania</td>\n",
       "      <td>Cabernet Sauvignon, Vegano</td>\n",
       "      <td>De color rosa sutil, ligeramente brillante, fi...</td>\n",
       "      <td>https://www.thebluedolphinstore.com/producto/v...</td>\n",
       "    </tr>\n",
       "    <tr>\n",
       "      <th>3</th>\n",
       "      <td>Carl Jung Merlot â Vino Tinto Sin Alcohol</td>\n",
       "      <td>Vino Rosado Sin Alcohol</td>\n",
       "      <td>6.86</td>\n",
       "      <td>75</td>\n",
       "      <td>&lt;0,5 %</td>\n",
       "      <td>Carl Jung (Alemania)</td>\n",
       "      <td>Alemania</td>\n",
       "      <td>Merlot, Vegano</td>\n",
       "      <td>De color rosa sutil, ligeramente brillante, fi...</td>\n",
       "      <td>https://www.thebluedolphinstore.com/producto/v...</td>\n",
       "    </tr>\n",
       "    <tr>\n",
       "      <th>4</th>\n",
       "      <td>Schloss Raggendorf Zweigelt â Vino Tinto Sin...</td>\n",
       "      <td>Vino Rosado Sin Alcohol</td>\n",
       "      <td>6.86</td>\n",
       "      <td>75</td>\n",
       "      <td>0,5%</td>\n",
       "      <td>Carl Jung (Alemania)</td>\n",
       "      <td>Alemania</td>\n",
       "      <td>No Disponible</td>\n",
       "      <td>De color rosa sutil, ligeramente brillante, fi...</td>\n",
       "      <td>https://www.thebluedolphinstore.com/producto/v...</td>\n",
       "    </tr>\n",
       "  </tbody>\n",
       "</table>\n",
       "</div>"
      ],
      "text/plain": [
       "                                              nombre                 variedad  \\\n",
       "0        Carl Jung RosÃ© â Vino Rosado Sin Alcohol  Vino Rosado Sin Alcohol   \n",
       "1  Schloss Raggendorf Shiraz RosÃ© â Vino Rosad...  Vino Rosado Sin Alcohol   \n",
       "2  Carl Jung Cabernet Sauvignon â Vino Tinto Si...  Vino Rosado Sin Alcohol   \n",
       "3        Carl Jung Merlot â Vino Tinto Sin Alcohol  Vino Rosado Sin Alcohol   \n",
       "4  Schloss Raggendorf Zweigelt â Vino Tinto Sin...  Vino Rosado Sin Alcohol   \n",
       "\n",
       "   precio  volumen graduacion             productor      pais  \\\n",
       "0    6.86       75     <0,5 %  Carl Jung (Alemania)  Alemania   \n",
       "1    6.86       75       0,5%  Carl Jung (Alemania)  Alemania   \n",
       "2    6.86       75     <0,5 %  Carl Jung (Alemania)  Alemania   \n",
       "3    6.86       75     <0,5 %  Carl Jung (Alemania)  Alemania   \n",
       "4    6.86       75       0,5%  Carl Jung (Alemania)  Alemania   \n",
       "\n",
       "                     etiqueta  \\\n",
       "0                      Vegano   \n",
       "1                       Syrah   \n",
       "2  Cabernet Sauvignon, Vegano   \n",
       "3              Merlot, Vegano   \n",
       "4               No Disponible   \n",
       "\n",
       "                                       notas de cata  \\\n",
       "0  De color rosa sutil, ligeramente brillante, fi...   \n",
       "1  De color rosa sutil, ligeramente brillante, fi...   \n",
       "2  De color rosa sutil, ligeramente brillante, fi...   \n",
       "3  De color rosa sutil, ligeramente brillante, fi...   \n",
       "4  De color rosa sutil, ligeramente brillante, fi...   \n",
       "\n",
       "                                                 url  \n",
       "0  https://www.thebluedolphinstore.com/producto/v...  \n",
       "1  https://www.thebluedolphinstore.com/producto/v...  \n",
       "2  https://www.thebluedolphinstore.com/producto/v...  \n",
       "3  https://www.thebluedolphinstore.com/producto/v...  \n",
       "4  https://www.thebluedolphinstore.com/producto/v...  "
      ]
     },
     "execution_count": 57,
     "metadata": {},
     "output_type": "execute_result"
    }
   ],
   "source": [
    "tipos_vino =  pd.read_csv('lista_vinos', encoding=\"latin\", sep=\",\")\n",
    "tipos_vino.head()"
   ]
  },
  {
   "cell_type": "code",
   "execution_count": 58,
   "id": "f9add09b",
   "metadata": {},
   "outputs": [
    {
     "data": {
      "text/plain": [
       "(63, 10)"
      ]
     },
     "execution_count": 58,
     "metadata": {},
     "output_type": "execute_result"
    }
   ],
   "source": [
    "tipos_vino.shape"
   ]
  },
  {
   "cell_type": "code",
   "execution_count": 59,
   "id": "389ae219",
   "metadata": {},
   "outputs": [
    {
     "data": {
      "text/plain": [
       "<bound method DataFrame.info of                                                nombre  \\\n",
       "0         Carl Jung RosÃ© â Vino Rosado Sin Alcohol   \n",
       "1   Schloss Raggendorf Shiraz RosÃ© â Vino Rosad...   \n",
       "2   Carl Jung Cabernet Sauvignon â Vino Tinto Si...   \n",
       "3         Carl Jung Merlot â Vino Tinto Sin Alcohol   \n",
       "4   Schloss Raggendorf Zweigelt â Vino Tinto Sin...   \n",
       "..                                                ...   \n",
       "58         Lussory AirÃ©n â Vino Sin Alcohol Blanco   \n",
       "59          Lussory Merlot â Vino Sin Alcohol Tinto   \n",
       "60     Lussory Tempranillo â Vino Sin Alcohol Tinto   \n",
       "61   Alternativa 0.0 Tinto â Vino Sin Alcohol Tinto   \n",
       "62  Ãlivo Zero Zero Blanco â Vino Sin Alcohol B...   \n",
       "\n",
       "                   variedad  precio  volumen graduacion  \\\n",
       "0   Vino Rosado Sin Alcohol    6.86       75     <0,5 %   \n",
       "1   Vino Rosado Sin Alcohol    6.86       75       0,5%   \n",
       "2   Vino Rosado Sin Alcohol    6.86       75     <0,5 %   \n",
       "3   Vino Rosado Sin Alcohol    6.86       75     <0,5 %   \n",
       "4   Vino Rosado Sin Alcohol    6.86       75       0,5%   \n",
       "..                      ...     ...      ...        ...   \n",
       "58  Vino Rosado Sin Alcohol    6.86       75      0,01%   \n",
       "59  Vino Rosado Sin Alcohol    6.86       75      0,02%   \n",
       "60  Vino Rosado Sin Alcohol    6.86       75       0,0%   \n",
       "61  Vino Rosado Sin Alcohol    6.86       75       0,0%   \n",
       "62  Vino Rosado Sin Alcohol    6.86       75       0,0%   \n",
       "\n",
       "                                            productor                 pais  \\\n",
       "0                                Carl Jung (Alemania)             Alemania   \n",
       "1                                Carl Jung (Alemania)             Alemania   \n",
       "2                                Carl Jung (Alemania)             Alemania   \n",
       "3                                Carl Jung (Alemania)             Alemania   \n",
       "4                                Carl Jung (Alemania)             Alemania   \n",
       "..                                                ...                  ...   \n",
       "58             Dismark Products (Galicia â EspaÃ±a)  Galicia â EspaÃ±a   \n",
       "59             Dismark Products (Galicia â EspaÃ±a)  Galicia â EspaÃ±a   \n",
       "60             Dismark Products (Galicia â EspaÃ±a)  Galicia â EspaÃ±a   \n",
       "61                                  Princess (Italia)               Italia   \n",
       "62  Mercantia Desarrollos Alimentarios (Galicia â...  Galicia â EspaÃ±a   \n",
       "\n",
       "                                             etiqueta  \\\n",
       "0                                              Vegano   \n",
       "1                                               Syrah   \n",
       "2                          Cabernet Sauvignon, Vegano   \n",
       "3                                      Merlot, Vegano   \n",
       "4                                       No Disponible   \n",
       "..                                                ...   \n",
       "58  AirÃ©n, Bajo o Sin CalorÃ­as, Halal, Natural, ...   \n",
       "59  Bajo o Sin CalorÃ­as, Halal, Merlot, Natural, ...   \n",
       "60  Bajo o Sin CalorÃ­as, Halal, Natural, Sin sabo...   \n",
       "61    Bajo o Sin CalorÃ­as, Natural, Sin saborizantes   \n",
       "62                       AirÃ©n, Bajo o Sin CalorÃ­as   \n",
       "\n",
       "                                        notas de cata  \\\n",
       "0   De color rosa sutil, ligeramente brillante, fi...   \n",
       "1   De color rosa sutil, ligeramente brillante, fi...   \n",
       "2   De color rosa sutil, ligeramente brillante, fi...   \n",
       "3   De color rosa sutil, ligeramente brillante, fi...   \n",
       "4   De color rosa sutil, ligeramente brillante, fi...   \n",
       "..                                                ...   \n",
       "58  De color rosa sutil, ligeramente brillante, fi...   \n",
       "59  De color rosa sutil, ligeramente brillante, fi...   \n",
       "60  De color rosa sutil, ligeramente brillante, fi...   \n",
       "61  De color rosa sutil, ligeramente brillante, fi...   \n",
       "62  De color rosa sutil, ligeramente brillante, fi...   \n",
       "\n",
       "                                                  url  \n",
       "0   https://www.thebluedolphinstore.com/producto/v...  \n",
       "1   https://www.thebluedolphinstore.com/producto/v...  \n",
       "2   https://www.thebluedolphinstore.com/producto/v...  \n",
       "3   https://www.thebluedolphinstore.com/producto/v...  \n",
       "4   https://www.thebluedolphinstore.com/producto/v...  \n",
       "..                                                ...  \n",
       "58  https://www.thebluedolphinstore.com/producto/v...  \n",
       "59  https://www.thebluedolphinstore.com/producto/v...  \n",
       "60  https://www.thebluedolphinstore.com/producto/v...  \n",
       "61  https://www.thebluedolphinstore.com/producto/v...  \n",
       "62  https://www.thebluedolphinstore.com/producto/v...  \n",
       "\n",
       "[63 rows x 10 columns]>"
      ]
     },
     "execution_count": 59,
     "metadata": {},
     "output_type": "execute_result"
    }
   ],
   "source": [
    "tipos_vino.info"
   ]
  },
  {
   "cell_type": "code",
   "execution_count": 62,
   "id": "cc457bef",
   "metadata": {},
   "outputs": [
    {
     "data": {
      "text/html": [
       "<div>\n",
       "<style scoped>\n",
       "    .dataframe tbody tr th:only-of-type {\n",
       "        vertical-align: middle;\n",
       "    }\n",
       "\n",
       "    .dataframe tbody tr th {\n",
       "        vertical-align: top;\n",
       "    }\n",
       "\n",
       "    .dataframe thead th {\n",
       "        text-align: right;\n",
       "    }\n",
       "</style>\n",
       "<table border=\"1\" class=\"dataframe\">\n",
       "  <thead>\n",
       "    <tr style=\"text-align: right;\">\n",
       "      <th></th>\n",
       "      <th>precio</th>\n",
       "      <th>volumen</th>\n",
       "    </tr>\n",
       "  </thead>\n",
       "  <tbody>\n",
       "    <tr>\n",
       "      <th>count</th>\n",
       "      <td>6.300000e+01</td>\n",
       "      <td>63.0</td>\n",
       "    </tr>\n",
       "    <tr>\n",
       "      <th>mean</th>\n",
       "      <td>6.860000e+00</td>\n",
       "      <td>75.0</td>\n",
       "    </tr>\n",
       "    <tr>\n",
       "      <th>std</th>\n",
       "      <td>8.953125e-15</td>\n",
       "      <td>0.0</td>\n",
       "    </tr>\n",
       "    <tr>\n",
       "      <th>min</th>\n",
       "      <td>6.860000e+00</td>\n",
       "      <td>75.0</td>\n",
       "    </tr>\n",
       "    <tr>\n",
       "      <th>25%</th>\n",
       "      <td>6.860000e+00</td>\n",
       "      <td>75.0</td>\n",
       "    </tr>\n",
       "    <tr>\n",
       "      <th>50%</th>\n",
       "      <td>6.860000e+00</td>\n",
       "      <td>75.0</td>\n",
       "    </tr>\n",
       "    <tr>\n",
       "      <th>75%</th>\n",
       "      <td>6.860000e+00</td>\n",
       "      <td>75.0</td>\n",
       "    </tr>\n",
       "    <tr>\n",
       "      <th>max</th>\n",
       "      <td>6.860000e+00</td>\n",
       "      <td>75.0</td>\n",
       "    </tr>\n",
       "  </tbody>\n",
       "</table>\n",
       "</div>"
      ],
      "text/plain": [
       "             precio  volumen\n",
       "count  6.300000e+01     63.0\n",
       "mean   6.860000e+00     75.0\n",
       "std    8.953125e-15      0.0\n",
       "min    6.860000e+00     75.0\n",
       "25%    6.860000e+00     75.0\n",
       "50%    6.860000e+00     75.0\n",
       "75%    6.860000e+00     75.0\n",
       "max    6.860000e+00     75.0"
      ]
     },
     "execution_count": 62,
     "metadata": {},
     "output_type": "execute_result"
    }
   ],
   "source": [
    "tipos_vino.describe()"
   ]
  },
  {
   "cell_type": "markdown",
   "id": "3df5dcf9",
   "metadata": {},
   "source": [
    "b) Limpieza de datos\n",
    "\n",
    "Revisamos si existen columnas no informativas y columnas con valores constantes.\n",
    "Eliminaremos las columnas que no necesitemos.\n",
    "Unificaremos criterios para estandarizar la tabla."
   ]
  },
  {
   "cell_type": "code",
   "execution_count": 68,
   "id": "529cc070",
   "metadata": {},
   "outputs": [
    {
     "data": {
      "text/plain": [
       "Index(['nombre', 'variedad', 'precio', 'volumen', 'graduacion', 'productor',\n",
       "       'pais', 'etiqueta', 'notas de cata', 'url'],\n",
       "      dtype='object')"
      ]
     },
     "execution_count": 68,
     "metadata": {},
     "output_type": "execute_result"
    }
   ],
   "source": [
    "# Hay un criterio unificado en todas las columnas\n",
    "# Estandarizamos cada nombre de columna con la primera letra en mayuscula y posterior minusculas.\n",
    "# En este caso no es necesario utilizar ningun metodo ni función prederterminada.\n",
    "# No es necesario renombrar ninguna columna.\n",
    "# Es importante que todas lleven el mismo formato.\n",
    "\n",
    "tipos_vino.columns"
   ]
  },
  {
   "cell_type": "code",
   "execution_count": 71,
   "id": "71d2de91",
   "metadata": {
    "scrolled": true
   },
   "outputs": [
    {
     "data": {
      "text/plain": [
       "Index(['Nombre', 'Variedad', 'Precio', 'Volumen', 'Graduacion', 'Productor',\n",
       "       'Pais', 'Etiqueta', 'Notas de cata', 'Url'],\n",
       "      dtype='object')"
      ]
     },
     "execution_count": 71,
     "metadata": {},
     "output_type": "execute_result"
    }
   ],
   "source": [
    "tipos_vino.columns =  tipos_vino.columns.str.capitalize()\n",
    "tipos_vino.columns"
   ]
  },
  {
   "cell_type": "code",
   "execution_count": 72,
   "id": "0c399af1",
   "metadata": {
    "scrolled": true
   },
   "outputs": [
    {
     "data": {
      "text/plain": [
       "0"
      ]
     },
     "execution_count": 72,
     "metadata": {},
     "output_type": "execute_result"
    }
   ],
   "source": [
    "# Valores duplicados:\n",
    "tipos_vino.duplicated().sum()"
   ]
  },
  {
   "cell_type": "code",
   "execution_count": 73,
   "id": "fe3dc9f8",
   "metadata": {},
   "outputs": [
    {
     "data": {
      "text/plain": [
       "Nombre           0\n",
       "Variedad         0\n",
       "Precio           0\n",
       "Volumen          0\n",
       "Graduacion       0\n",
       "Productor        0\n",
       "Pais             0\n",
       "Etiqueta         0\n",
       "Notas de cata    0\n",
       "Url              0\n",
       "dtype: int64"
      ]
     },
     "execution_count": 73,
     "metadata": {},
     "output_type": "execute_result"
    }
   ],
   "source": [
    "# Valores invalidos o no necesarios:\n",
    "tipos_vino.isna().sum()"
   ]
  }
 ],
 "metadata": {
  "kernelspec": {
   "display_name": "Python 3 (ipykernel)",
   "language": "python",
   "name": "python3"
  },
  "language_info": {
   "codemirror_mode": {
    "name": "ipython",
    "version": 3
   },
   "file_extension": ".py",
   "mimetype": "text/x-python",
   "name": "python",
   "nbconvert_exporter": "python",
   "pygments_lexer": "ipython3",
   "version": "3.11.5"
  }
 },
 "nbformat": 4,
 "nbformat_minor": 5
}
