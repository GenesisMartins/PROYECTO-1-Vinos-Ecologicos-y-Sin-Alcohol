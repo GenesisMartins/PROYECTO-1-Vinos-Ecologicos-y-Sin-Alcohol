{
 "cells": [
  {
   "cell_type": "markdown",
   "id": "390e4d6b",
   "metadata": {},
   "source": [
    "# 1.2 Limpieza"
   ]
  },
  {
   "cell_type": "markdown",
   "id": "4cd033c6",
   "metadata": {},
   "source": [
    "Descarga de base de datos mundial obtenida de la Organización de la Viña y el vino.\n",
    "\n",
    "\n",
    "Fuente: https://www.oiv.int/es/que-hacemos/datos"
   ]
  },
  {
   "cell_type": "markdown",
   "id": "2580c02d",
   "metadata": {},
   "source": [
    "#### Paso 1 Descripción de los datos"
   ]
  },
  {
   "cell_type": "markdown",
   "id": "c065ed25",
   "metadata": {},
   "source": [
    "El objetivo de este notebook es limpiar los datasets de registros duplicados, valores nulos, consistencia en el tipo de dato, etc.\n",
    "\n",
    "### Tabla 1. referido al consumo del vino a lo largo de la historia alrededor del mundo.\n",
    "\n",
    "Comenzamos por importar un CSV "
   ]
  },
  {
   "cell_type": "code",
   "execution_count": 76,
   "id": "50932215",
   "metadata": {},
   "outputs": [],
   "source": [
    "#Importamos Librerias\n",
    "\n",
    "import pandas as pd"
   ]
  },
  {
   "cell_type": "code",
   "execution_count": 77,
   "id": "eb578045",
   "metadata": {
    "scrolled": true
   },
   "outputs": [
    {
     "data": {
      "text/html": [
       "<div>\n",
       "<style scoped>\n",
       "    .dataframe tbody tr th:only-of-type {\n",
       "        vertical-align: middle;\n",
       "    }\n",
       "\n",
       "    .dataframe tbody tr th {\n",
       "        vertical-align: top;\n",
       "    }\n",
       "\n",
       "    .dataframe thead th {\n",
       "        text-align: right;\n",
       "    }\n",
       "</style>\n",
       "<table border=\"1\" class=\"dataframe\">\n",
       "  <thead>\n",
       "    <tr style=\"text-align: right;\">\n",
       "      <th></th>\n",
       "      <th>Continent</th>\n",
       "      <th>Region/Country</th>\n",
       "      <th>Product</th>\n",
       "      <th>Variable</th>\n",
       "      <th>Year</th>\n",
       "      <th>Unit</th>\n",
       "      <th>Quantity</th>\n",
       "    </tr>\n",
       "  </thead>\n",
       "  <tbody>\n",
       "    <tr>\n",
       "      <th>0</th>\n",
       "      <td>Asia</td>\n",
       "      <td>Afganistán</td>\n",
       "      <td>Uvas de mesa</td>\n",
       "      <td>Consumo</td>\n",
       "      <td>1995.0</td>\n",
       "      <td>toneladas</td>\n",
       "      <td>189 800</td>\n",
       "    </tr>\n",
       "    <tr>\n",
       "      <th>1</th>\n",
       "      <td>Asia</td>\n",
       "      <td>Afganistán</td>\n",
       "      <td>Uvas pasas</td>\n",
       "      <td>Consumo</td>\n",
       "      <td>1995.0</td>\n",
       "      <td>toneladas</td>\n",
       "      <td>8 050</td>\n",
       "    </tr>\n",
       "    <tr>\n",
       "      <th>2</th>\n",
       "      <td>Asia</td>\n",
       "      <td>Afganistán</td>\n",
       "      <td>Uvas frescas</td>\n",
       "      <td>Exportaciones</td>\n",
       "      <td>1995.0</td>\n",
       "      <td>toneladas</td>\n",
       "      <td>11 500</td>\n",
       "    </tr>\n",
       "    <tr>\n",
       "      <th>3</th>\n",
       "      <td>Asia</td>\n",
       "      <td>Afganistán</td>\n",
       "      <td>Uvas pasas</td>\n",
       "      <td>Exportaciones</td>\n",
       "      <td>1995.0</td>\n",
       "      <td>toneladas</td>\n",
       "      <td>20 000</td>\n",
       "    </tr>\n",
       "    <tr>\n",
       "      <th>4</th>\n",
       "      <td>Asia</td>\n",
       "      <td>Afganistán</td>\n",
       "      <td>Uvas frescas</td>\n",
       "      <td>Importaciones</td>\n",
       "      <td>1995.0</td>\n",
       "      <td>toneladas</td>\n",
       "      <td>0</td>\n",
       "    </tr>\n",
       "  </tbody>\n",
       "</table>\n",
       "</div>"
      ],
      "text/plain": [
       "  Continent Region/Country       Product       Variable    Year       Unit  \\\n",
       "0      Asia     Afganistán  Uvas de mesa        Consumo  1995.0  toneladas   \n",
       "1      Asia     Afganistán    Uvas pasas        Consumo  1995.0  toneladas   \n",
       "2      Asia     Afganistán  Uvas frescas  Exportaciones  1995.0  toneladas   \n",
       "3      Asia     Afganistán    Uvas pasas  Exportaciones  1995.0  toneladas   \n",
       "4      Asia     Afganistán  Uvas frescas  Importaciones  1995.0  toneladas   \n",
       "\n",
       "   Quantity  \n",
       "0   189 800  \n",
       "1     8 050  \n",
       "2    11 500  \n",
       "3    20 000  \n",
       "4         0  "
      ]
     },
     "execution_count": 77,
     "metadata": {},
     "output_type": "execute_result"
    }
   ],
   "source": [
    "historia_vino = pd.read_csv('csv_data_vinos_OVI.csv', encoding=\"latin\", sep=\";\")\n",
    "historia_vino.head()"
   ]
  },
  {
   "cell_type": "code",
   "execution_count": 78,
   "id": "fbd5348c",
   "metadata": {},
   "outputs": [
    {
     "data": {
      "text/plain": [
       "(52798, 7)"
      ]
     },
     "execution_count": 78,
     "metadata": {},
     "output_type": "execute_result"
    }
   ],
   "source": [
    "historia_vino.shape"
   ]
  },
  {
   "cell_type": "code",
   "execution_count": 79,
   "id": "1ca4bc4b",
   "metadata": {
    "scrolled": true
   },
   "outputs": [
    {
     "name": "stdout",
     "output_type": "stream",
     "text": [
      "<class 'pandas.core.frame.DataFrame'>\n",
      "RangeIndex: 52798 entries, 0 to 52797\n",
      "Data columns (total 7 columns):\n",
      " #   Column          Non-Null Count  Dtype  \n",
      "---  ------          --------------  -----  \n",
      " 0   Continent       52797 non-null  object \n",
      " 1   Region/Country  52796 non-null  object \n",
      " 2   Product         52796 non-null  object \n",
      " 3   Variable        52796 non-null  object \n",
      " 4   Year            52796 non-null  float64\n",
      " 5   Unit            52796 non-null  object \n",
      " 6   Quantity        52796 non-null  object \n",
      "dtypes: float64(1), object(6)\n",
      "memory usage: 2.8+ MB\n"
     ]
    }
   ],
   "source": [
    "historia_vino.info()"
   ]
  },
  {
   "cell_type": "code",
   "execution_count": 80,
   "id": "65c2256b",
   "metadata": {
    "scrolled": true
   },
   "outputs": [
    {
     "data": {
      "text/html": [
       "<div>\n",
       "<style scoped>\n",
       "    .dataframe tbody tr th:only-of-type {\n",
       "        vertical-align: middle;\n",
       "    }\n",
       "\n",
       "    .dataframe tbody tr th {\n",
       "        vertical-align: top;\n",
       "    }\n",
       "\n",
       "    .dataframe thead th {\n",
       "        text-align: right;\n",
       "    }\n",
       "</style>\n",
       "<table border=\"1\" class=\"dataframe\">\n",
       "  <thead>\n",
       "    <tr style=\"text-align: right;\">\n",
       "      <th></th>\n",
       "      <th>Year</th>\n",
       "    </tr>\n",
       "  </thead>\n",
       "  <tbody>\n",
       "    <tr>\n",
       "      <th>count</th>\n",
       "      <td>52796.000000</td>\n",
       "    </tr>\n",
       "    <tr>\n",
       "      <th>mean</th>\n",
       "      <td>2008.086105</td>\n",
       "    </tr>\n",
       "    <tr>\n",
       "      <th>std</th>\n",
       "      <td>7.857716</td>\n",
       "    </tr>\n",
       "    <tr>\n",
       "      <th>min</th>\n",
       "      <td>1995.000000</td>\n",
       "    </tr>\n",
       "    <tr>\n",
       "      <th>25%</th>\n",
       "      <td>2001.000000</td>\n",
       "    </tr>\n",
       "    <tr>\n",
       "      <th>50%</th>\n",
       "      <td>2008.000000</td>\n",
       "    </tr>\n",
       "    <tr>\n",
       "      <th>75%</th>\n",
       "      <td>2015.000000</td>\n",
       "    </tr>\n",
       "    <tr>\n",
       "      <th>max</th>\n",
       "      <td>2023.000000</td>\n",
       "    </tr>\n",
       "  </tbody>\n",
       "</table>\n",
       "</div>"
      ],
      "text/plain": [
       "               Year\n",
       "count  52796.000000\n",
       "mean    2008.086105\n",
       "std        7.857716\n",
       "min     1995.000000\n",
       "25%     2001.000000\n",
       "50%     2008.000000\n",
       "75%     2015.000000\n",
       "max     2023.000000"
      ]
     },
     "execution_count": 80,
     "metadata": {},
     "output_type": "execute_result"
    }
   ],
   "source": [
    "historia_vino.describe()"
   ]
  },
  {
   "cell_type": "markdown",
   "id": "2a1210a8",
   "metadata": {},
   "source": [
    "a) Limpieza de datos\n",
    "1. Revisamos si existen columnas no informativas y columnas con valores constantes.\n",
    "2. Eliminaremos las columnas que no necesitemos.\n",
    "3. Unificaremos criterios para estandarizar la tabla.\n",
    "\n",
    "Veamos de una en una cada columna:\n",
    "    1. Continent = Refiere al continente donde se ubica la data.\n",
    "    2. Region = País donde se ubica la data.\n",
    "    3. Product = tipo de material utilizado, en este caso la Uva.\n",
    "    4. Variable = Refiere a importación, exportación o consumo.\n",
    "    5. Year = Año al que refiere la data.\n",
    "    6. Unit = Unidad de medida utilizado, en este caso, toneladas.\n",
    "    7. Quantity = Cantidad de toneladas al año"
   ]
  },
  {
   "cell_type": "code",
   "execution_count": 111,
   "id": "30db9432",
   "metadata": {
    "scrolled": true
   },
   "outputs": [
    {
     "data": {
      "text/plain": [
       "Index(['Continent', 'Region/Country', 'Product', 'Variable', 'Year', 'Unit',\n",
       "       'Quantity'],\n",
       "      dtype='object')"
      ]
     },
     "execution_count": 111,
     "metadata": {},
     "output_type": "execute_result"
    }
   ],
   "source": [
    "# Hay un criterio unificado en todas las columnas, cada una comienza con la primera letra en mayuscula y posterior minusculas.\n",
    "# En este caso no es necesario utilizar ningun metodo ni función prederterminada.\n",
    "# No es necesario renombrar ninguna columna.\n",
    "# Es importante que todas lleven el mismo formato.\n",
    "historia_vino.columns"
   ]
  },
  {
   "cell_type": "code",
   "execution_count": 112,
   "id": "f7a2af39",
   "metadata": {},
   "outputs": [
    {
     "data": {
      "text/plain": [
       "0"
      ]
     },
     "execution_count": 112,
     "metadata": {},
     "output_type": "execute_result"
    }
   ],
   "source": [
    "# Valores duplicados:\n",
    "historia_vino.duplicated().sum()"
   ]
  },
  {
   "cell_type": "code",
   "execution_count": 113,
   "id": "32b80963",
   "metadata": {},
   "outputs": [
    {
     "data": {
      "text/plain": [
       "0"
      ]
     },
     "execution_count": 113,
     "metadata": {},
     "output_type": "execute_result"
    }
   ],
   "source": [
    "# Eliminamos el valor duplicado: \n",
    "historia_vino.drop_duplicates(inplace=True)\n",
    "\n",
    "historia_vino.duplicated().sum()"
   ]
  },
  {
   "cell_type": "code",
   "execution_count": 114,
   "id": "80a982c7",
   "metadata": {},
   "outputs": [
    {
     "data": {
      "text/plain": [
       "Continent         0\n",
       "Region/Country    1\n",
       "Product           1\n",
       "Variable          1\n",
       "Year              1\n",
       "Unit              1\n",
       "Quantity          1\n",
       "dtype: int64"
      ]
     },
     "execution_count": 114,
     "metadata": {},
     "output_type": "execute_result"
    }
   ],
   "source": [
    "# Valores invalidos o no necesarios:\n",
    "historia_vino.isna().sum()"
   ]
  },
  {
   "cell_type": "code",
   "execution_count": 115,
   "id": "1504e039",
   "metadata": {},
   "outputs": [
    {
     "data": {
      "text/plain": [
       "Continent         0\n",
       "Region/Country    1\n",
       "Product           1\n",
       "Variable          1\n",
       "Year              1\n",
       "Unit              1\n",
       "Quantity          1\n",
       "dtype: int64"
      ]
     },
     "execution_count": 115,
     "metadata": {},
     "output_type": "execute_result"
    }
   ],
   "source": [
    "# Eliminamos los valores nulos.\n",
    "historia_vino.dropna(how='all', inplace = True)\n",
    "historia_vino.isna().sum()"
   ]
  },
  {
   "cell_type": "code",
   "execution_count": 116,
   "id": "cbc77bca",
   "metadata": {},
   "outputs": [
    {
     "data": {
      "text/plain": [
       "(52797, 7)"
      ]
     },
     "execution_count": 116,
     "metadata": {},
     "output_type": "execute_result"
    }
   ],
   "source": [
    "historia_vino.shape"
   ]
  },
  {
   "cell_type": "code",
   "execution_count": 117,
   "id": "379d2055",
   "metadata": {},
   "outputs": [
    {
     "data": {
      "text/html": [
       "<div>\n",
       "<style scoped>\n",
       "    .dataframe tbody tr th:only-of-type {\n",
       "        vertical-align: middle;\n",
       "    }\n",
       "\n",
       "    .dataframe tbody tr th {\n",
       "        vertical-align: top;\n",
       "    }\n",
       "\n",
       "    .dataframe thead th {\n",
       "        text-align: right;\n",
       "    }\n",
       "</style>\n",
       "<table border=\"1\" class=\"dataframe\">\n",
       "  <thead>\n",
       "    <tr style=\"text-align: right;\">\n",
       "      <th></th>\n",
       "      <th>Continent</th>\n",
       "      <th>Region/Country</th>\n",
       "      <th>Product</th>\n",
       "      <th>Variable</th>\n",
       "      <th>Year</th>\n",
       "      <th>Unit</th>\n",
       "      <th>Quantity</th>\n",
       "    </tr>\n",
       "  </thead>\n",
       "  <tbody>\n",
       "    <tr>\n",
       "      <th>0</th>\n",
       "      <td>Asia</td>\n",
       "      <td>Afganistán</td>\n",
       "      <td>Uvas de mesa</td>\n",
       "      <td>Consumo</td>\n",
       "      <td>1995.0</td>\n",
       "      <td>toneladas</td>\n",
       "      <td>189 800</td>\n",
       "    </tr>\n",
       "    <tr>\n",
       "      <th>1</th>\n",
       "      <td>Asia</td>\n",
       "      <td>Afganistán</td>\n",
       "      <td>Uvas pasas</td>\n",
       "      <td>Consumo</td>\n",
       "      <td>1995.0</td>\n",
       "      <td>toneladas</td>\n",
       "      <td>8 050</td>\n",
       "    </tr>\n",
       "    <tr>\n",
       "      <th>2</th>\n",
       "      <td>Asia</td>\n",
       "      <td>Afganistán</td>\n",
       "      <td>Uvas frescas</td>\n",
       "      <td>Exportaciones</td>\n",
       "      <td>1995.0</td>\n",
       "      <td>toneladas</td>\n",
       "      <td>11 500</td>\n",
       "    </tr>\n",
       "    <tr>\n",
       "      <th>3</th>\n",
       "      <td>Asia</td>\n",
       "      <td>Afganistán</td>\n",
       "      <td>Uvas pasas</td>\n",
       "      <td>Exportaciones</td>\n",
       "      <td>1995.0</td>\n",
       "      <td>toneladas</td>\n",
       "      <td>20 000</td>\n",
       "    </tr>\n",
       "    <tr>\n",
       "      <th>4</th>\n",
       "      <td>Asia</td>\n",
       "      <td>Afganistán</td>\n",
       "      <td>Uvas frescas</td>\n",
       "      <td>Importaciones</td>\n",
       "      <td>1995.0</td>\n",
       "      <td>toneladas</td>\n",
       "      <td>0</td>\n",
       "    </tr>\n",
       "  </tbody>\n",
       "</table>\n",
       "</div>"
      ],
      "text/plain": [
       "  Continent Region/Country       Product       Variable    Year       Unit  \\\n",
       "0      Asia     Afganistán  Uvas de mesa        Consumo  1995.0  toneladas   \n",
       "1      Asia     Afganistán    Uvas pasas        Consumo  1995.0  toneladas   \n",
       "2      Asia     Afganistán  Uvas frescas  Exportaciones  1995.0  toneladas   \n",
       "3      Asia     Afganistán    Uvas pasas  Exportaciones  1995.0  toneladas   \n",
       "4      Asia     Afganistán  Uvas frescas  Importaciones  1995.0  toneladas   \n",
       "\n",
       "   Quantity  \n",
       "0   189 800  \n",
       "1     8 050  \n",
       "2    11 500  \n",
       "3    20 000  \n",
       "4         0  "
      ]
     },
     "execution_count": 117,
     "metadata": {},
     "output_type": "execute_result"
    }
   ],
   "source": [
    "historia_vino.head()"
   ]
  },
  {
   "cell_type": "markdown",
   "id": "adbfb833",
   "metadata": {},
   "source": [
    "### Tabla 2. referido a los datos obtenidos tras el escraping\n",
    "\n",
    "Comenzamos por importar el CSV tras el escraping"
   ]
  },
  {
   "cell_type": "code",
   "execution_count": 197,
   "id": "a5639a92",
   "metadata": {},
   "outputs": [],
   "source": [
    "nombre =  pd.read_csv('listado.csv', encoding=\"latin\", sep=\",\")\n",
    "informacion =  pd.read_csv('listado2.csv', encoding=\"latin\", sep=\",\")\n",
    "nutricional = pd.read_csv('listado3.csv', encoding=\"latin\", sep=\",\")"
   ]
  },
  {
   "cell_type": "markdown",
   "id": "ca8aafdb",
   "metadata": {},
   "source": [
    "Concatenamos las tres tablas:"
   ]
  },
  {
   "cell_type": "code",
   "execution_count": 198,
   "id": "ff4ff5a2",
   "metadata": {},
   "outputs": [
    {
     "data": {
      "text/html": [
       "<div>\n",
       "<style scoped>\n",
       "    .dataframe tbody tr th:only-of-type {\n",
       "        vertical-align: middle;\n",
       "    }\n",
       "\n",
       "    .dataframe tbody tr th {\n",
       "        vertical-align: top;\n",
       "    }\n",
       "\n",
       "    .dataframe thead th {\n",
       "        text-align: right;\n",
       "    }\n",
       "</style>\n",
       "<table border=\"1\" class=\"dataframe\">\n",
       "  <thead>\n",
       "    <tr style=\"text-align: right;\">\n",
       "      <th></th>\n",
       "      <th>nombre</th>\n",
       "      <th>variedad</th>\n",
       "      <th>precio</th>\n",
       "      <th>volumen</th>\n",
       "      <th>graduacion</th>\n",
       "      <th>productor</th>\n",
       "      <th>pais</th>\n",
       "      <th>etiqueta</th>\n",
       "      <th>notas de cata</th>\n",
       "      <th>url</th>\n",
       "      <th>calorias</th>\n",
       "      <th>proteinas</th>\n",
       "      <th>grasa</th>\n",
       "      <th>hidratos de carbono</th>\n",
       "      <th>azucar</th>\n",
       "      <th>sal</th>\n",
       "    </tr>\n",
       "  </thead>\n",
       "  <tbody>\n",
       "    <tr>\n",
       "      <th>0</th>\n",
       "      <td>Carl Jung RosÃ© â Vino Rosado Sin Alcohol</td>\n",
       "      <td>Vino Rosado Sin Alcohol</td>\n",
       "      <td>6.86</td>\n",
       "      <td>75</td>\n",
       "      <td>&lt;0,5 %</td>\n",
       "      <td>Carl Jung (Alemania)</td>\n",
       "      <td>Alemania</td>\n",
       "      <td>Vegano</td>\n",
       "      <td>De color rosa sutil, ligeramente brillante, fi...</td>\n",
       "      <td>https://www.thebluedolphinstore.com/producto/v...</td>\n",
       "      <td>19,4</td>\n",
       "      <td>0,0</td>\n",
       "      <td>0,0</td>\n",
       "      <td>4,2</td>\n",
       "      <td>3,5</td>\n",
       "      <td>&lt;0,1 g</td>\n",
       "    </tr>\n",
       "    <tr>\n",
       "      <th>1</th>\n",
       "      <td>Schloss Raggendorf Shiraz RosÃ© â Vino Rosad...</td>\n",
       "      <td>Vino Rosado Sin Alcohol</td>\n",
       "      <td>6.86</td>\n",
       "      <td>75</td>\n",
       "      <td>0,5%</td>\n",
       "      <td>Carl Jung (Alemania)</td>\n",
       "      <td>Alemania</td>\n",
       "      <td>Syrah</td>\n",
       "      <td>De color rosa sutil, ligeramente brillante, fi...</td>\n",
       "      <td>https://www.thebluedolphinstore.com/producto/v...</td>\n",
       "      <td>79.(</td>\n",
       "      <td>0,5</td>\n",
       "      <td>0,0</td>\n",
       "      <td>4,8</td>\n",
       "      <td>4,2</td>\n",
       "      <td>&lt;0,1 g</td>\n",
       "    </tr>\n",
       "    <tr>\n",
       "      <th>2</th>\n",
       "      <td>Carl Jung Cabernet Sauvignon â Vino Tinto Si...</td>\n",
       "      <td>Vino Rosado Sin Alcohol</td>\n",
       "      <td>6.86</td>\n",
       "      <td>75</td>\n",
       "      <td>&lt;0,5 %</td>\n",
       "      <td>Carl Jung (Alemania)</td>\n",
       "      <td>Alemania</td>\n",
       "      <td>Cabernet Sauvignon, Vegano</td>\n",
       "      <td>De color rosa sutil, ligeramente brillante, fi...</td>\n",
       "      <td>https://www.thebluedolphinstore.com/producto/v...</td>\n",
       "      <td>19,4</td>\n",
       "      <td>0,0</td>\n",
       "      <td>0,0</td>\n",
       "      <td>4,2</td>\n",
       "      <td>3,5</td>\n",
       "      <td>&lt;0,1 g</td>\n",
       "    </tr>\n",
       "    <tr>\n",
       "      <th>3</th>\n",
       "      <td>Carl Jung Merlot â Vino Tinto Sin Alcohol</td>\n",
       "      <td>Vino Rosado Sin Alcohol</td>\n",
       "      <td>6.86</td>\n",
       "      <td>75</td>\n",
       "      <td>&lt;0,5 %</td>\n",
       "      <td>Carl Jung (Alemania)</td>\n",
       "      <td>Alemania</td>\n",
       "      <td>Merlot, Vegano</td>\n",
       "      <td>De color rosa sutil, ligeramente brillante, fi...</td>\n",
       "      <td>https://www.thebluedolphinstore.com/producto/v...</td>\n",
       "      <td>22,9</td>\n",
       "      <td>0,0</td>\n",
       "      <td>0,0</td>\n",
       "      <td>4,7</td>\n",
       "      <td>4,0</td>\n",
       "      <td>&lt;0,1 g</td>\n",
       "    </tr>\n",
       "    <tr>\n",
       "      <th>4</th>\n",
       "      <td>Schloss Raggendorf Zweigelt â Vino Tinto Sin...</td>\n",
       "      <td>Vino Rosado Sin Alcohol</td>\n",
       "      <td>6.86</td>\n",
       "      <td>75</td>\n",
       "      <td>0,5%</td>\n",
       "      <td>Carl Jung (Alemania)</td>\n",
       "      <td>Alemania</td>\n",
       "      <td>No Disponible</td>\n",
       "      <td>De color rosa sutil, ligeramente brillante, fi...</td>\n",
       "      <td>https://www.thebluedolphinstore.com/producto/v...</td>\n",
       "      <td>95.(</td>\n",
       "      <td>0,5</td>\n",
       "      <td>0,3</td>\n",
       "      <td>5,6</td>\n",
       "      <td>4,6</td>\n",
       "      <td>&lt;0,1 g</td>\n",
       "    </tr>\n",
       "  </tbody>\n",
       "</table>\n",
       "</div>"
      ],
      "text/plain": [
       "                                              nombre                 variedad  \\\n",
       "0        Carl Jung RosÃ© â Vino Rosado Sin Alcohol  Vino Rosado Sin Alcohol   \n",
       "1  Schloss Raggendorf Shiraz RosÃ© â Vino Rosad...  Vino Rosado Sin Alcohol   \n",
       "2  Carl Jung Cabernet Sauvignon â Vino Tinto Si...  Vino Rosado Sin Alcohol   \n",
       "3        Carl Jung Merlot â Vino Tinto Sin Alcohol  Vino Rosado Sin Alcohol   \n",
       "4  Schloss Raggendorf Zweigelt â Vino Tinto Sin...  Vino Rosado Sin Alcohol   \n",
       "\n",
       "   precio  volumen graduacion             productor      pais  \\\n",
       "0    6.86       75     <0,5 %  Carl Jung (Alemania)  Alemania   \n",
       "1    6.86       75       0,5%  Carl Jung (Alemania)  Alemania   \n",
       "2    6.86       75     <0,5 %  Carl Jung (Alemania)  Alemania   \n",
       "3    6.86       75     <0,5 %  Carl Jung (Alemania)  Alemania   \n",
       "4    6.86       75       0,5%  Carl Jung (Alemania)  Alemania   \n",
       "\n",
       "                     etiqueta  \\\n",
       "0                      Vegano   \n",
       "1                       Syrah   \n",
       "2  Cabernet Sauvignon, Vegano   \n",
       "3              Merlot, Vegano   \n",
       "4               No Disponible   \n",
       "\n",
       "                                       notas de cata  \\\n",
       "0  De color rosa sutil, ligeramente brillante, fi...   \n",
       "1  De color rosa sutil, ligeramente brillante, fi...   \n",
       "2  De color rosa sutil, ligeramente brillante, fi...   \n",
       "3  De color rosa sutil, ligeramente brillante, fi...   \n",
       "4  De color rosa sutil, ligeramente brillante, fi...   \n",
       "\n",
       "                                                 url calorias proteinas grasa  \\\n",
       "0  https://www.thebluedolphinstore.com/producto/v...     19,4       0,0   0,0   \n",
       "1  https://www.thebluedolphinstore.com/producto/v...     79.(       0,5   0,0   \n",
       "2  https://www.thebluedolphinstore.com/producto/v...     19,4       0,0   0,0   \n",
       "3  https://www.thebluedolphinstore.com/producto/v...     22,9       0,0   0,0   \n",
       "4  https://www.thebluedolphinstore.com/producto/v...     95.(       0,5   0,3   \n",
       "\n",
       "  hidratos de carbono azucar     sal  \n",
       "0                 4,2    3,5  <0,1 g  \n",
       "1                 4,8    4,2  <0,1 g  \n",
       "2                 4,2    3,5  <0,1 g  \n",
       "3                 4,7    4,0  <0,1 g  \n",
       "4                 5,6    4,6  <0,1 g  "
      ]
     },
     "execution_count": 198,
     "metadata": {},
     "output_type": "execute_result"
    }
   ],
   "source": [
    "vinos = pd.concat([nombre, informacion, nutricional], axis=1)\n",
    "vinos.head()"
   ]
  },
  {
   "cell_type": "code",
   "execution_count": 199,
   "id": "5ae6f4c4",
   "metadata": {},
   "outputs": [
    {
     "data": {
      "text/plain": [
       "(63, 16)"
      ]
     },
     "execution_count": 199,
     "metadata": {},
     "output_type": "execute_result"
    }
   ],
   "source": [
    "vinos.shape"
   ]
  },
  {
   "cell_type": "code",
   "execution_count": 200,
   "id": "389ae219",
   "metadata": {},
   "outputs": [
    {
     "data": {
      "text/plain": [
       "<bound method DataFrame.info of                                                nombre  \\\n",
       "0         Carl Jung RosÃ© â Vino Rosado Sin Alcohol   \n",
       "1   Schloss Raggendorf Shiraz RosÃ© â Vino Rosad...   \n",
       "2   Carl Jung Cabernet Sauvignon â Vino Tinto Si...   \n",
       "3         Carl Jung Merlot â Vino Tinto Sin Alcohol   \n",
       "4   Schloss Raggendorf Zweigelt â Vino Tinto Sin...   \n",
       "..                                                ...   \n",
       "58         Lussory AirÃ©n â Vino Sin Alcohol Blanco   \n",
       "59          Lussory Merlot â Vino Sin Alcohol Tinto   \n",
       "60     Lussory Tempranillo â Vino Sin Alcohol Tinto   \n",
       "61   Alternativa 0.0 Tinto â Vino Sin Alcohol Tinto   \n",
       "62  Ãlivo Zero Zero Blanco â Vino Sin Alcohol B...   \n",
       "\n",
       "                   variedad  precio  volumen graduacion  \\\n",
       "0   Vino Rosado Sin Alcohol    6.86       75     <0,5 %   \n",
       "1   Vino Rosado Sin Alcohol    6.86       75       0,5%   \n",
       "2   Vino Rosado Sin Alcohol    6.86       75     <0,5 %   \n",
       "3   Vino Rosado Sin Alcohol    6.86       75     <0,5 %   \n",
       "4   Vino Rosado Sin Alcohol    6.86       75       0,5%   \n",
       "..                      ...     ...      ...        ...   \n",
       "58  Vino Rosado Sin Alcohol    6.86       75      0,01%   \n",
       "59  Vino Rosado Sin Alcohol    6.86       75      0,02%   \n",
       "60  Vino Rosado Sin Alcohol    6.86       75       0,0%   \n",
       "61  Vino Rosado Sin Alcohol    6.86       75       0,0%   \n",
       "62  Vino Rosado Sin Alcohol    6.86       75       0,0%   \n",
       "\n",
       "                                            productor                 pais  \\\n",
       "0                                Carl Jung (Alemania)             Alemania   \n",
       "1                                Carl Jung (Alemania)             Alemania   \n",
       "2                                Carl Jung (Alemania)             Alemania   \n",
       "3                                Carl Jung (Alemania)             Alemania   \n",
       "4                                Carl Jung (Alemania)             Alemania   \n",
       "..                                                ...                  ...   \n",
       "58             Dismark Products (Galicia â EspaÃ±a)  Galicia â EspaÃ±a   \n",
       "59             Dismark Products (Galicia â EspaÃ±a)  Galicia â EspaÃ±a   \n",
       "60             Dismark Products (Galicia â EspaÃ±a)  Galicia â EspaÃ±a   \n",
       "61                                  Princess (Italia)               Italia   \n",
       "62  Mercantia Desarrollos Alimentarios (Galicia â...  Galicia â EspaÃ±a   \n",
       "\n",
       "                                             etiqueta  \\\n",
       "0                                              Vegano   \n",
       "1                                               Syrah   \n",
       "2                          Cabernet Sauvignon, Vegano   \n",
       "3                                      Merlot, Vegano   \n",
       "4                                       No Disponible   \n",
       "..                                                ...   \n",
       "58  AirÃ©n, Bajo o Sin CalorÃ­as, Halal, Natural, ...   \n",
       "59  Bajo o Sin CalorÃ­as, Halal, Merlot, Natural, ...   \n",
       "60  Bajo o Sin CalorÃ­as, Halal, Natural, Sin sabo...   \n",
       "61    Bajo o Sin CalorÃ­as, Natural, Sin saborizantes   \n",
       "62                       AirÃ©n, Bajo o Sin CalorÃ­as   \n",
       "\n",
       "                                        notas de cata  \\\n",
       "0   De color rosa sutil, ligeramente brillante, fi...   \n",
       "1   De color rosa sutil, ligeramente brillante, fi...   \n",
       "2   De color rosa sutil, ligeramente brillante, fi...   \n",
       "3   De color rosa sutil, ligeramente brillante, fi...   \n",
       "4   De color rosa sutil, ligeramente brillante, fi...   \n",
       "..                                                ...   \n",
       "58  De color rosa sutil, ligeramente brillante, fi...   \n",
       "59  De color rosa sutil, ligeramente brillante, fi...   \n",
       "60  De color rosa sutil, ligeramente brillante, fi...   \n",
       "61  De color rosa sutil, ligeramente brillante, fi...   \n",
       "62  De color rosa sutil, ligeramente brillante, fi...   \n",
       "\n",
       "                                                  url calorias proteinas  \\\n",
       "0   https://www.thebluedolphinstore.com/producto/v...     19,4       0,0   \n",
       "1   https://www.thebluedolphinstore.com/producto/v...     79.(       0,5   \n",
       "2   https://www.thebluedolphinstore.com/producto/v...     19,4       0,0   \n",
       "3   https://www.thebluedolphinstore.com/producto/v...     22,9       0,0   \n",
       "4   https://www.thebluedolphinstore.com/producto/v...     95.(       0,5   \n",
       "..                                                ...      ...       ...   \n",
       "58  https://www.thebluedolphinstore.com/producto/v...       18      0,00   \n",
       "59  https://www.thebluedolphinstore.com/producto/v...       17      0,00   \n",
       "60  https://www.thebluedolphinstore.com/producto/v...       19      0,00   \n",
       "61  https://www.thebluedolphinstore.com/producto/v...       13       0,1   \n",
       "62  https://www.thebluedolphinstore.com/producto/v...        5      0,00   \n",
       "\n",
       "   grasa hidratos de carbono azucar         sal  \n",
       "0    0,0                 4,2    3,5      <0,1 g  \n",
       "1    0,0                 4,8    4,2      <0,1 g  \n",
       "2    0,0                 4,2    3,5      <0,1 g  \n",
       "3    0,0                 4,7    4,0      <0,1 g  \n",
       "4    0,3                 5,6    4,6      <0,1 g  \n",
       "..   ...                 ...    ...         ...  \n",
       "58  0,00                  42    4,1  Sal:<0,1 g  \n",
       "59  0,00                  42    4,1  Sal:<0,1 g  \n",
       "60  0,00                  42    4,1  Sal:<0,1 g  \n",
       "61     1                  17    4,1  Sal:<0,1 g  \n",
       "62  0,00                  17    4,1  Sal:<0,1 g  \n",
       "\n",
       "[63 rows x 16 columns]>"
      ]
     },
     "execution_count": 200,
     "metadata": {},
     "output_type": "execute_result"
    }
   ],
   "source": [
    "vinos.info"
   ]
  },
  {
   "cell_type": "code",
   "execution_count": 201,
   "id": "cc457bef",
   "metadata": {},
   "outputs": [
    {
     "data": {
      "text/html": [
       "<div>\n",
       "<style scoped>\n",
       "    .dataframe tbody tr th:only-of-type {\n",
       "        vertical-align: middle;\n",
       "    }\n",
       "\n",
       "    .dataframe tbody tr th {\n",
       "        vertical-align: top;\n",
       "    }\n",
       "\n",
       "    .dataframe thead th {\n",
       "        text-align: right;\n",
       "    }\n",
       "</style>\n",
       "<table border=\"1\" class=\"dataframe\">\n",
       "  <thead>\n",
       "    <tr style=\"text-align: right;\">\n",
       "      <th></th>\n",
       "      <th>precio</th>\n",
       "      <th>volumen</th>\n",
       "    </tr>\n",
       "  </thead>\n",
       "  <tbody>\n",
       "    <tr>\n",
       "      <th>count</th>\n",
       "      <td>6.300000e+01</td>\n",
       "      <td>63.0</td>\n",
       "    </tr>\n",
       "    <tr>\n",
       "      <th>mean</th>\n",
       "      <td>6.860000e+00</td>\n",
       "      <td>75.0</td>\n",
       "    </tr>\n",
       "    <tr>\n",
       "      <th>std</th>\n",
       "      <td>8.953125e-15</td>\n",
       "      <td>0.0</td>\n",
       "    </tr>\n",
       "    <tr>\n",
       "      <th>min</th>\n",
       "      <td>6.860000e+00</td>\n",
       "      <td>75.0</td>\n",
       "    </tr>\n",
       "    <tr>\n",
       "      <th>25%</th>\n",
       "      <td>6.860000e+00</td>\n",
       "      <td>75.0</td>\n",
       "    </tr>\n",
       "    <tr>\n",
       "      <th>50%</th>\n",
       "      <td>6.860000e+00</td>\n",
       "      <td>75.0</td>\n",
       "    </tr>\n",
       "    <tr>\n",
       "      <th>75%</th>\n",
       "      <td>6.860000e+00</td>\n",
       "      <td>75.0</td>\n",
       "    </tr>\n",
       "    <tr>\n",
       "      <th>max</th>\n",
       "      <td>6.860000e+00</td>\n",
       "      <td>75.0</td>\n",
       "    </tr>\n",
       "  </tbody>\n",
       "</table>\n",
       "</div>"
      ],
      "text/plain": [
       "             precio  volumen\n",
       "count  6.300000e+01     63.0\n",
       "mean   6.860000e+00     75.0\n",
       "std    8.953125e-15      0.0\n",
       "min    6.860000e+00     75.0\n",
       "25%    6.860000e+00     75.0\n",
       "50%    6.860000e+00     75.0\n",
       "75%    6.860000e+00     75.0\n",
       "max    6.860000e+00     75.0"
      ]
     },
     "execution_count": 201,
     "metadata": {},
     "output_type": "execute_result"
    }
   ],
   "source": [
    "vinos.describe()"
   ]
  },
  {
   "cell_type": "markdown",
   "id": "7006dae9",
   "metadata": {},
   "source": [
    "b) Limpieza de datos\n",
    "\n",
    "Revisamos si existen columnas no informativas y columnas con valores constantes.\n",
    "Eliminaremos las columnas que no necesitemos.\n",
    "Unificaremos criterios para estandarizar la tabla."
   ]
  },
  {
   "cell_type": "code",
   "execution_count": 202,
   "id": "87bd3390",
   "metadata": {},
   "outputs": [
    {
     "data": {
      "text/plain": [
       "Index(['nombre', 'variedad', 'precio', 'volumen', 'graduacion', 'productor',\n",
       "       'pais', 'etiqueta', 'notas de cata', 'url', 'calorias', 'proteinas',\n",
       "       'grasa', 'hidratos de carbono', 'azucar', 'sal'],\n",
       "      dtype='object')"
      ]
     },
     "execution_count": 202,
     "metadata": {},
     "output_type": "execute_result"
    }
   ],
   "source": [
    "# Hay un criterio unificado en todas las columnas\n",
    "# Estandarizamos cada nombre de columna con la primera letra en mayuscula y posterior minusculas.\n",
    "# En este caso no es necesario utilizar ningun metodo ni función prederterminada.\n",
    "# No es necesario renombrar ninguna columna.\n",
    "# Es importante que todas lleven el mismo formato.\n",
    "\n",
    "vinos.columns"
   ]
  },
  {
   "cell_type": "code",
   "execution_count": 203,
   "id": "e66834a0",
   "metadata": {
    "scrolled": true
   },
   "outputs": [
    {
     "data": {
      "text/plain": [
       "Index(['Nombre', 'Variedad', 'Precio', 'Volumen', 'Graduacion', 'Productor',\n",
       "       'Pais', 'Etiqueta', 'Notas De Cata', 'Url', 'Calorias', 'Proteinas',\n",
       "       'Grasa', 'Hidratos De Carbono', 'Azucar', 'Sal'],\n",
       "      dtype='object')"
      ]
     },
     "execution_count": 203,
     "metadata": {},
     "output_type": "execute_result"
    }
   ],
   "source": [
    "vinos.columns =  vinos.columns.str.title()\n",
    "vinos.columns"
   ]
  },
  {
   "cell_type": "code",
   "execution_count": 204,
   "id": "0c399af1",
   "metadata": {
    "scrolled": true
   },
   "outputs": [
    {
     "data": {
      "text/plain": [
       "0"
      ]
     },
     "execution_count": 204,
     "metadata": {},
     "output_type": "execute_result"
    }
   ],
   "source": [
    "# Valores duplicados:\n",
    "vinos.duplicated().sum()"
   ]
  },
  {
   "cell_type": "code",
   "execution_count": 205,
   "id": "b26c7fac",
   "metadata": {},
   "outputs": [
    {
     "data": {
      "text/plain": [
       "Nombre                 0\n",
       "Variedad               0\n",
       "Precio                 0\n",
       "Volumen                0\n",
       "Graduacion             0\n",
       "Productor              0\n",
       "Pais                   0\n",
       "Etiqueta               0\n",
       "Notas De Cata          0\n",
       "Url                    0\n",
       "Calorias               0\n",
       "Proteinas              0\n",
       "Grasa                  0\n",
       "Hidratos De Carbono    0\n",
       "Azucar                 0\n",
       "Sal                    0\n",
       "dtype: int64"
      ]
     },
     "execution_count": 205,
     "metadata": {},
     "output_type": "execute_result"
    }
   ],
   "source": [
    "# Valores invalidos o no necesarios:\n",
    "vinos.isna().sum()"
   ]
  },
  {
   "cell_type": "code",
   "execution_count": 206,
   "id": "c0e87121",
   "metadata": {},
   "outputs": [
    {
     "data": {
      "text/plain": [
       "array(['19,4', '79.(', '22,9', '95.(', '20,1', '185,', '19,5', '18,3',\n",
       "       '88.(', '78,4', '79,9', '80,3', '80.(', '80..', '12', '81.(',\n",
       "       '185K', '77.(', '43kc', '308.', '73.(', '36kc', '22,4', '204K',\n",
       "       '21,1', '85.(', '189K', '222K', '22,2', '22,8', '20', '24(1',\n",
       "       '25(1', '64.(', '32', '20,9', '17', '70.(', '18', '19', '13', '5'],\n",
       "      dtype=object)"
      ]
     },
     "execution_count": 206,
     "metadata": {},
     "output_type": "execute_result"
    }
   ],
   "source": [
    "vinos.Calorias.unique()"
   ]
  },
  {
   "cell_type": "code",
   "execution_count": 207,
   "id": "d1d3f50c",
   "metadata": {},
   "outputs": [
    {
     "data": {
      "text/plain": [
       "array(['0,0', '0,5', '0,3', '0,1', '< 0,02', '< 0,2', '<0,3', '< 0,5',\n",
       "       '2,7', '0,00'], dtype=object)"
      ]
     },
     "execution_count": 207,
     "metadata": {},
     "output_type": "execute_result"
    }
   ],
   "source": [
    "vinos.Proteinas.unique()"
   ]
  },
  {
   "cell_type": "code",
   "execution_count": 208,
   "id": "eb5ec8d3",
   "metadata": {},
   "outputs": [
    {
     "data": {
      "text/plain": [
       "array(['0,0', '0,3', '1', '0,5', '0,1', '0,00'], dtype=object)"
      ]
     },
     "execution_count": 208,
     "metadata": {},
     "output_type": "execute_result"
    }
   ],
   "source": [
    "vinos.Grasa.unique()"
   ]
  },
  {
   "cell_type": "code",
   "execution_count": 209,
   "id": "5f848ee3",
   "metadata": {},
   "outputs": [
    {
     "data": {
      "text/plain": [
       "array(['3,5', '4,2', '4,0', '4,6', '4,4', '3,6', '3,7', '3,8', '4', '2,9',\n",
       "       '2,4', '4,5', '18,1', '4,3', '2,0', '5,5', '4,7', '2,7', '2,3',\n",
       "       '4,9', '4,1'], dtype=object)"
      ]
     },
     "execution_count": 209,
     "metadata": {},
     "output_type": "execute_result"
    }
   ],
   "source": [
    "vinos.Azucar.unique()"
   ]
  },
  {
   "cell_type": "code",
   "execution_count": 210,
   "id": "f5802f9f",
   "metadata": {},
   "outputs": [
    {
     "data": {
      "text/plain": [
       "array(['<0,1 g', 'Sal:<0,1 g', ' <0,1 g', '0,02 g', '0 g', '0,01 g',\n",
       "       '<0,06 g', '<0,01 g'], dtype=object)"
      ]
     },
     "execution_count": 210,
     "metadata": {},
     "output_type": "execute_result"
    }
   ],
   "source": [
    "vinos.Sal.unique()"
   ]
  },
  {
   "cell_type": "markdown",
   "id": "68d9214f",
   "metadata": {},
   "source": [
    "Limpieza de datos de columnas:"
   ]
  },
  {
   "cell_type": "code",
   "execution_count": 211,
   "id": "d7b3ef23",
   "metadata": {},
   "outputs": [],
   "source": [
    "# Funcion de limpieza:\n",
    "def clean_values (column,dictio_clean):\n",
    "    column = column.replace(dictio_clean)\n",
    "    return column"
   ]
  },
  {
   "cell_type": "code",
   "execution_count": 212,
   "id": "14728e86",
   "metadata": {},
   "outputs": [
    {
     "data": {
      "text/plain": [
       "array(['19,4', '79', '22,9', '9,5', '20,1', '18,5', '19,5', '18,3', '88',\n",
       "       '78,4', '79,9', '80,3', '80', '12', '8,1', '7,7', '4,3', '308.',\n",
       "       '73', '36', '22,4', '20,4', '21,1', '85', '18,9', '22', '22,2',\n",
       "       '22,8', '20', '24', '25', '64', '32', '20,9', '17', '70', '18',\n",
       "       '19', '13', '5'], dtype=object)"
      ]
     },
     "execution_count": 212,
     "metadata": {},
     "output_type": "execute_result"
    }
   ],
   "source": [
    "# Reemplazar valores de la columna Calorias: \n",
    "\n",
    "cal_values = {\"88.(\": \"88\", \"79.(\": \"79\", \"73.(\": \"73\", \"95.(\": \"9,5\",\"80..\": \"80\", \"80.(\": \"80\", \"81.(\": \"8,1\", \"185,\": \"18,5\", \"185K\": \"18,5\" , \"77.(\":\"7,7\" ,\"43kc\": \"4,3\" , \"308\": \"30,8\" , \"73.( \": \"73\" , \"36kc\": \"36\" , \"204K\": \"20,4\" , \"85.(\": \"85\" , \"189K\" : \"18,9\" , \"222K\": \"22\" , \"24(1\": \"24\" , \"25(1\" : \"25\" , \"64.(\": \"64\" , \"70.(\" : \"70\" , \"'5']\": \"5\" }\n",
    "\n",
    "vinos.Calorias = clean_values(vinos.Calorias,cal_values)\n",
    "vinos.Calorias.unique()"
   ]
  },
  {
   "cell_type": "code",
   "execution_count": 213,
   "id": "cb7a76e9",
   "metadata": {},
   "outputs": [
    {
     "data": {
      "text/plain": [
       "array(['0,0', '0,5', '0,3', '0,1', '0,2', '2,7', '0,00'], dtype=object)"
      ]
     },
     "execution_count": 213,
     "metadata": {},
     "output_type": "execute_result"
    }
   ],
   "source": [
    "# Reemplazar valores de la columna Proteinas: \n",
    "prot_values = {\"< 0,02\": \"0,2\" , \"< 0,2\": \"0,2\" , \"<0,3\" : \"0,3\" , \"< 0,5\": \"0,5\" }\n",
    "\n",
    "vinos.Proteinas = clean_values(vinos.Proteinas,prot_values)\n",
    "vinos.Proteinas.unique()"
   ]
  },
  {
   "cell_type": "code",
   "execution_count": 214,
   "id": "e34fac48",
   "metadata": {},
   "outputs": [
    {
     "data": {
      "text/plain": [
       "array(['<0,1 g', ' <0,1 g', '<0,2 g', '0 g', '0,01 g', '<0,06 g'],\n",
       "      dtype=object)"
      ]
     },
     "execution_count": 214,
     "metadata": {},
     "output_type": "execute_result"
    }
   ],
   "source": [
    "# Reemplazar valores de la columna Sal:\n",
    "\n",
    "sal_values = {\"Sal:<0,1 g\": \"<0,1 g\" , \"<0,01 g\": \"<0,1 g\" , \"0,02 g\" : \"<0,2 g\" }\n",
    "\n",
    "vinos.Sal = clean_values(vinos.Sal,sal_values)\n",
    "vinos.Sal.unique()"
   ]
  },
  {
   "cell_type": "markdown",
   "id": "1a1cfefc",
   "metadata": {},
   "source": [
    "Descargo los datos limpios de la tabla final tras la concatenacion:"
   ]
  },
  {
   "cell_type": "code",
   "execution_count": 220,
   "id": "94c78723",
   "metadata": {},
   "outputs": [],
   "source": [
    "vinos.to_csv(\"vinos.csv\", index = False)"
   ]
  }
 ],
 "metadata": {
  "kernelspec": {
   "display_name": "Python 3 (ipykernel)",
   "language": "python",
   "name": "python3"
  },
  "language_info": {
   "codemirror_mode": {
    "name": "ipython",
    "version": 3
   },
   "file_extension": ".py",
   "mimetype": "text/x-python",
   "name": "python",
   "nbconvert_exporter": "python",
   "pygments_lexer": "ipython3",
   "version": "3.11.5"
  }
 },
 "nbformat": 4,
 "nbformat_minor": 5
}
