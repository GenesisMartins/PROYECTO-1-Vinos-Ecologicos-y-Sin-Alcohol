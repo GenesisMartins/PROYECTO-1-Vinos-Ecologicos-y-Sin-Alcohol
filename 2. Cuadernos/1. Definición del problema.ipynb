{
 "cells": [
  {
   "cell_type": "markdown",
   "id": "c432f432",
   "metadata": {},
   "source": [
    "# 1.0 - Definición del problema"
   ]
  },
  {
   "cell_type": "markdown",
   "id": "cad49220",
   "metadata": {},
   "source": [
    "Se plantea un escenario hipotetico del sector vitivinícola en España, donde evaluamos el impacto que tiene sobre el en medio del auge del sector \"Bio\" , \"Vegano\" y las bebidas sin alcohol.\n",
    "\n",
    "Ademas de un analisis detallado de las opciones actuales en el mercado."
   ]
  },
  {
   "cell_type": "markdown",
   "id": "b4581e11",
   "metadata": {},
   "source": [
    "# Objetivos especificos"
   ]
  },
  {
   "cell_type": "markdown",
   "id": "092f2c28",
   "metadata": {},
   "source": [
    "#### Analisis Exploratorio"
   ]
  },
  {
   "cell_type": "markdown",
   "id": "6876f51b",
   "metadata": {},
   "source": [
    "Describir la situación actual del mercado de importación y exportación de vinos en europa.\n",
    "\n",
    "Analizar la variedad y precios de esta categoría por botella."
   ]
  },
  {
   "cell_type": "markdown",
   "id": "f9431717",
   "metadata": {},
   "source": [
    "# Proceso"
   ]
  },
  {
   "cell_type": "markdown",
   "id": "a70b8c66",
   "metadata": {},
   "source": [
    "El proceso a seguir para este problema es:\n",
    "\n",
    "1. Limpieza de los datos. Comprobación de valores nulos, duplicados y tipos de dato.\n",
    "2. Transformación de datos. Normalización, codificación de variables categóricas, etc..\n",
    "3. Punto de referencia. Con los datos transformados tal cual vienen, \n",
    "\n",
    "\n",
    "\n",
    "\n",
    "se entrena un modelo sencillo y se mide su rendimiento.\n",
    "4. Exploración y selección de características. Se prueban varios métodos de selección.\n",
    "5. Análisis completo por barrios. Visualización de mapas y análisis de la dinámica de precios según demanda.\n"
   ]
  },
  {
   "cell_type": "code",
   "execution_count": null,
   "id": "babdc810",
   "metadata": {},
   "outputs": [],
   "source": []
  },
  {
   "cell_type": "code",
   "execution_count": null,
   "id": "7928eb18",
   "metadata": {},
   "outputs": [],
   "source": []
  },
  {
   "cell_type": "code",
   "execution_count": null,
   "id": "bcb12915",
   "metadata": {},
   "outputs": [],
   "source": []
  }
 ],
 "metadata": {
  "kernelspec": {
   "display_name": "Python 3 (ipykernel)",
   "language": "python",
   "name": "python3"
  },
  "language_info": {
   "codemirror_mode": {
    "name": "ipython",
    "version": 3
   },
   "file_extension": ".py",
   "mimetype": "text/x-python",
   "name": "python",
   "nbconvert_exporter": "python",
   "pygments_lexer": "ipython3",
   "version": "3.11.5"
  }
 },
 "nbformat": 4,
 "nbformat_minor": 5
}
