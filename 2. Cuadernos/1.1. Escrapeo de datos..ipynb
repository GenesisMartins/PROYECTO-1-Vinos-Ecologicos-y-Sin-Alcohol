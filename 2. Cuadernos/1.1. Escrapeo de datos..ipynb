{
 "cells": [
  {
   "cell_type": "markdown",
   "id": "839c586a",
   "metadata": {},
   "source": [
    "### 1.1. Escrapear datos\n",
    "\n",
    "Descripcion: Utilizamos los datos reflejados en la web fuente para la creación de dos DataFrame.\n",
    "\n",
    "#### 1.1.1. Web pagina Inicial Vinos \"Sin Alcohol\".\n",
    "Tomamos la lista de 63 tipos de vinos y obtuvimos los principales datos sobre cada uno:\n",
    "- Nombre\n",
    "- Variedad\n",
    "- Precio\n",
    "\n",
    "#### 1.1.2. Webs secuntarias, entramos a la url por cada vino disponible en la pagina inicial.\n",
    "Obtuvimos los datos unicos sobre cada uno:\n",
    "- Volumen\n",
    "- Variedad\n",
    "- Graduación\n",
    "- Productor\n",
    "- Etiqueta"
   ]
  },
  {
   "cell_type": "markdown",
   "id": "db6a6b17",
   "metadata": {},
   "source": [
    "ESCRAPEO DE DATOS\n",
    "\n",
    "Fuente: https://www.thebluedolphinstore.com/"
   ]
  },
  {
   "cell_type": "markdown",
   "id": "da5aff53",
   "metadata": {},
   "source": [
    "### 1.1.1\n",
    "Paso 1: instalamos selenium e importamos librerias"
   ]
  },
  {
   "cell_type": "code",
   "execution_count": 328,
   "id": "044941d3",
   "metadata": {},
   "outputs": [
    {
     "name": "stdout",
     "output_type": "stream",
     "text": [
      "Requirement already satisfied: selenium in c:\\users\\genes\\anaconda3\\lib\\site-packages (4.17.2)\n",
      "Requirement already satisfied: urllib3[socks]<3,>=1.26 in c:\\users\\genes\\anaconda3\\lib\\site-packages (from selenium) (1.26.16)\n",
      "Requirement already satisfied: trio~=0.17 in c:\\users\\genes\\anaconda3\\lib\\site-packages (from selenium) (0.24.0)\n",
      "Requirement already satisfied: trio-websocket~=0.9 in c:\\users\\genes\\anaconda3\\lib\\site-packages (from selenium) (0.11.1)\n",
      "Requirement already satisfied: certifi>=2021.10.8 in c:\\users\\genes\\anaconda3\\lib\\site-packages (from selenium) (2023.7.22)\n",
      "Requirement already satisfied: typing_extensions>=4.9.0 in c:\\users\\genes\\anaconda3\\lib\\site-packages (from selenium) (4.9.0)\n",
      "Requirement already satisfied: attrs>=20.1.0 in c:\\users\\genes\\anaconda3\\lib\\site-packages (from trio~=0.17->selenium) (22.1.0)\n",
      "Requirement already satisfied: sortedcontainers in c:\\users\\genes\\anaconda3\\lib\\site-packages (from trio~=0.17->selenium) (2.4.0)\n",
      "Requirement already satisfied: idna in c:\\users\\genes\\anaconda3\\lib\\site-packages (from trio~=0.17->selenium) (3.4)\n",
      "Requirement already satisfied: outcome in c:\\users\\genes\\anaconda3\\lib\\site-packages (from trio~=0.17->selenium) (1.3.0.post0)\n",
      "Requirement already satisfied: sniffio>=1.3.0 in c:\\users\\genes\\anaconda3\\lib\\site-packages (from trio~=0.17->selenium) (1.3.0)\n",
      "Requirement already satisfied: cffi>=1.14 in c:\\users\\genes\\anaconda3\\lib\\site-packages (from trio~=0.17->selenium) (1.15.1)\n",
      "Requirement already satisfied: wsproto>=0.14 in c:\\users\\genes\\anaconda3\\lib\\site-packages (from trio-websocket~=0.9->selenium) (1.2.0)\n",
      "Requirement already satisfied: PySocks!=1.5.7,<2.0,>=1.5.6 in c:\\users\\genes\\anaconda3\\lib\\site-packages (from urllib3[socks]<3,>=1.26->selenium) (1.7.1)\n",
      "Requirement already satisfied: pycparser in c:\\users\\genes\\anaconda3\\lib\\site-packages (from cffi>=1.14->trio~=0.17->selenium) (2.21)\n",
      "Requirement already satisfied: h11<1,>=0.9.0 in c:\\users\\genes\\anaconda3\\lib\\site-packages (from wsproto>=0.14->trio-websocket~=0.9->selenium) (0.14.0)\n",
      "Note: you may need to restart the kernel to use updated packages.\n"
     ]
    }
   ],
   "source": [
    "pip install selenium"
   ]
  },
  {
   "cell_type": "code",
   "execution_count": 500,
   "id": "0f937817",
   "metadata": {},
   "outputs": [],
   "source": [
    "import requests as req\n",
    "\n",
    "from bs4 import BeautifulSoup as bs\n",
    "\n",
    "import pandas as pd"
   ]
  },
  {
   "cell_type": "code",
   "execution_count": 501,
   "id": "48f9f85e",
   "metadata": {},
   "outputs": [],
   "source": [
    "url = 'https://www.thebluedolphinstore.com/categoria-producto/vinos-sin-alcohol/'"
   ]
  },
  {
   "cell_type": "code",
   "execution_count": 502,
   "id": "3267a0c5",
   "metadata": {},
   "outputs": [],
   "source": [
    "html=req.get(url).text\n",
    "\n",
    "sopa=bs(html, 'html.parser')\n"
   ]
  },
  {
   "cell_type": "code",
   "execution_count": 503,
   "id": "94e26465",
   "metadata": {},
   "outputs": [],
   "source": [
    "from selenium import webdriver   # driver de selenium\n",
    "\n",
    "from selenium.webdriver.chrome.options import Options   # opciones del driver\n",
    "\n",
    "from selenium.webdriver.common.by import By # By es para buscar por tag, clase, id...\n",
    "\n",
    "from selenium.webdriver.common.keys import Keys  # para usar teclado"
   ]
  },
  {
   "cell_type": "code",
   "execution_count": 504,
   "id": "bf230dbb",
   "metadata": {},
   "outputs": [],
   "source": [
    "PATH = 'driver/chromedriver'"
   ]
  },
  {
   "cell_type": "code",
   "execution_count": 505,
   "id": "97b98171",
   "metadata": {},
   "outputs": [],
   "source": [
    "# opciones del driver\n",
    "opciones=Options()\n",
    "\n",
    "# quita la bandera de ser robot\n",
    "opciones.add_experimental_option('excludeSwitches', ['enable-automation'])\n",
    "opciones.add_experimental_option('useAutomationExtension', False)\n",
    "\n",
    "\n",
    "# guardar las cookies\n",
    "opciones.add_argument('user-data-dir=cookies')    # mantiene las coockies"
   ]
  },
  {
   "cell_type": "code",
   "execution_count": 517,
   "id": "5b02e987",
   "metadata": {},
   "outputs": [],
   "source": [
    "driver = webdriver.Chrome()\n",
    "\n",
    "driver.get(url) "
   ]
  },
  {
   "cell_type": "markdown",
   "id": "ead6886b",
   "metadata": {},
   "source": [
    " Paso 2: comenzamos la busqueda de datos"
   ]
  },
  {
   "cell_type": "code",
   "execution_count": 574,
   "id": "71a68c3b",
   "metadata": {},
   "outputs": [
    {
     "data": {
      "text/plain": [
       "63"
      ]
     },
     "execution_count": 574,
     "metadata": {},
     "output_type": "execute_result"
    }
   ],
   "source": [
    "productos = driver.find_elements(By.CLASS_NAME, \"product-wrap\")\n",
    "\n",
    "len(productos)"
   ]
  },
  {
   "cell_type": "code",
   "execution_count": 569,
   "id": "6c79d22e",
   "metadata": {},
   "outputs": [
    {
     "data": {
      "text/plain": [
       "['Carl Jung Rosé ', ' Vino Rosado Sin Alcohol']"
      ]
     },
     "execution_count": 569,
     "metadata": {},
     "output_type": "execute_result"
    }
   ],
   "source": [
    "productos[0].text.split('\\n')[1].split('–')"
   ]
  },
  {
   "cell_type": "code",
   "execution_count": 570,
   "id": "fc876bff",
   "metadata": {},
   "outputs": [
    {
     "data": {
      "text/plain": [
       "['Carl Jung Cabernet Sauvignon', 'Vino Tinto Sin Alcohol']"
      ]
     },
     "execution_count": 570,
     "metadata": {},
     "output_type": "execute_result"
    }
   ],
   "source": [
    "nombre_variedad = productos[2].find_element(By.TAG_NAME, 'h3').text.split(' – ')\n",
    "\n",
    "nombre_variedad"
   ]
  },
  {
   "cell_type": "code",
   "execution_count": 565,
   "id": "762b67e9",
   "metadata": {},
   "outputs": [
    {
     "data": {
      "text/plain": [
       "'Carl Jung Cabernet Sauvignon'"
      ]
     },
     "execution_count": 565,
     "metadata": {},
     "output_type": "execute_result"
    }
   ],
   "source": [
    "nombre = nombre_variedad[0]\n",
    "\n",
    "nombre"
   ]
  },
  {
   "cell_type": "code",
   "execution_count": 566,
   "id": "2accff52",
   "metadata": {},
   "outputs": [
    {
     "data": {
      "text/plain": [
       "'Vino Tinto Sin Alcohol'"
      ]
     },
     "execution_count": 566,
     "metadata": {},
     "output_type": "execute_result"
    }
   ],
   "source": [
    "variedad = nombre_variedad[1]\n",
    "\n",
    "variedad"
   ]
  },
  {
   "cell_type": "code",
   "execution_count": 531,
   "id": "58d5b2ea",
   "metadata": {},
   "outputs": [
    {
     "data": {
      "text/plain": [
       "'6,86€'"
      ]
     },
     "execution_count": 531,
     "metadata": {},
     "output_type": "execute_result"
    }
   ],
   "source": [
    "precio = productos[0].find_element(By.CSS_SELECTOR,'#ajax-content-wrap > div.container-wrap > div > div.row > div.post-area.col.span_9.col_last > ul > li.minimal.product.type-product.post-28958.status-publish.first.instock.product_cat-destacados.product_cat-vino-rosado-sin-alcohol.product_cat-vinos-sin-alcohol.product_tag-vegana-o.has-post-thumbnail.taxable.shipping-taxable.purchasable.product-type-simple.yith-wcbm-product-has-badges.hover-bound > div.product-wrap > div > div > span > span > bdi').text\n",
    "\n",
    "precio"
   ]
  },
  {
   "cell_type": "code",
   "execution_count": 532,
   "id": "d87fdc3b",
   "metadata": {
    "scrolled": true
   },
   "outputs": [
    {
     "data": {
      "text/plain": [
       "6.86"
      ]
     },
     "execution_count": 532,
     "metadata": {},
     "output_type": "execute_result"
    }
   ],
   "source": [
    "precio = float(precio.replace('€', '').replace(',', '.'))\n",
    "\n",
    "precio"
   ]
  },
  {
   "cell_type": "markdown",
   "id": "abec0706",
   "metadata": {},
   "source": [
    "Paso 3: Obtenemos la data y creamos el DataFrame"
   ]
  },
  {
   "cell_type": "code",
   "execution_count": 581,
   "id": "e0571de6",
   "metadata": {},
   "outputs": [],
   "source": [
    "data = []\n",
    "\n",
    "for p in productos[0:]:\n",
    "    \n",
    "    nombre_variedad = p.find_element(By.TAG_NAME, 'h3').text.split(' – ')\n",
    "    nombre_variedad = productos[2].find_element(By.TAG_NAME, 'h3').text.split(' – ')\n",
    "    nombre = nombre_variedad[0] \n",
    "    \n",
    "    #precio = p.find_element(By.CSS_SELECTOR,'#ajax-content-wrap > div.container-wrap > div > div.row > div.post-area.col.span_9.col_last > ul > li.minimal.product.type-product.post-28958.status-publish.first.instock.product_cat-destacados.product_cat-vino-rosado-sin-alcohol.product_cat-vinos-sin-alcohol.product_tag-vegana-o.has-post-thumbnail.taxable.shipping-taxable.purchasable.product-type-simple.yith-wcbm-product-has-badges.hover-bound > div.product-wrap > div > div > span > span > bdi').text\n",
    "    \n",
    "    \n",
    "    #precio = float(precio.replace('€', '').replace('\\n', '.'))\n",
    "    \n",
    "    \n",
    "    dictio = {'nombre': nombre, 'variedad' : nombre_variedad[1], 'precio': precio}\n",
    "    \n",
    "    data.append(dictio)"
   ]
  },
  {
   "cell_type": "code",
   "execution_count": 582,
   "id": "6aacb5be",
   "metadata": {},
   "outputs": [
    {
     "data": {
      "text/plain": [
       "[{'nombre': 'Carl Jung Cabernet Sauvignon',\n",
       "  'variedad': 'Vino Tinto Sin Alcohol',\n",
       "  'precio': 6.86},\n",
       " {'nombre': 'Carl Jung Cabernet Sauvignon',\n",
       "  'variedad': 'Vino Tinto Sin Alcohol',\n",
       "  'precio': 6.86},\n",
       " {'nombre': 'Carl Jung Cabernet Sauvignon',\n",
       "  'variedad': 'Vino Tinto Sin Alcohol',\n",
       "  'precio': 6.86},\n",
       " {'nombre': 'Carl Jung Cabernet Sauvignon',\n",
       "  'variedad': 'Vino Tinto Sin Alcohol',\n",
       "  'precio': 6.86},\n",
       " {'nombre': 'Carl Jung Cabernet Sauvignon',\n",
       "  'variedad': 'Vino Tinto Sin Alcohol',\n",
       "  'precio': 6.86},\n",
       " {'nombre': 'Carl Jung Cabernet Sauvignon',\n",
       "  'variedad': 'Vino Tinto Sin Alcohol',\n",
       "  'precio': 6.86},\n",
       " {'nombre': 'Carl Jung Cabernet Sauvignon',\n",
       "  'variedad': 'Vino Tinto Sin Alcohol',\n",
       "  'precio': 6.86},\n",
       " {'nombre': 'Carl Jung Cabernet Sauvignon',\n",
       "  'variedad': 'Vino Tinto Sin Alcohol',\n",
       "  'precio': 6.86},\n",
       " {'nombre': 'Carl Jung Cabernet Sauvignon',\n",
       "  'variedad': 'Vino Tinto Sin Alcohol',\n",
       "  'precio': 6.86},\n",
       " {'nombre': 'Carl Jung Cabernet Sauvignon',\n",
       "  'variedad': 'Vino Tinto Sin Alcohol',\n",
       "  'precio': 6.86},\n",
       " {'nombre': 'Carl Jung Cabernet Sauvignon',\n",
       "  'variedad': 'Vino Tinto Sin Alcohol',\n",
       "  'precio': 6.86},\n",
       " {'nombre': 'Carl Jung Cabernet Sauvignon',\n",
       "  'variedad': 'Vino Tinto Sin Alcohol',\n",
       "  'precio': 6.86},\n",
       " {'nombre': 'Carl Jung Cabernet Sauvignon',\n",
       "  'variedad': 'Vino Tinto Sin Alcohol',\n",
       "  'precio': 6.86},\n",
       " {'nombre': 'Carl Jung Cabernet Sauvignon',\n",
       "  'variedad': 'Vino Tinto Sin Alcohol',\n",
       "  'precio': 6.86},\n",
       " {'nombre': 'Carl Jung Cabernet Sauvignon',\n",
       "  'variedad': 'Vino Tinto Sin Alcohol',\n",
       "  'precio': 6.86},\n",
       " {'nombre': 'Carl Jung Cabernet Sauvignon',\n",
       "  'variedad': 'Vino Tinto Sin Alcohol',\n",
       "  'precio': 6.86},\n",
       " {'nombre': 'Carl Jung Cabernet Sauvignon',\n",
       "  'variedad': 'Vino Tinto Sin Alcohol',\n",
       "  'precio': 6.86},\n",
       " {'nombre': 'Carl Jung Cabernet Sauvignon',\n",
       "  'variedad': 'Vino Tinto Sin Alcohol',\n",
       "  'precio': 6.86},\n",
       " {'nombre': 'Carl Jung Cabernet Sauvignon',\n",
       "  'variedad': 'Vino Tinto Sin Alcohol',\n",
       "  'precio': 6.86},\n",
       " {'nombre': 'Carl Jung Cabernet Sauvignon',\n",
       "  'variedad': 'Vino Tinto Sin Alcohol',\n",
       "  'precio': 6.86},\n",
       " {'nombre': 'Carl Jung Cabernet Sauvignon',\n",
       "  'variedad': 'Vino Tinto Sin Alcohol',\n",
       "  'precio': 6.86},\n",
       " {'nombre': 'Carl Jung Cabernet Sauvignon',\n",
       "  'variedad': 'Vino Tinto Sin Alcohol',\n",
       "  'precio': 6.86},\n",
       " {'nombre': 'Carl Jung Cabernet Sauvignon',\n",
       "  'variedad': 'Vino Tinto Sin Alcohol',\n",
       "  'precio': 6.86},\n",
       " {'nombre': 'Carl Jung Cabernet Sauvignon',\n",
       "  'variedad': 'Vino Tinto Sin Alcohol',\n",
       "  'precio': 6.86},\n",
       " {'nombre': 'Carl Jung Cabernet Sauvignon',\n",
       "  'variedad': 'Vino Tinto Sin Alcohol',\n",
       "  'precio': 6.86},\n",
       " {'nombre': 'Carl Jung Cabernet Sauvignon',\n",
       "  'variedad': 'Vino Tinto Sin Alcohol',\n",
       "  'precio': 6.86},\n",
       " {'nombre': 'Carl Jung Cabernet Sauvignon',\n",
       "  'variedad': 'Vino Tinto Sin Alcohol',\n",
       "  'precio': 6.86},\n",
       " {'nombre': 'Carl Jung Cabernet Sauvignon',\n",
       "  'variedad': 'Vino Tinto Sin Alcohol',\n",
       "  'precio': 6.86},\n",
       " {'nombre': 'Carl Jung Cabernet Sauvignon',\n",
       "  'variedad': 'Vino Tinto Sin Alcohol',\n",
       "  'precio': 6.86},\n",
       " {'nombre': 'Carl Jung Cabernet Sauvignon',\n",
       "  'variedad': 'Vino Tinto Sin Alcohol',\n",
       "  'precio': 6.86},\n",
       " {'nombre': 'Carl Jung Cabernet Sauvignon',\n",
       "  'variedad': 'Vino Tinto Sin Alcohol',\n",
       "  'precio': 6.86},\n",
       " {'nombre': 'Carl Jung Cabernet Sauvignon',\n",
       "  'variedad': 'Vino Tinto Sin Alcohol',\n",
       "  'precio': 6.86},\n",
       " {'nombre': 'Carl Jung Cabernet Sauvignon',\n",
       "  'variedad': 'Vino Tinto Sin Alcohol',\n",
       "  'precio': 6.86},\n",
       " {'nombre': 'Carl Jung Cabernet Sauvignon',\n",
       "  'variedad': 'Vino Tinto Sin Alcohol',\n",
       "  'precio': 6.86},\n",
       " {'nombre': 'Carl Jung Cabernet Sauvignon',\n",
       "  'variedad': 'Vino Tinto Sin Alcohol',\n",
       "  'precio': 6.86},\n",
       " {'nombre': 'Carl Jung Cabernet Sauvignon',\n",
       "  'variedad': 'Vino Tinto Sin Alcohol',\n",
       "  'precio': 6.86},\n",
       " {'nombre': 'Carl Jung Cabernet Sauvignon',\n",
       "  'variedad': 'Vino Tinto Sin Alcohol',\n",
       "  'precio': 6.86},\n",
       " {'nombre': 'Carl Jung Cabernet Sauvignon',\n",
       "  'variedad': 'Vino Tinto Sin Alcohol',\n",
       "  'precio': 6.86},\n",
       " {'nombre': 'Carl Jung Cabernet Sauvignon',\n",
       "  'variedad': 'Vino Tinto Sin Alcohol',\n",
       "  'precio': 6.86},\n",
       " {'nombre': 'Carl Jung Cabernet Sauvignon',\n",
       "  'variedad': 'Vino Tinto Sin Alcohol',\n",
       "  'precio': 6.86},\n",
       " {'nombre': 'Carl Jung Cabernet Sauvignon',\n",
       "  'variedad': 'Vino Tinto Sin Alcohol',\n",
       "  'precio': 6.86},\n",
       " {'nombre': 'Carl Jung Cabernet Sauvignon',\n",
       "  'variedad': 'Vino Tinto Sin Alcohol',\n",
       "  'precio': 6.86},\n",
       " {'nombre': 'Carl Jung Cabernet Sauvignon',\n",
       "  'variedad': 'Vino Tinto Sin Alcohol',\n",
       "  'precio': 6.86},\n",
       " {'nombre': 'Carl Jung Cabernet Sauvignon',\n",
       "  'variedad': 'Vino Tinto Sin Alcohol',\n",
       "  'precio': 6.86},\n",
       " {'nombre': 'Carl Jung Cabernet Sauvignon',\n",
       "  'variedad': 'Vino Tinto Sin Alcohol',\n",
       "  'precio': 6.86},\n",
       " {'nombre': 'Carl Jung Cabernet Sauvignon',\n",
       "  'variedad': 'Vino Tinto Sin Alcohol',\n",
       "  'precio': 6.86},\n",
       " {'nombre': 'Carl Jung Cabernet Sauvignon',\n",
       "  'variedad': 'Vino Tinto Sin Alcohol',\n",
       "  'precio': 6.86},\n",
       " {'nombre': 'Carl Jung Cabernet Sauvignon',\n",
       "  'variedad': 'Vino Tinto Sin Alcohol',\n",
       "  'precio': 6.86},\n",
       " {'nombre': 'Carl Jung Cabernet Sauvignon',\n",
       "  'variedad': 'Vino Tinto Sin Alcohol',\n",
       "  'precio': 6.86},\n",
       " {'nombre': 'Carl Jung Cabernet Sauvignon',\n",
       "  'variedad': 'Vino Tinto Sin Alcohol',\n",
       "  'precio': 6.86},\n",
       " {'nombre': 'Carl Jung Cabernet Sauvignon',\n",
       "  'variedad': 'Vino Tinto Sin Alcohol',\n",
       "  'precio': 6.86},\n",
       " {'nombre': 'Carl Jung Cabernet Sauvignon',\n",
       "  'variedad': 'Vino Tinto Sin Alcohol',\n",
       "  'precio': 6.86},\n",
       " {'nombre': 'Carl Jung Cabernet Sauvignon',\n",
       "  'variedad': 'Vino Tinto Sin Alcohol',\n",
       "  'precio': 6.86},\n",
       " {'nombre': 'Carl Jung Cabernet Sauvignon',\n",
       "  'variedad': 'Vino Tinto Sin Alcohol',\n",
       "  'precio': 6.86},\n",
       " {'nombre': 'Carl Jung Cabernet Sauvignon',\n",
       "  'variedad': 'Vino Tinto Sin Alcohol',\n",
       "  'precio': 6.86},\n",
       " {'nombre': 'Carl Jung Cabernet Sauvignon',\n",
       "  'variedad': 'Vino Tinto Sin Alcohol',\n",
       "  'precio': 6.86},\n",
       " {'nombre': 'Carl Jung Cabernet Sauvignon',\n",
       "  'variedad': 'Vino Tinto Sin Alcohol',\n",
       "  'precio': 6.86},\n",
       " {'nombre': 'Carl Jung Cabernet Sauvignon',\n",
       "  'variedad': 'Vino Tinto Sin Alcohol',\n",
       "  'precio': 6.86},\n",
       " {'nombre': 'Carl Jung Cabernet Sauvignon',\n",
       "  'variedad': 'Vino Tinto Sin Alcohol',\n",
       "  'precio': 6.86},\n",
       " {'nombre': 'Carl Jung Cabernet Sauvignon',\n",
       "  'variedad': 'Vino Tinto Sin Alcohol',\n",
       "  'precio': 6.86},\n",
       " {'nombre': 'Carl Jung Cabernet Sauvignon',\n",
       "  'variedad': 'Vino Tinto Sin Alcohol',\n",
       "  'precio': 6.86},\n",
       " {'nombre': 'Carl Jung Cabernet Sauvignon',\n",
       "  'variedad': 'Vino Tinto Sin Alcohol',\n",
       "  'precio': 6.86},\n",
       " {'nombre': 'Carl Jung Cabernet Sauvignon',\n",
       "  'variedad': 'Vino Tinto Sin Alcohol',\n",
       "  'precio': 6.86}]"
      ]
     },
     "execution_count": 582,
     "metadata": {},
     "output_type": "execute_result"
    }
   ],
   "source": [
    "data"
   ]
  },
  {
   "cell_type": "code",
   "execution_count": 584,
   "id": "2bae608a",
   "metadata": {},
   "outputs": [
    {
     "data": {
      "text/html": [
       "<div>\n",
       "<style scoped>\n",
       "    .dataframe tbody tr th:only-of-type {\n",
       "        vertical-align: middle;\n",
       "    }\n",
       "\n",
       "    .dataframe tbody tr th {\n",
       "        vertical-align: top;\n",
       "    }\n",
       "\n",
       "    .dataframe thead th {\n",
       "        text-align: right;\n",
       "    }\n",
       "</style>\n",
       "<table border=\"1\" class=\"dataframe\">\n",
       "  <thead>\n",
       "    <tr style=\"text-align: right;\">\n",
       "      <th></th>\n",
       "      <th>nombre</th>\n",
       "      <th>variedad</th>\n",
       "      <th>precio</th>\n",
       "    </tr>\n",
       "  </thead>\n",
       "  <tbody>\n",
       "    <tr>\n",
       "      <th>0</th>\n",
       "      <td>Carl Jung Cabernet Sauvignon</td>\n",
       "      <td>Vino Tinto Sin Alcohol</td>\n",
       "      <td>6.86</td>\n",
       "    </tr>\n",
       "    <tr>\n",
       "      <th>1</th>\n",
       "      <td>Carl Jung Cabernet Sauvignon</td>\n",
       "      <td>Vino Tinto Sin Alcohol</td>\n",
       "      <td>6.86</td>\n",
       "    </tr>\n",
       "    <tr>\n",
       "      <th>2</th>\n",
       "      <td>Carl Jung Cabernet Sauvignon</td>\n",
       "      <td>Vino Tinto Sin Alcohol</td>\n",
       "      <td>6.86</td>\n",
       "    </tr>\n",
       "    <tr>\n",
       "      <th>3</th>\n",
       "      <td>Carl Jung Cabernet Sauvignon</td>\n",
       "      <td>Vino Tinto Sin Alcohol</td>\n",
       "      <td>6.86</td>\n",
       "    </tr>\n",
       "    <tr>\n",
       "      <th>4</th>\n",
       "      <td>Carl Jung Cabernet Sauvignon</td>\n",
       "      <td>Vino Tinto Sin Alcohol</td>\n",
       "      <td>6.86</td>\n",
       "    </tr>\n",
       "  </tbody>\n",
       "</table>\n",
       "</div>"
      ],
      "text/plain": [
       "                         nombre                variedad  precio\n",
       "0  Carl Jung Cabernet Sauvignon  Vino Tinto Sin Alcohol    6.86\n",
       "1  Carl Jung Cabernet Sauvignon  Vino Tinto Sin Alcohol    6.86\n",
       "2  Carl Jung Cabernet Sauvignon  Vino Tinto Sin Alcohol    6.86\n",
       "3  Carl Jung Cabernet Sauvignon  Vino Tinto Sin Alcohol    6.86\n",
       "4  Carl Jung Cabernet Sauvignon  Vino Tinto Sin Alcohol    6.86"
      ]
     },
     "execution_count": 584,
     "metadata": {},
     "output_type": "execute_result"
    }
   ],
   "source": [
    "## primer DataFrame listo:\n",
    "\n",
    "listado = pd.DataFrame(data)\n",
    "\n",
    "listado.head()"
   ]
  },
  {
   "cell_type": "markdown",
   "id": "6029899c",
   "metadata": {},
   "source": [
    "### 1.1.2\n",
    "\n",
    "Obtenemos datos especificios sobre cada producto de la pagina inicial.\n",
    "Está dividido en dos partes:\n",
    "\n",
    "Parte I:"
   ]
  },
  {
   "cell_type": "markdown",
   "id": "583c8cbe",
   "metadata": {},
   "source": [
    "Paso 1: Conseguir las URL de cada producto"
   ]
  },
  {
   "cell_type": "code",
   "execution_count": 585,
   "id": "da0fc167",
   "metadata": {},
   "outputs": [],
   "source": [
    "lista_urls = []"
   ]
  },
  {
   "cell_type": "code",
   "execution_count": 586,
   "id": "fc68386a",
   "metadata": {
    "scrolled": true
   },
   "outputs": [],
   "source": [
    "lista_urls = []\n",
    "for div in sopa.find_all('div', {'class':'product-wrap'}): \n",
    "    url = div.find('a').attrs['href']\n",
    "    lista_urls.append(url)"
   ]
  },
  {
   "cell_type": "markdown",
   "id": "f52bc101",
   "metadata": {},
   "source": [
    "Paso 2. Defino las características que describen cada botella de vino y posteriormente lo aplico a cada URL"
   ]
  },
  {
   "cell_type": "code",
   "execution_count": 587,
   "id": "23efb034",
   "metadata": {},
   "outputs": [],
   "source": [
    "url_producto_indv = \"https://www.thebluedolphinstore.com/producto/carl-jung-rose-vino-rosado-sin-alcohol/\""
   ]
  },
  {
   "cell_type": "code",
   "execution_count": 588,
   "id": "224a713d",
   "metadata": {},
   "outputs": [],
   "source": [
    "driver = webdriver.Chrome()   # abre una ventana de chrome\n",
    "\n",
    "driver.get(url_producto_indv)   # entra en la pagina"
   ]
  },
  {
   "cell_type": "code",
   "execution_count": 589,
   "id": "5afac6a0",
   "metadata": {},
   "outputs": [
    {
     "data": {
      "text/plain": [
       "['Vino rosado sin alcohol',\n",
       " 'Carl Jung Rosé es un delicioso vino rosado sin alcohol que tiene hasta 1/3 menos calorías que un vino rosado normal. Por tanto permite disfrutar de forma más saludable y si estás a dieta, sin perder nada de sabor.',\n",
       " 'Este vino rosado sin alcohol de Carl Jung tiene todas las ventajas de un rosado típico pero nada de alcohol. Además, esta marca produce vinos sin alcohol veganos.',\n",
       " 'Notas de Cata',\n",
       " 'De color rosa sutil, ligeramente brillante, finamente afrutado y refrescante. Acidez armoniosa, taninos sutiles, frutal con recuerdos a frambuesas y fresas.',\n",
       " 'Volumen: 75 cl.',\n",
       " 'Variedad:',\n",
       " 'Graduación: <0,5 %',\n",
       " 'Productor: Carl Jung (Alemania)']"
      ]
     },
     "execution_count": 589,
     "metadata": {},
     "output_type": "execute_result"
    }
   ],
   "source": [
    "producto_indv = driver.find_element(By.CLASS_NAME, \"woocommerce-product-details__short-description\").text.split('\\n')\n",
    "\n",
    "producto_indv"
   ]
  },
  {
   "cell_type": "code",
   "execution_count": 590,
   "id": "5ad3726f",
   "metadata": {},
   "outputs": [
    {
     "data": {
      "text/plain": [
       "'De color rosa sutil, ligeramente brillante, finamente afrutado y refrescante. Acidez armoniosa, taninos sutiles, frutal con recuerdos a frambuesas y fresas.'"
      ]
     },
     "execution_count": 590,
     "metadata": {},
     "output_type": "execute_result"
    }
   ],
   "source": [
    "notas_de_cata = producto_indv[4]\n",
    "notas_de_cata"
   ]
  },
  {
   "cell_type": "code",
   "execution_count": 591,
   "id": "ceb05929",
   "metadata": {},
   "outputs": [],
   "source": [
    "for element in producto_indv:\n",
    "    if element.startswith('Volumen'):\n",
    "        volumen = int(element.replace('Volumen: ', '').replace('<.','').replace('cl.',''))\n",
    "    if element.startswith('Variedad'):\n",
    "        variedad = element.replace('Variedad: ', '')\n",
    "    if element.startswith('Graduación'): \n",
    "        graduacion = element.replace('Graduación: ', '')\n",
    "    if element.startswith('Productor'): \n",
    "        productor = element.replace('Productor: ', '')\n",
    "    if element.startswith('Productor'):\n",
    "        pais = element.split('(')[1].replace(')','')\n",
    "    if element in producto_indv[4]:\n",
    "        notas_de_cata = notas_de_cata"
   ]
  },
  {
   "cell_type": "code",
   "execution_count": 592,
   "id": "2c2b624d",
   "metadata": {},
   "outputs": [
    {
     "data": {
      "text/plain": [
       "75"
      ]
     },
     "execution_count": 592,
     "metadata": {},
     "output_type": "execute_result"
    }
   ],
   "source": [
    "volumen"
   ]
  },
  {
   "cell_type": "code",
   "execution_count": 593,
   "id": "4e334e55",
   "metadata": {},
   "outputs": [
    {
     "data": {
      "text/plain": [
       "'Variedad:'"
      ]
     },
     "execution_count": 593,
     "metadata": {},
     "output_type": "execute_result"
    }
   ],
   "source": [
    "variedad"
   ]
  },
  {
   "cell_type": "code",
   "execution_count": 594,
   "id": "d6f97d99",
   "metadata": {},
   "outputs": [
    {
     "data": {
      "text/plain": [
       "'<0,5 %'"
      ]
     },
     "execution_count": 594,
     "metadata": {},
     "output_type": "execute_result"
    }
   ],
   "source": [
    "graduacion"
   ]
  },
  {
   "cell_type": "code",
   "execution_count": 595,
   "id": "a5b9ed35",
   "metadata": {},
   "outputs": [
    {
     "data": {
      "text/plain": [
       "'Carl Jung (Alemania)'"
      ]
     },
     "execution_count": 595,
     "metadata": {},
     "output_type": "execute_result"
    }
   ],
   "source": [
    "productor"
   ]
  },
  {
   "cell_type": "code",
   "execution_count": 596,
   "id": "5294cc3f",
   "metadata": {},
   "outputs": [
    {
     "data": {
      "text/plain": [
       "'Alemania'"
      ]
     },
     "execution_count": 596,
     "metadata": {},
     "output_type": "execute_result"
    }
   ],
   "source": [
    "pais"
   ]
  },
  {
   "cell_type": "code",
   "execution_count": 597,
   "id": "7400f065",
   "metadata": {},
   "outputs": [
    {
     "data": {
      "text/plain": [
       "'Etiqueta: Vegano'"
      ]
     },
     "execution_count": 597,
     "metadata": {},
     "output_type": "execute_result"
    }
   ],
   "source": [
    "etiqueta = driver.find_element(By.CLASS_NAME, \"tagged_as\").text\n",
    "\n",
    "etiqueta"
   ]
  },
  {
   "cell_type": "code",
   "execution_count": 598,
   "id": "ae7b9db7",
   "metadata": {},
   "outputs": [
    {
     "data": {
      "text/plain": [
       "'Vegano'"
      ]
     },
     "execution_count": 598,
     "metadata": {},
     "output_type": "execute_result"
    }
   ],
   "source": [
    "etiqueta = etiqueta.replace('Etiqueta: ', '')\n",
    "        \n",
    "etiqueta"
   ]
  },
  {
   "cell_type": "code",
   "execution_count": 599,
   "id": "9aab2813",
   "metadata": {},
   "outputs": [],
   "source": [
    "## Tuve que instalar el paquete de selenium porque me daba esta excepcion en la etiqueta\n",
    "from selenium.common.exceptions import NoSuchElementException"
   ]
  },
  {
   "cell_type": "markdown",
   "id": "7dc694bf",
   "metadata": {},
   "source": [
    "Paso 3: Creo la data2 con cada valor unico y obtenemos el siguiente DataFrame\n",
    "Este paso me ha dado muchos errores:\n",
    "1. He tenido que incluir muchos valores de .replace() porque no en todas las url estan definidos de la misma forma, y por ello me cortaba el bucle una y otra vez.\n",
    "2. Cada pagina tiene que abrir, buscar y cerrarse, por eso agrego los driver.get() y driver.close()\n",
    "3. Etiqueta me daba muchos errores agregamos la excepcion de NoSuchElementException y le pedimos que cuando esto ocurra nos arroje el valor de No Disponible.\n",
    "4. Paciencia."
   ]
  },
  {
   "cell_type": "code",
   "execution_count": 600,
   "id": "8b42155b",
   "metadata": {},
   "outputs": [],
   "source": [
    "data2 = []\n",
    "\n",
    "for u in lista_urls:\n",
    "    driver = webdriver.Chrome()\n",
    "    driver.get(u) \n",
    "   \n",
    "    producto_indv = driver.find_element(By.CLASS_NAME, \"woocommerce-product-details__short-description\").text.split('\\n')\n",
    "    \n",
    "    for element in producto_indv:\n",
    "        if element.startswith('Volumen'):\n",
    "            volumen = int(element.replace('Volumen: ', '').replace('75 .','').replace('.','').replace('cl','').replace('cl.',''))\n",
    "        if element.startswith('Variedad'):\n",
    "            variedad = element.replace('Variedad: ', '')\n",
    "        if element.startswith('Graduación'): \n",
    "            graduacion = element.replace('Graduación: ', '')\n",
    "        if element.startswith('Productor'): \n",
    "            productor = element.replace('Productor: ', '')\n",
    "        if element.startswith('Productor'):\n",
    "            pais = element.split('(')[1].replace(')','')\n",
    "        if element in producto_indv[4]:\n",
    "            notas_de_cata = notas_de_cata\n",
    "    try:\n",
    "        etiqueta = driver.find_element(By.CLASS_NAME, \"tagged_as\").text.replace('Etiqueta: ', '')\n",
    "        etiqueta = etiqueta.replace('Etiqueta: ', '').replace('Etiquetas: ' ,'')\n",
    "    except NoSuchElementException:\n",
    "        etiqueta = \"No Disponible\"\n",
    "\n",
    "    \n",
    "    dictio2 = {'volumen' : volumen, 'graduacion': graduacion, 'productor':productor, 'pais': pais, 'etiqueta': etiqueta, 'notas de cata': notas_de_cata,'url': url}\n",
    "    \n",
    "    data2.append(dictio2)\n",
    "    \n",
    "    driver.close()\n",
    "    "
   ]
  },
  {
   "cell_type": "code",
   "execution_count": 601,
   "id": "0a510e5d",
   "metadata": {
    "scrolled": false
   },
   "outputs": [
    {
     "data": {
      "text/plain": [
       "[{'volumen': 75,\n",
       "  'graduacion': '<0,5 %',\n",
       "  'productor': 'Carl Jung (Alemania)',\n",
       "  'pais': 'Alemania',\n",
       "  'etiqueta': 'Vegano',\n",
       "  'notas de cata': 'De color rosa sutil, ligeramente brillante, finamente afrutado y refrescante. Acidez armoniosa, taninos sutiles, frutal con recuerdos a frambuesas y fresas.',\n",
       "  'url': 'https://www.thebluedolphinstore.com/producto/vino-sin-alcohol-zero-zero-blanco/'},\n",
       " {'volumen': 75,\n",
       "  'graduacion': '0,5%',\n",
       "  'productor': 'Carl Jung (Alemania)',\n",
       "  'pais': 'Alemania',\n",
       "  'etiqueta': 'Syrah',\n",
       "  'notas de cata': 'De color rosa sutil, ligeramente brillante, finamente afrutado y refrescante. Acidez armoniosa, taninos sutiles, frutal con recuerdos a frambuesas y fresas.',\n",
       "  'url': 'https://www.thebluedolphinstore.com/producto/vino-sin-alcohol-zero-zero-blanco/'},\n",
       " {'volumen': 75,\n",
       "  'graduacion': '<0,5 %',\n",
       "  'productor': 'Carl Jung (Alemania)',\n",
       "  'pais': 'Alemania',\n",
       "  'etiqueta': 'Cabernet Sauvignon, Vegano',\n",
       "  'notas de cata': 'De color rosa sutil, ligeramente brillante, finamente afrutado y refrescante. Acidez armoniosa, taninos sutiles, frutal con recuerdos a frambuesas y fresas.',\n",
       "  'url': 'https://www.thebluedolphinstore.com/producto/vino-sin-alcohol-zero-zero-blanco/'},\n",
       " {'volumen': 75,\n",
       "  'graduacion': '<0,5 %',\n",
       "  'productor': 'Carl Jung (Alemania)',\n",
       "  'pais': 'Alemania',\n",
       "  'etiqueta': 'Merlot, Vegano',\n",
       "  'notas de cata': 'De color rosa sutil, ligeramente brillante, finamente afrutado y refrescante. Acidez armoniosa, taninos sutiles, frutal con recuerdos a frambuesas y fresas.',\n",
       "  'url': 'https://www.thebluedolphinstore.com/producto/vino-sin-alcohol-zero-zero-blanco/'},\n",
       " {'volumen': 75,\n",
       "  'graduacion': '0,5%',\n",
       "  'productor': 'Carl Jung (Alemania)',\n",
       "  'pais': 'Alemania',\n",
       "  'etiqueta': 'No Disponible',\n",
       "  'notas de cata': 'De color rosa sutil, ligeramente brillante, finamente afrutado y refrescante. Acidez armoniosa, taninos sutiles, frutal con recuerdos a frambuesas y fresas.',\n",
       "  'url': 'https://www.thebluedolphinstore.com/producto/vino-sin-alcohol-zero-zero-blanco/'},\n",
       " {'volumen': 75,\n",
       "  'graduacion': '0,5%',\n",
       "  'productor': 'Carl Jung (Alemania)',\n",
       "  'pais': 'Alemania',\n",
       "  'etiqueta': 'Cabernet Sauvignon',\n",
       "  'notas de cata': 'De color rosa sutil, ligeramente brillante, finamente afrutado y refrescante. Acidez armoniosa, taninos sutiles, frutal con recuerdos a frambuesas y fresas.',\n",
       "  'url': 'https://www.thebluedolphinstore.com/producto/vino-sin-alcohol-zero-zero-blanco/'},\n",
       " {'volumen': 75,\n",
       "  'graduacion': '<0,5 %',\n",
       "  'productor': 'Carl Jung (Alemania)',\n",
       "  'pais': 'Alemania',\n",
       "  'etiqueta': 'Chardonnay, Vegano',\n",
       "  'notas de cata': 'De color rosa sutil, ligeramente brillante, finamente afrutado y refrescante. Acidez armoniosa, taninos sutiles, frutal con recuerdos a frambuesas y fresas.',\n",
       "  'url': 'https://www.thebluedolphinstore.com/producto/vino-sin-alcohol-zero-zero-blanco/'},\n",
       " {'volumen': 75,\n",
       "  'graduacion': '<0,5 %',\n",
       "  'productor': 'Carl Jung (Alemania)',\n",
       "  'pais': 'Alemania',\n",
       "  'etiqueta': 'Riesling, Vegano',\n",
       "  'notas de cata': 'De color rosa sutil, ligeramente brillante, finamente afrutado y refrescante. Acidez armoniosa, taninos sutiles, frutal con recuerdos a frambuesas y fresas.',\n",
       "  'url': 'https://www.thebluedolphinstore.com/producto/vino-sin-alcohol-zero-zero-blanco/'},\n",
       " {'volumen': 75,\n",
       "  'graduacion': '<0,5 %',\n",
       "  'productor': 'Oddbird International (Suecia)',\n",
       "  'pais': 'Suecia',\n",
       "  'etiqueta': 'Chardonnay, Orgánico / Ecológico, Vegano',\n",
       "  'notas de cata': 'De color rosa sutil, ligeramente brillante, finamente afrutado y refrescante. Acidez armoniosa, taninos sutiles, frutal con recuerdos a frambuesas y fresas.',\n",
       "  'url': 'https://www.thebluedolphinstore.com/producto/vino-sin-alcohol-zero-zero-blanco/'},\n",
       " {'volumen': 75,\n",
       "  'graduacion': '0%',\n",
       "  'productor': 'Oddbird International (Suecia)',\n",
       "  'pais': 'Suecia',\n",
       "  'etiqueta': 'Orgánico / Ecológico, Sin saborizantes, Vegano',\n",
       "  'notas de cata': 'De color rosa sutil, ligeramente brillante, finamente afrutado y refrescante. Acidez armoniosa, taninos sutiles, frutal con recuerdos a frambuesas y fresas.',\n",
       "  'url': 'https://www.thebluedolphinstore.com/producto/vino-sin-alcohol-zero-zero-blanco/'},\n",
       " {'volumen': 75,\n",
       "  'graduacion': '0,5%',\n",
       "  'productor': 'Oddbird International (Suecia)',\n",
       "  'pais': 'Suecia',\n",
       "  'etiqueta': 'No Disponible',\n",
       "  'notas de cata': 'De color rosa sutil, ligeramente brillante, finamente afrutado y refrescante. Acidez armoniosa, taninos sutiles, frutal con recuerdos a frambuesas y fresas.',\n",
       "  'url': 'https://www.thebluedolphinstore.com/producto/vino-sin-alcohol-zero-zero-blanco/'},\n",
       " {'volumen': 75,\n",
       "  'graduacion': '0,5%',\n",
       "  'productor': 'Oddbird International (Suecia)',\n",
       "  'pais': 'Suecia',\n",
       "  'etiqueta': 'Chardonnay',\n",
       "  'notas de cata': 'De color rosa sutil, ligeramente brillante, finamente afrutado y refrescante. Acidez armoniosa, taninos sutiles, frutal con recuerdos a frambuesas y fresas.',\n",
       "  'url': 'https://www.thebluedolphinstore.com/producto/vino-sin-alcohol-zero-zero-blanco/'},\n",
       " {'volumen': 75,\n",
       "  'graduacion': '<0,5%',\n",
       "  'productor': 'Oddbird International (Suecia)',\n",
       "  'pais': 'Suecia',\n",
       "  'etiqueta': 'Merlot',\n",
       "  'notas de cata': 'De color rosa sutil, ligeramente brillante, finamente afrutado y refrescante. Acidez armoniosa, taninos sutiles, frutal con recuerdos a frambuesas y fresas.',\n",
       "  'url': 'https://www.thebluedolphinstore.com/producto/vino-sin-alcohol-zero-zero-blanco/'},\n",
       " {'volumen': 75,\n",
       "  'graduacion': '<0,5%',\n",
       "  'productor': 'Oddbird International (Suecia)',\n",
       "  'pais': 'Suecia',\n",
       "  'etiqueta': 'Cabernet Sauvignon',\n",
       "  'notas de cata': 'De color rosa sutil, ligeramente brillante, finamente afrutado y refrescante. Acidez armoniosa, taninos sutiles, frutal con recuerdos a frambuesas y fresas.',\n",
       "  'url': 'https://www.thebluedolphinstore.com/producto/vino-sin-alcohol-zero-zero-blanco/'},\n",
       " {'volumen': 75,\n",
       "  'graduacion': '<0,5%',\n",
       "  'productor': 'Oddbird International (Suecia)',\n",
       "  'pais': 'Suecia',\n",
       "  'etiqueta': 'Riesling',\n",
       "  'notas de cata': 'De color rosa sutil, ligeramente brillante, finamente afrutado y refrescante. Acidez armoniosa, taninos sutiles, frutal con recuerdos a frambuesas y fresas.',\n",
       "  'url': 'https://www.thebluedolphinstore.com/producto/vino-sin-alcohol-zero-zero-blanco/'},\n",
       " {'volumen': 75,\n",
       "  'graduacion': '<0,5%',\n",
       "  'productor': 'Oddbird International (Suecia)',\n",
       "  'pais': 'Suecia',\n",
       "  'etiqueta': 'No Disponible',\n",
       "  'notas de cata': 'De color rosa sutil, ligeramente brillante, finamente afrutado y refrescante. Acidez armoniosa, taninos sutiles, frutal con recuerdos a frambuesas y fresas.',\n",
       "  'url': 'https://www.thebluedolphinstore.com/producto/vino-sin-alcohol-zero-zero-blanco/'},\n",
       " {'volumen': 75,\n",
       "  'graduacion': '<0,5%',\n",
       "  'productor': 'Oddbird International (Suecia)',\n",
       "  'pais': 'Suecia',\n",
       "  'etiqueta': 'Bajo o Sin Calorías, Chardonnay, Orgánico / Ecológico',\n",
       "  'notas de cata': 'De color rosa sutil, ligeramente brillante, finamente afrutado y refrescante. Acidez armoniosa, taninos sutiles, frutal con recuerdos a frambuesas y fresas.',\n",
       "  'url': 'https://www.thebluedolphinstore.com/producto/vino-sin-alcohol-zero-zero-blanco/'},\n",
       " {'volumen': 75,\n",
       "  'graduacion': '0%',\n",
       "  'productor': 'Oddbird International (Suecia)',\n",
       "  'pais': 'Suecia',\n",
       "  'etiqueta': 'Bajo o Sin Calorías, Orgánico / Ecológico, Sin saborizantes',\n",
       "  'notas de cata': 'De color rosa sutil, ligeramente brillante, finamente afrutado y refrescante. Acidez armoniosa, taninos sutiles, frutal con recuerdos a frambuesas y fresas.',\n",
       "  'url': 'https://www.thebluedolphinstore.com/producto/vino-sin-alcohol-zero-zero-blanco/'},\n",
       " {'volumen': 75,\n",
       "  'graduacion': '0,0%',\n",
       "  'productor': 'Princess (Italia)',\n",
       "  'pais': 'Italia',\n",
       "  'etiqueta': 'Bajo o Sin Calorías, Natural, Sin saborizantes',\n",
       "  'notas de cata': 'De color rosa sutil, ligeramente brillante, finamente afrutado y refrescante. Acidez armoniosa, taninos sutiles, frutal con recuerdos a frambuesas y fresas.',\n",
       "  'url': 'https://www.thebluedolphinstore.com/producto/vino-sin-alcohol-zero-zero-blanco/'},\n",
       " {'volumen': 75,\n",
       "  'graduacion': '0,3%',\n",
       "  'productor': 'Kolonne Null (Alemania)',\n",
       "  'pais': 'Alemania',\n",
       "  'etiqueta': 'Bajo o Sin Calorías, Exclusivo Blue Dolphin, Riesling, Sin gluten, Vegano',\n",
       "  'notas de cata': 'De color rosa sutil, ligeramente brillante, finamente afrutado y refrescante. Acidez armoniosa, taninos sutiles, frutal con recuerdos a frambuesas y fresas.',\n",
       "  'url': 'https://www.thebluedolphinstore.com/producto/vino-sin-alcohol-zero-zero-blanco/'},\n",
       " {'volumen': 75,\n",
       "  'graduacion': '<0,5%',\n",
       "  'productor': 'Kolonne Null (Alemania)',\n",
       "  'pais': 'Alemania',\n",
       "  'etiqueta': 'Bajo o Sin Calorías, Garnacha, Orgánico / Ecológico',\n",
       "  'notas de cata': 'De color rosa sutil, ligeramente brillante, finamente afrutado y refrescante. Acidez armoniosa, taninos sutiles, frutal con recuerdos a frambuesas y fresas.',\n",
       "  'url': 'https://www.thebluedolphinstore.com/producto/vino-sin-alcohol-zero-zero-blanco/'},\n",
       " {'volumen': 75,\n",
       "  'graduacion': '0,0%',\n",
       "  'productor': 'Producto de Aldea (Galicia-España)',\n",
       "  'pais': 'Galicia-España',\n",
       "  'etiqueta': 'Verdejo',\n",
       "  'notas de cata': 'De color rosa sutil, ligeramente brillante, finamente afrutado y refrescante. Acidez armoniosa, taninos sutiles, frutal con recuerdos a frambuesas y fresas.',\n",
       "  'url': 'https://www.thebluedolphinstore.com/producto/vino-sin-alcohol-zero-zero-blanco/'},\n",
       " {'volumen': 75,\n",
       "  'graduacion': '0,0%',\n",
       "  'productor': 'Producto de Aldea (Galicia-España)',\n",
       "  'pais': 'Galicia-España',\n",
       "  'etiqueta': 'Tempranillo',\n",
       "  'notas de cata': 'De color rosa sutil, ligeramente brillante, finamente afrutado y refrescante. Acidez armoniosa, taninos sutiles, frutal con recuerdos a frambuesas y fresas.',\n",
       "  'url': 'https://www.thebluedolphinstore.com/producto/vino-sin-alcohol-zero-zero-blanco/'},\n",
       " {'volumen': 75,\n",
       "  'graduacion': '0,0%',\n",
       "  'productor': 'Producto de Aldea (Galicia-España)',\n",
       "  'pais': 'Galicia-España',\n",
       "  'etiqueta': 'Bajo o Sin Calorías, Chardonnay, Exclusivo Blue Dolphin, Halal, Merlot, Vegano',\n",
       "  'notas de cata': 'De color rosa sutil, ligeramente brillante, finamente afrutado y refrescante. Acidez armoniosa, taninos sutiles, frutal con recuerdos a frambuesas y fresas.',\n",
       "  'url': 'https://www.thebluedolphinstore.com/producto/vino-sin-alcohol-zero-zero-blanco/'},\n",
       " {'volumen': 75,\n",
       "  'graduacion': '0,0%',\n",
       "  'productor': 'Win (Valladolid – España)',\n",
       "  'pais': 'Valladolid – España',\n",
       "  'etiqueta': 'Sin gluten, Vegano, Verdejo',\n",
       "  'notas de cata': 'De color rosa sutil, ligeramente brillante, finamente afrutado y refrescante. Acidez armoniosa, taninos sutiles, frutal con recuerdos a frambuesas y fresas.',\n",
       "  'url': 'https://www.thebluedolphinstore.com/producto/vino-sin-alcohol-zero-zero-blanco/'},\n",
       " {'volumen': 75,\n",
       "  'graduacion': '0%',\n",
       "  'productor': 'Win (Valladolid – España)',\n",
       "  'pais': 'Valladolid – España',\n",
       "  'etiqueta': 'Bajo o Sin Calorías, Chardonnay, Exclusivo Blue Dolphin, Halal, Vegano',\n",
       "  'notas de cata': 'De color rosa sutil, ligeramente brillante, finamente afrutado y refrescante. Acidez armoniosa, taninos sutiles, frutal con recuerdos a frambuesas y fresas.',\n",
       "  'url': 'https://www.thebluedolphinstore.com/producto/vino-sin-alcohol-zero-zero-blanco/'},\n",
       " {'volumen': 75,\n",
       "  'graduacion': '0%',\n",
       "  'productor': 'Win (Valladolid – España)',\n",
       "  'pais': 'Valladolid – España',\n",
       "  'etiqueta': 'Chardonnay, Exclusivo Blue Dolphin, Vegano',\n",
       "  'notas de cata': 'De color rosa sutil, ligeramente brillante, finamente afrutado y refrescante. Acidez armoniosa, taninos sutiles, frutal con recuerdos a frambuesas y fresas.',\n",
       "  'url': 'https://www.thebluedolphinstore.com/producto/vino-sin-alcohol-zero-zero-blanco/'},\n",
       " {'volumen': 75,\n",
       "  'graduacion': '0,0%',\n",
       "  'productor': 'Win (Valladolid – España)',\n",
       "  'pais': 'Valladolid – España',\n",
       "  'etiqueta': 'Bajo o Sin Calorías, Moscatel',\n",
       "  'notas de cata': 'De color rosa sutil, ligeramente brillante, finamente afrutado y refrescante. Acidez armoniosa, taninos sutiles, frutal con recuerdos a frambuesas y fresas.',\n",
       "  'url': 'https://www.thebluedolphinstore.com/producto/vino-sin-alcohol-zero-zero-blanco/'},\n",
       " {'volumen': 75,\n",
       "  'graduacion': '0%',\n",
       "  'productor': 'Win (Valladolid – España)',\n",
       "  'pais': 'Valladolid – España',\n",
       "  'etiqueta': 'Bajo o Sin Calorías, Exclusivo Blue Dolphin, Merlot, Vegano',\n",
       "  'notas de cata': 'De color rosa sutil, ligeramente brillante, finamente afrutado y refrescante. Acidez armoniosa, taninos sutiles, frutal con recuerdos a frambuesas y fresas.',\n",
       "  'url': 'https://www.thebluedolphinstore.com/producto/vino-sin-alcohol-zero-zero-blanco/'},\n",
       " {'volumen': 75,\n",
       "  'graduacion': '0,0%',\n",
       "  'productor': 'Win (Valladolid – España)',\n",
       "  'pais': 'Valladolid – España',\n",
       "  'etiqueta': 'Tempranillo',\n",
       "  'notas de cata': 'De color rosa sutil, ligeramente brillante, finamente afrutado y refrescante. Acidez armoniosa, taninos sutiles, frutal con recuerdos a frambuesas y fresas.',\n",
       "  'url': 'https://www.thebluedolphinstore.com/producto/vino-sin-alcohol-zero-zero-blanco/'},\n",
       " {'volumen': 75,\n",
       "  'graduacion': '0,0%',\n",
       "  'productor': 'Win (Valladolid – España)',\n",
       "  'pais': 'Valladolid – España',\n",
       "  'etiqueta': 'Sin gluten, Tempranillo, Vegano',\n",
       "  'notas de cata': 'De color rosa sutil, ligeramente brillante, finamente afrutado y refrescante. Acidez armoniosa, taninos sutiles, frutal con recuerdos a frambuesas y fresas.',\n",
       "  'url': 'https://www.thebluedolphinstore.com/producto/vino-sin-alcohol-zero-zero-blanco/'},\n",
       " {'volumen': 75,\n",
       "  'graduacion': '0,0%',\n",
       "  'productor': 'Producto de Aldea (Galicia-España)',\n",
       "  'pais': 'Galicia-España',\n",
       "  'etiqueta': 'Tempranillo',\n",
       "  'notas de cata': 'De color rosa sutil, ligeramente brillante, finamente afrutado y refrescante. Acidez armoniosa, taninos sutiles, frutal con recuerdos a frambuesas y fresas.',\n",
       "  'url': 'https://www.thebluedolphinstore.com/producto/vino-sin-alcohol-zero-zero-blanco/'},\n",
       " {'volumen': 75,\n",
       "  'graduacion': '0,0%',\n",
       "  'productor': 'Producto de Aldea (Galicia-España)',\n",
       "  'pais': 'Galicia-España',\n",
       "  'etiqueta': 'Bajo o Sin Calorías, Garnacha, Syrah',\n",
       "  'notas de cata': 'De color rosa sutil, ligeramente brillante, finamente afrutado y refrescante. Acidez armoniosa, taninos sutiles, frutal con recuerdos a frambuesas y fresas.',\n",
       "  'url': 'https://www.thebluedolphinstore.com/producto/vino-sin-alcohol-zero-zero-blanco/'},\n",
       " {'volumen': 75,\n",
       "  'graduacion': '0,0%',\n",
       "  'productor': 'Producto de Aldea (Galicia-España)',\n",
       "  'pais': 'Galicia-España',\n",
       "  'etiqueta': 'Bajo o Sin Calorías, Cabernet Sauvignon, Syrah',\n",
       "  'notas de cata': 'De color rosa sutil, ligeramente brillante, finamente afrutado y refrescante. Acidez armoniosa, taninos sutiles, frutal con recuerdos a frambuesas y fresas.',\n",
       "  'url': 'https://www.thebluedolphinstore.com/producto/vino-sin-alcohol-zero-zero-blanco/'},\n",
       " {'volumen': 75,\n",
       "  'graduacion': '<0,5%',\n",
       "  'productor': 'Somée (Alemania)',\n",
       "  'pais': 'Alemania',\n",
       "  'etiqueta': 'Cabernet Sauvignon',\n",
       "  'notas de cata': 'De color rosa sutil, ligeramente brillante, finamente afrutado y refrescante. Acidez armoniosa, taninos sutiles, frutal con recuerdos a frambuesas y fresas.',\n",
       "  'url': 'https://www.thebluedolphinstore.com/producto/vino-sin-alcohol-zero-zero-blanco/'},\n",
       " {'volumen': 75,\n",
       "  'graduacion': '0,0%',\n",
       "  'productor': 'Princess (Italia)',\n",
       "  'pais': 'Italia',\n",
       "  'etiqueta': 'Bajo o Sin Calorías, Natural, Sin saborizantes',\n",
       "  'notas de cata': 'De color rosa sutil, ligeramente brillante, finamente afrutado y refrescante. Acidez armoniosa, taninos sutiles, frutal con recuerdos a frambuesas y fresas.',\n",
       "  'url': 'https://www.thebluedolphinstore.com/producto/vino-sin-alcohol-zero-zero-blanco/'},\n",
       " {'volumen': 75,\n",
       "  'graduacion': '0,0 %',\n",
       "  'productor': 'Bodegas Juan Gil (España)',\n",
       "  'pais': 'España',\n",
       "  'etiqueta': 'Vegano, Verdejo',\n",
       "  'notas de cata': 'De color rosa sutil, ligeramente brillante, finamente afrutado y refrescante. Acidez armoniosa, taninos sutiles, frutal con recuerdos a frambuesas y fresas.',\n",
       "  'url': 'https://www.thebluedolphinstore.com/producto/vino-sin-alcohol-zero-zero-blanco/'},\n",
       " {'volumen': 75,\n",
       "  'graduacion': '<0,5%',\n",
       "  'productor': 'Oddbird International (Suecia)',\n",
       "  'pais': 'Suecia',\n",
       "  'etiqueta': 'Vegano',\n",
       "  'notas de cata': 'De color rosa sutil, ligeramente brillante, finamente afrutado y refrescante. Acidez armoniosa, taninos sutiles, frutal con recuerdos a frambuesas y fresas.',\n",
       "  'url': 'https://www.thebluedolphinstore.com/producto/vino-sin-alcohol-zero-zero-blanco/'},\n",
       " {'volumen': 75,\n",
       "  'graduacion': '<0,5%',\n",
       "  'productor': 'Oddbird International (Suecia)',\n",
       "  'pais': 'Suecia',\n",
       "  'etiqueta': 'Chardonnay',\n",
       "  'notas de cata': 'De color rosa sutil, ligeramente brillante, finamente afrutado y refrescante. Acidez armoniosa, taninos sutiles, frutal con recuerdos a frambuesas y fresas.',\n",
       "  'url': 'https://www.thebluedolphinstore.com/producto/vino-sin-alcohol-zero-zero-blanco/'},\n",
       " {'volumen': 75,\n",
       "  'graduacion': '0%',\n",
       "  'productor': 'Oddbird International (Suecia)',\n",
       "  'pais': 'Suecia',\n",
       "  'etiqueta': 'Bajo o Sin Calorías, Merlot, Orgánico / Ecológico, Syrah',\n",
       "  'notas de cata': 'De color rosa sutil, ligeramente brillante, finamente afrutado y refrescante. Acidez armoniosa, taninos sutiles, frutal con recuerdos a frambuesas y fresas.',\n",
       "  'url': 'https://www.thebluedolphinstore.com/producto/vino-sin-alcohol-zero-zero-blanco/'},\n",
       " {'volumen': 75,\n",
       "  'graduacion': '0,0%',\n",
       "  'productor': 'Oddbird International (Suecia)',\n",
       "  'pais': 'Suecia',\n",
       "  'etiqueta': 'Chardonnay, Vegano',\n",
       "  'notas de cata': 'De color rosa sutil, ligeramente brillante, finamente afrutado y refrescante. Acidez armoniosa, taninos sutiles, frutal con recuerdos a frambuesas y fresas.',\n",
       "  'url': 'https://www.thebluedolphinstore.com/producto/vino-sin-alcohol-zero-zero-blanco/'},\n",
       " {'volumen': 75,\n",
       "  'graduacion': '<0,5%',\n",
       "  'productor': 'Somée (Alemania)',\n",
       "  'pais': 'Alemania',\n",
       "  'etiqueta': 'No Disponible',\n",
       "  'notas de cata': 'De color rosa sutil, ligeramente brillante, finamente afrutado y refrescante. Acidez armoniosa, taninos sutiles, frutal con recuerdos a frambuesas y fresas.',\n",
       "  'url': 'https://www.thebluedolphinstore.com/producto/vino-sin-alcohol-zero-zero-blanco/'},\n",
       " {'volumen': 75,\n",
       "  'graduacion': '<0,5%',\n",
       "  'productor': 'Somée (Alemania)',\n",
       "  'pais': 'Alemania',\n",
       "  'etiqueta': 'Chardonnay',\n",
       "  'notas de cata': 'De color rosa sutil, ligeramente brillante, finamente afrutado y refrescante. Acidez armoniosa, taninos sutiles, frutal con recuerdos a frambuesas y fresas.',\n",
       "  'url': 'https://www.thebluedolphinstore.com/producto/vino-sin-alcohol-zero-zero-blanco/'},\n",
       " {'volumen': 75,\n",
       "  'graduacion': '<0,5%',\n",
       "  'productor': 'Somée (Alemania)',\n",
       "  'pais': 'Alemania',\n",
       "  'etiqueta': 'Riesling',\n",
       "  'notas de cata': 'De color rosa sutil, ligeramente brillante, finamente afrutado y refrescante. Acidez armoniosa, taninos sutiles, frutal con recuerdos a frambuesas y fresas.',\n",
       "  'url': 'https://www.thebluedolphinstore.com/producto/vino-sin-alcohol-zero-zero-blanco/'},\n",
       " {'volumen': 75,\n",
       "  'graduacion': '0,3%',\n",
       "  'productor': 'Kolonne Null (Alemania)',\n",
       "  'pais': 'Alemania',\n",
       "  'etiqueta': 'Bajo o Sin Calorías, Exclusivo Blue Dolphin, Sin gluten, Vegano, Verdejo',\n",
       "  'notas de cata': 'De color rosa sutil, ligeramente brillante, finamente afrutado y refrescante. Acidez armoniosa, taninos sutiles, frutal con recuerdos a frambuesas y fresas.',\n",
       "  'url': 'https://www.thebluedolphinstore.com/producto/vino-sin-alcohol-zero-zero-blanco/'},\n",
       " {'volumen': 75,\n",
       "  'graduacion': '0,5%',\n",
       "  'productor': 'Comercial DYP SPA (Chile)',\n",
       "  'pais': 'Chile',\n",
       "  'etiqueta': 'Chardonnay, Exclusivo Blue Dolphin',\n",
       "  'notas de cata': 'De color rosa sutil, ligeramente brillante, finamente afrutado y refrescante. Acidez armoniosa, taninos sutiles, frutal con recuerdos a frambuesas y fresas.',\n",
       "  'url': 'https://www.thebluedolphinstore.com/producto/vino-sin-alcohol-zero-zero-blanco/'},\n",
       " {'volumen': 75,\n",
       "  'graduacion': '0,0%',\n",
       "  'productor': 'Comercial DYP SPA (Chile)',\n",
       "  'pais': 'Chile',\n",
       "  'etiqueta': 'Vegano',\n",
       "  'notas de cata': 'De color rosa sutil, ligeramente brillante, finamente afrutado y refrescante. Acidez armoniosa, taninos sutiles, frutal con recuerdos a frambuesas y fresas.',\n",
       "  'url': 'https://www.thebluedolphinstore.com/producto/vino-sin-alcohol-zero-zero-blanco/'},\n",
       " {'volumen': 75,\n",
       "  'graduacion': '0,0%',\n",
       "  'productor': 'Comercial DYP SPA (Chile)',\n",
       "  'pais': 'Chile',\n",
       "  'etiqueta': 'Vegano',\n",
       "  'notas de cata': 'De color rosa sutil, ligeramente brillante, finamente afrutado y refrescante. Acidez armoniosa, taninos sutiles, frutal con recuerdos a frambuesas y fresas.',\n",
       "  'url': 'https://www.thebluedolphinstore.com/producto/vino-sin-alcohol-zero-zero-blanco/'},\n",
       " {'volumen': 75,\n",
       "  'graduacion': '0,4%',\n",
       "  'productor': 'Kolonne Null (Alemania)',\n",
       "  'pais': 'Alemania',\n",
       "  'etiqueta': 'Bajo o Sin Calorías, Exclusivo Blue Dolphin, Sin gluten, Vegano',\n",
       "  'notas de cata': 'De color rosa sutil, ligeramente brillante, finamente afrutado y refrescante. Acidez armoniosa, taninos sutiles, frutal con recuerdos a frambuesas y fresas.',\n",
       "  'url': 'https://www.thebluedolphinstore.com/producto/vino-sin-alcohol-zero-zero-blanco/'},\n",
       " {'volumen': 75,\n",
       "  'graduacion': '<0,5%',\n",
       "  'productor': 'Comercial DYP SPA (Chile)',\n",
       "  'pais': 'Chile',\n",
       "  'etiqueta': 'Cabernet Sauvignon, Exclusivo Blue Dolphin',\n",
       "  'notas de cata': 'De color rosa sutil, ligeramente brillante, finamente afrutado y refrescante. Acidez armoniosa, taninos sutiles, frutal con recuerdos a frambuesas y fresas.',\n",
       "  'url': 'https://www.thebluedolphinstore.com/producto/vino-sin-alcohol-zero-zero-blanco/'},\n",
       " {'volumen': 75,\n",
       "  'graduacion': '<0,5%',\n",
       "  'productor': 'Somée (Alemania)',\n",
       "  'pais': 'Alemania',\n",
       "  'etiqueta': 'Merlot',\n",
       "  'notas de cata': 'De color rosa sutil, ligeramente brillante, finamente afrutado y refrescante. Acidez armoniosa, taninos sutiles, frutal con recuerdos a frambuesas y fresas.',\n",
       "  'url': 'https://www.thebluedolphinstore.com/producto/vino-sin-alcohol-zero-zero-blanco/'},\n",
       " {'volumen': 75,\n",
       "  'graduacion': '0,2%',\n",
       "  'productor': 'Kolonne Null  (Alemania)',\n",
       "  'pais': 'Alemania',\n",
       "  'etiqueta': 'Bajo o Sin Calorías, Exclusivo Blue Dolphin, Sin gluten, Vegano',\n",
       "  'notas de cata': 'De color rosa sutil, ligeramente brillante, finamente afrutado y refrescante. Acidez armoniosa, taninos sutiles, frutal con recuerdos a frambuesas y fresas.',\n",
       "  'url': 'https://www.thebluedolphinstore.com/producto/vino-sin-alcohol-zero-zero-blanco/'},\n",
       " {'volumen': 75,\n",
       "  'graduacion': '0,01%',\n",
       "  'productor': 'Dismark Products (Galicia – España)',\n",
       "  'pais': 'Galicia – España',\n",
       "  'etiqueta': 'Airén, Bajo o Sin Calorías, Halal, Natural, Sin saborizantes, Tempranillo',\n",
       "  'notas de cata': 'De color rosa sutil, ligeramente brillante, finamente afrutado y refrescante. Acidez armoniosa, taninos sutiles, frutal con recuerdos a frambuesas y fresas.',\n",
       "  'url': 'https://www.thebluedolphinstore.com/producto/vino-sin-alcohol-zero-zero-blanco/'},\n",
       " {'volumen': 75,\n",
       "  'graduacion': '0,0%',\n",
       "  'productor': 'Dismark Products (Galicia – España)',\n",
       "  'pais': 'Galicia – España',\n",
       "  'etiqueta': 'Bajo o Sin Calorías, Exclusivo Blue Dolphin, Halal, Merlot, Vegano',\n",
       "  'notas de cata': 'De color rosa sutil, ligeramente brillante, finamente afrutado y refrescante. Acidez armoniosa, taninos sutiles, frutal con recuerdos a frambuesas y fresas.',\n",
       "  'url': 'https://www.thebluedolphinstore.com/producto/vino-sin-alcohol-zero-zero-blanco/'},\n",
       " {'volumen': 75,\n",
       "  'graduacion': '0,0%',\n",
       "  'productor': 'Mercantia Desarrollos Alimentarios (Galicia – España)',\n",
       "  'pais': 'Galicia – España',\n",
       "  'etiqueta': 'Bajo o Sin Calorías, Cabernet Sauvignon, Tempranillo',\n",
       "  'notas de cata': 'De color rosa sutil, ligeramente brillante, finamente afrutado y refrescante. Acidez armoniosa, taninos sutiles, frutal con recuerdos a frambuesas y fresas.',\n",
       "  'url': 'https://www.thebluedolphinstore.com/producto/vino-sin-alcohol-zero-zero-blanco/'},\n",
       " {'volumen': 75,\n",
       "  'graduacion': '0,0%',\n",
       "  'productor': 'Dismark Products (Galicia – España)',\n",
       "  'pais': 'Galicia – España',\n",
       "  'etiqueta': 'Bajo o Sin Calorías, Chardonnay, Halal, Natural, Orgánico / Ecológico, Sin saborizantes',\n",
       "  'notas de cata': 'De color rosa sutil, ligeramente brillante, finamente afrutado y refrescante. Acidez armoniosa, taninos sutiles, frutal con recuerdos a frambuesas y fresas.',\n",
       "  'url': 'https://www.thebluedolphinstore.com/producto/vino-sin-alcohol-zero-zero-blanco/'},\n",
       " {'volumen': 75,\n",
       "  'graduacion': '0,0%',\n",
       "  'productor': 'Dismark Products (Galicia – España)',\n",
       "  'pais': 'Galicia – España',\n",
       "  'etiqueta': 'Bajo o Sin Calorías, Halal, Merlot, Natural, Orgánico / Ecológico, Sin saborizantes',\n",
       "  'notas de cata': 'De color rosa sutil, ligeramente brillante, finamente afrutado y refrescante. Acidez armoniosa, taninos sutiles, frutal con recuerdos a frambuesas y fresas.',\n",
       "  'url': 'https://www.thebluedolphinstore.com/producto/vino-sin-alcohol-zero-zero-blanco/'},\n",
       " {'volumen': 75,\n",
       "  'graduacion': '0,0%',\n",
       "  'productor': 'Dismark Products (Galicia – España)',\n",
       "  'pais': 'Galicia – España',\n",
       "  'etiqueta': 'Bajo o Sin Calorías, Chardonnay, Halal, Natural, Sin saborizantes',\n",
       "  'notas de cata': 'De color rosa sutil, ligeramente brillante, finamente afrutado y refrescante. Acidez armoniosa, taninos sutiles, frutal con recuerdos a frambuesas y fresas.',\n",
       "  'url': 'https://www.thebluedolphinstore.com/producto/vino-sin-alcohol-zero-zero-blanco/'},\n",
       " {'volumen': 75,\n",
       "  'graduacion': '0,01%',\n",
       "  'productor': 'Dismark Products (Galicia – España)',\n",
       "  'pais': 'Galicia – España',\n",
       "  'etiqueta': 'Airén, Bajo o Sin Calorías, Halal, Natural, Sin saborizantes',\n",
       "  'notas de cata': 'De color rosa sutil, ligeramente brillante, finamente afrutado y refrescante. Acidez armoniosa, taninos sutiles, frutal con recuerdos a frambuesas y fresas.',\n",
       "  'url': 'https://www.thebluedolphinstore.com/producto/vino-sin-alcohol-zero-zero-blanco/'},\n",
       " {'volumen': 75,\n",
       "  'graduacion': '0,02%',\n",
       "  'productor': 'Dismark Products (Galicia – España)',\n",
       "  'pais': 'Galicia – España',\n",
       "  'etiqueta': 'Bajo o Sin Calorías, Halal, Merlot, Natural, Sin saborizantes',\n",
       "  'notas de cata': 'De color rosa sutil, ligeramente brillante, finamente afrutado y refrescante. Acidez armoniosa, taninos sutiles, frutal con recuerdos a frambuesas y fresas.',\n",
       "  'url': 'https://www.thebluedolphinstore.com/producto/vino-sin-alcohol-zero-zero-blanco/'},\n",
       " {'volumen': 75,\n",
       "  'graduacion': '0,0%',\n",
       "  'productor': 'Dismark Products (Galicia – España)',\n",
       "  'pais': 'Galicia – España',\n",
       "  'etiqueta': 'Bajo o Sin Calorías, Halal, Natural, Sin saborizantes, Tempranillo',\n",
       "  'notas de cata': 'De color rosa sutil, ligeramente brillante, finamente afrutado y refrescante. Acidez armoniosa, taninos sutiles, frutal con recuerdos a frambuesas y fresas.',\n",
       "  'url': 'https://www.thebluedolphinstore.com/producto/vino-sin-alcohol-zero-zero-blanco/'},\n",
       " {'volumen': 75,\n",
       "  'graduacion': '0,0%',\n",
       "  'productor': 'Princess (Italia)',\n",
       "  'pais': 'Italia',\n",
       "  'etiqueta': 'Bajo o Sin Calorías, Natural, Sin saborizantes',\n",
       "  'notas de cata': 'De color rosa sutil, ligeramente brillante, finamente afrutado y refrescante. Acidez armoniosa, taninos sutiles, frutal con recuerdos a frambuesas y fresas.',\n",
       "  'url': 'https://www.thebluedolphinstore.com/producto/vino-sin-alcohol-zero-zero-blanco/'},\n",
       " {'volumen': 75,\n",
       "  'graduacion': '0,0%',\n",
       "  'productor': 'Mercantia Desarrollos Alimentarios (Galicia – España)',\n",
       "  'pais': 'Galicia – España',\n",
       "  'etiqueta': 'Airén, Bajo o Sin Calorías',\n",
       "  'notas de cata': 'De color rosa sutil, ligeramente brillante, finamente afrutado y refrescante. Acidez armoniosa, taninos sutiles, frutal con recuerdos a frambuesas y fresas.',\n",
       "  'url': 'https://www.thebluedolphinstore.com/producto/vino-sin-alcohol-zero-zero-blanco/'}]"
      ]
     },
     "execution_count": 601,
     "metadata": {},
     "output_type": "execute_result"
    }
   ],
   "source": [
    "data2"
   ]
  },
  {
   "cell_type": "code",
   "execution_count": 602,
   "id": "08af619f",
   "metadata": {},
   "outputs": [
    {
     "data": {
      "text/html": [
       "<div>\n",
       "<style scoped>\n",
       "    .dataframe tbody tr th:only-of-type {\n",
       "        vertical-align: middle;\n",
       "    }\n",
       "\n",
       "    .dataframe tbody tr th {\n",
       "        vertical-align: top;\n",
       "    }\n",
       "\n",
       "    .dataframe thead th {\n",
       "        text-align: right;\n",
       "    }\n",
       "</style>\n",
       "<table border=\"1\" class=\"dataframe\">\n",
       "  <thead>\n",
       "    <tr style=\"text-align: right;\">\n",
       "      <th></th>\n",
       "      <th>volumen</th>\n",
       "      <th>graduacion</th>\n",
       "      <th>productor</th>\n",
       "      <th>pais</th>\n",
       "      <th>etiqueta</th>\n",
       "      <th>notas de cata</th>\n",
       "      <th>url</th>\n",
       "    </tr>\n",
       "  </thead>\n",
       "  <tbody>\n",
       "    <tr>\n",
       "      <th>0</th>\n",
       "      <td>75</td>\n",
       "      <td>&lt;0,5 %</td>\n",
       "      <td>Carl Jung (Alemania)</td>\n",
       "      <td>Alemania</td>\n",
       "      <td>Vegano</td>\n",
       "      <td>De color rosa sutil, ligeramente brillante, fi...</td>\n",
       "      <td>https://www.thebluedolphinstore.com/producto/v...</td>\n",
       "    </tr>\n",
       "    <tr>\n",
       "      <th>1</th>\n",
       "      <td>75</td>\n",
       "      <td>0,5%</td>\n",
       "      <td>Carl Jung (Alemania)</td>\n",
       "      <td>Alemania</td>\n",
       "      <td>Syrah</td>\n",
       "      <td>De color rosa sutil, ligeramente brillante, fi...</td>\n",
       "      <td>https://www.thebluedolphinstore.com/producto/v...</td>\n",
       "    </tr>\n",
       "    <tr>\n",
       "      <th>2</th>\n",
       "      <td>75</td>\n",
       "      <td>&lt;0,5 %</td>\n",
       "      <td>Carl Jung (Alemania)</td>\n",
       "      <td>Alemania</td>\n",
       "      <td>Cabernet Sauvignon, Vegano</td>\n",
       "      <td>De color rosa sutil, ligeramente brillante, fi...</td>\n",
       "      <td>https://www.thebluedolphinstore.com/producto/v...</td>\n",
       "    </tr>\n",
       "    <tr>\n",
       "      <th>3</th>\n",
       "      <td>75</td>\n",
       "      <td>&lt;0,5 %</td>\n",
       "      <td>Carl Jung (Alemania)</td>\n",
       "      <td>Alemania</td>\n",
       "      <td>Merlot, Vegano</td>\n",
       "      <td>De color rosa sutil, ligeramente brillante, fi...</td>\n",
       "      <td>https://www.thebluedolphinstore.com/producto/v...</td>\n",
       "    </tr>\n",
       "    <tr>\n",
       "      <th>4</th>\n",
       "      <td>75</td>\n",
       "      <td>0,5%</td>\n",
       "      <td>Carl Jung (Alemania)</td>\n",
       "      <td>Alemania</td>\n",
       "      <td>No Disponible</td>\n",
       "      <td>De color rosa sutil, ligeramente brillante, fi...</td>\n",
       "      <td>https://www.thebluedolphinstore.com/producto/v...</td>\n",
       "    </tr>\n",
       "  </tbody>\n",
       "</table>\n",
       "</div>"
      ],
      "text/plain": [
       "   volumen graduacion             productor      pais  \\\n",
       "0       75     <0,5 %  Carl Jung (Alemania)  Alemania   \n",
       "1       75       0,5%  Carl Jung (Alemania)  Alemania   \n",
       "2       75     <0,5 %  Carl Jung (Alemania)  Alemania   \n",
       "3       75     <0,5 %  Carl Jung (Alemania)  Alemania   \n",
       "4       75       0,5%  Carl Jung (Alemania)  Alemania   \n",
       "\n",
       "                     etiqueta  \\\n",
       "0                      Vegano   \n",
       "1                       Syrah   \n",
       "2  Cabernet Sauvignon, Vegano   \n",
       "3              Merlot, Vegano   \n",
       "4               No Disponible   \n",
       "\n",
       "                                       notas de cata  \\\n",
       "0  De color rosa sutil, ligeramente brillante, fi...   \n",
       "1  De color rosa sutil, ligeramente brillante, fi...   \n",
       "2  De color rosa sutil, ligeramente brillante, fi...   \n",
       "3  De color rosa sutil, ligeramente brillante, fi...   \n",
       "4  De color rosa sutil, ligeramente brillante, fi...   \n",
       "\n",
       "                                                 url  \n",
       "0  https://www.thebluedolphinstore.com/producto/v...  \n",
       "1  https://www.thebluedolphinstore.com/producto/v...  \n",
       "2  https://www.thebluedolphinstore.com/producto/v...  \n",
       "3  https://www.thebluedolphinstore.com/producto/v...  \n",
       "4  https://www.thebluedolphinstore.com/producto/v...  "
      ]
     },
     "execution_count": 602,
     "metadata": {},
     "output_type": "execute_result"
    }
   ],
   "source": [
    "listado_2 = pd.DataFrame(data2)\n",
    "\n",
    "listado_2.head()"
   ]
  },
  {
   "cell_type": "markdown",
   "id": "e579e7cf",
   "metadata": {},
   "source": [
    "Parte 2:  \n",
    "\n",
    "Paso 4: Escrapeo de informacion nutricional "
   ]
  },
  {
   "cell_type": "code",
   "execution_count": 603,
   "id": "2deed247",
   "metadata": {},
   "outputs": [],
   "source": [
    "ulr_nutricional = 'https://www.thebluedolphinstore.com/producto/carl-jung-rose-vino-rosado-sin-alcohol/'"
   ]
  },
  {
   "cell_type": "code",
   "execution_count": 604,
   "id": "4b1d4a2e",
   "metadata": {},
   "outputs": [],
   "source": [
    "driver = webdriver.Chrome()   # abre una ventana de chrome\n",
    "\n",
    "driver.get(ulr_nutricional)   # entra en la pagina"
   ]
  },
  {
   "cell_type": "code",
   "execution_count": 605,
   "id": "50fb7fb1",
   "metadata": {},
   "outputs": [
    {
     "data": {
      "text/plain": [
       "['🔍',\n",
       " 'NUEV@',\n",
       " 'Carl Jung Rosé – Vino Rosado Sin Alcohol',\n",
       " '6,86€ IVA inc.',\n",
       " 'COMPRAR',\n",
       " 'Vino rosado sin alcohol',\n",
       " 'Carl Jung Rosé es un delicioso vino rosado sin alcohol que tiene hasta 1/3 menos calorías que un vino rosado normal. Por tanto permite disfrutar de forma más saludable y si estás a dieta, sin perder nada de sabor.',\n",
       " 'Este vino rosado sin alcohol de Carl Jung tiene todas las ventajas de un rosado típico pero nada de alcohol. Además, esta marca produce vinos sin alcohol veganos.',\n",
       " 'Notas de Cata',\n",
       " 'De color rosa sutil, ligeramente brillante, finamente afrutado y refrescante. Acidez armoniosa, taninos sutiles, frutal con recuerdos a frambuesas y fresas.',\n",
       " 'Volumen: 75 cl.',\n",
       " 'Variedad:',\n",
       " 'Graduación: <0,5 %',\n",
       " 'Productor: Carl Jung (Alemania)',\n",
       " 'Categorías: Destacados, Vino Rosado Sin Alcohol, Vinos Sin Alcohol',\n",
       " 'Etiqueta: Vegano',\n",
       " 'Descripción',\n",
       " 'Este vino rosado sin alcohol es ideal para todos los momentos, además es vegano. Elaborado por la bodega alemana Carl Jung, pionera en la elaboración de vinos desalcoholizados.',\n",
       " 'Carl Jung nació en una familia de viticultores del Rheingau (Alemania) que se preguntó si se podía disfrutar del vino sin alcohol. Ya en 1907 desarrolló un proceso de extracción al vacío del alcohol, eliminándolo suavemente a temperaturas inferiores a 30 grados y recuperando los aromas naturales del vino. Así conservaba el bouquet y el sabor. Fue el inventor del vino sin alcohol.',\n",
       " 'Desde hace más de 100 años, la quinta generación de Carl Jung mantiene la pasión por los vinos desalcoholizados desde el Castillo de Boosenburg. Su lema: El vino necesita sabor, no alcohol.',\n",
       " 'Gastronomía',\n",
       " 'Vino rosado sin alcohol perfecto para tomar como aperitivo o ensaladas. Servir a 6-8° C.',\n",
       " 'Información Nutricional (por 100 ml.)',\n",
       " 'Calorías:  19,4 Kcal. ( 81,3 Kj.)',\n",
       " 'Proteínas: 0 g.',\n",
       " 'Grasa:  0 g.',\n",
       " 'Hidratos de Carbono: 4,2 g.',\n",
       " 'Azúcares totales: 3,5 g.',\n",
       " 'Sal: <0,1 g.']"
      ]
     },
     "execution_count": 605,
     "metadata": {},
     "output_type": "execute_result"
    }
   ],
   "source": [
    "descripcion_nutricional = driver.find_element(By.CLASS_NAME, \"nectar-prod-wrap\").text.split('\\n')\n",
    "\n",
    "descripcion_nutricional"
   ]
  },
  {
   "cell_type": "code",
   "execution_count": 606,
   "id": "c48772ed",
   "metadata": {},
   "outputs": [
    {
     "data": {
      "text/plain": [
       "'Calorías:  19,4 Kcal. ( 81,3 Kj.)'"
      ]
     },
     "execution_count": 606,
     "metadata": {},
     "output_type": "execute_result"
    }
   ],
   "source": [
    "calorias = descripcion_nutricional[23]\n",
    "calorias"
   ]
  },
  {
   "cell_type": "code",
   "execution_count": 607,
   "id": "423ef913",
   "metadata": {},
   "outputs": [],
   "source": [
    "for element in descripcion_nutricional:\n",
    "    if element.startswith('Calorías'):\n",
    "        calorias = element.replace('Calorías: ', '').replace('Calorias:','').replace('Kcal.','').replace('Kcal','').replace(' ','').replace('kJ','').replace('(7','').replace('.k','').replace('(8','').replace('(9','')\n",
    "        calorias = calorias[0:4]\n",
    "    if element.startswith('Proteínas'):\n",
    "        proteinas = element.replace('Proteínas: ', '').replace('Proteinas: ', '').replace('g. ', '').replace('g ', '').replace('.', '').replace('<1', '0,1').replace('0,o2', '0,2').replace('<0,01', '0,1').replace('0 g', '0,00')\n",
    "        proteinas = proteinas[:-1].strip()\n",
    "    if element.startswith('Grasa'): \n",
    "        grasa = element.replace('Grasa: ', '').replace('g.: ', '').replace('g ', '').replace('.','').replace('Grasa: ', '').replace(' ','').replace('Grasas:0g ','0').replace('Grasas:0','0').replace('Grasas:0','0').replace('Grasas:<1','1').replace('<0,50','0,5').replace('<0,05','0,5').replace('<0,01','0,1').replace('0g','0,00')\n",
    "        grasa = grasa[:-1].strip()\n",
    "    if element.startswith('Hidratos de Carbono'): \n",
    "        hidratos_carbono = element.replace('Hidratos de Carbono: ', '').replace('g. ', '').replace('g ', '').replace('.','')\n",
    "        hidratos_carbono = hidratos_carbono[:-1].strip()\n",
    "    if element.startswith('Azúcares totales'):\n",
    "        azucar = element.replace('Azúcares totales: ', '').replace('Azucares totales: ', '').replace('g. ', '').replace('g: ', '').replace('.','')\n",
    "        azucar = azucar[:-1].strip()\n",
    "    if element.startswith('Sal'): \n",
    "        sal = element.replace('Sal: ', '').replace(\"']\", '').replace('.','').replace('g ', '')\n",
    "        sal[:-1].strip()"
   ]
  },
  {
   "cell_type": "code",
   "execution_count": 608,
   "id": "03434812",
   "metadata": {},
   "outputs": [
    {
     "data": {
      "text/plain": [
       "'19,4'"
      ]
     },
     "execution_count": 608,
     "metadata": {},
     "output_type": "execute_result"
    }
   ],
   "source": [
    "calorias"
   ]
  },
  {
   "cell_type": "code",
   "execution_count": 609,
   "id": "4f12a042",
   "metadata": {},
   "outputs": [
    {
     "data": {
      "text/plain": [
       "'0,0'"
      ]
     },
     "execution_count": 609,
     "metadata": {},
     "output_type": "execute_result"
    }
   ],
   "source": [
    "proteinas"
   ]
  },
  {
   "cell_type": "code",
   "execution_count": 610,
   "id": "700cc024",
   "metadata": {},
   "outputs": [
    {
     "data": {
      "text/plain": [
       "'0,0'"
      ]
     },
     "execution_count": 610,
     "metadata": {},
     "output_type": "execute_result"
    }
   ],
   "source": [
    "grasa"
   ]
  },
  {
   "cell_type": "code",
   "execution_count": 611,
   "id": "9853f430",
   "metadata": {},
   "outputs": [
    {
     "data": {
      "text/plain": [
       "'4,2'"
      ]
     },
     "execution_count": 611,
     "metadata": {},
     "output_type": "execute_result"
    }
   ],
   "source": [
    " hidratos_carbono"
   ]
  },
  {
   "cell_type": "code",
   "execution_count": 612,
   "id": "931dcd2d",
   "metadata": {},
   "outputs": [
    {
     "data": {
      "text/plain": [
       "'3,5'"
      ]
     },
     "execution_count": 612,
     "metadata": {},
     "output_type": "execute_result"
    }
   ],
   "source": [
    "azucar"
   ]
  },
  {
   "cell_type": "code",
   "execution_count": 613,
   "id": "c3225716",
   "metadata": {},
   "outputs": [
    {
     "data": {
      "text/plain": [
       "'<0,1 g'"
      ]
     },
     "execution_count": 613,
     "metadata": {},
     "output_type": "execute_result"
    }
   ],
   "source": [
    "sal"
   ]
  },
  {
   "cell_type": "code",
   "execution_count": 614,
   "id": "e7646dfb",
   "metadata": {},
   "outputs": [],
   "source": [
    "data3 = []\n",
    "\n",
    "for u in lista_urls:\n",
    "    driver = webdriver.Chrome()\n",
    "    driver.get(u) \n",
    "   \n",
    "    descripcion_nutricional = driver.find_element(By.CLASS_NAME, \"nectar-prod-wrap\").text.split('\\n')\n",
    "    \n",
    "    for element in descripcion_nutricional:\n",
    "        if element.startswith('Calorías'):\n",
    "            calorias = element.replace('Calorías: ', '').replace('Calorias:','').replace('Kcal.','').replace('Kcal','').replace(' ','').replace('kJ','').replace('(7','').replace('.k','').replace('(8','').replace('(9','')\n",
    "            calorias = calorias[0:4]\n",
    "        if element.startswith('Proteínas'):\n",
    "            proteinas = element.replace('Proteínas: ', '').replace('Proteinas: ', '').replace('g. ', '').replace('g ', '').replace('.', '').replace('<1', '0,1').replace('0,o2', '0,2').replace('<0,01', '0,1').replace('0 g', '0,00')\n",
    "            proteinas = proteinas[:-1].strip()\n",
    "        if element.startswith('Grasa'): \n",
    "            grasa = element.replace('Grasa: ', '').replace('g.: ', '').replace('g ', '').replace('.','').replace('Grasa: ', '').replace(' ','').replace('Grasas:0g ','0').replace('Grasas:0','0').replace('Grasas:0','0').replace('Grasas:<1','1').replace('<0,50','0,5').replace('<0,05','0,5').replace('<0,01','0,1').replace('0g','0,00')\n",
    "            grasa = grasa[:-1].strip()\n",
    "        if element.startswith('Hidratos de Carbono'): \n",
    "            hidratos_carbono = element.replace('Hidratos de Carbono: ', '').replace('g. ', '').replace('g ', '').replace('.','')\n",
    "            hidratos_carbono = hidratos_carbono[:-1].strip()\n",
    "        if element.startswith('Azúcares totales'):\n",
    "            azucar = element.replace('Azúcares totales: ', '').replace('Azucares totales: ', '').replace('g. ', '').replace('g: ', '').replace('.','')\n",
    "            azucar = azucar[:-1].strip()\n",
    "        if element.startswith('Sal'): \n",
    "            sal = element.replace('Sal: ', '').replace(\"']\", '').replace('.','').replace('g ', '')\n",
    "            sal[:-1].strip()\n",
    "\n",
    "    \n",
    "    dictio3 = {'calorias' : calorias, 'proteinas': proteinas, 'grasa': grasa, 'hidratos de carbono': hidratos_carbono, 'azucar': azucar, 'sal': sal}\n",
    "    \n",
    "    data3.append(dictio3)\n",
    "    \n",
    "    driver.close()"
   ]
  },
  {
   "cell_type": "code",
   "execution_count": 615,
   "id": "683357d7",
   "metadata": {},
   "outputs": [
    {
     "data": {
      "text/plain": [
       "[{'calorias': '19,4',\n",
       "  'proteinas': '0,0',\n",
       "  'grasa': '0,0',\n",
       "  'hidratos de carbono': '4,2',\n",
       "  'azucar': '3,5',\n",
       "  'sal': '<0,1 g'},\n",
       " {'calorias': '79.(',\n",
       "  'proteinas': '0,5',\n",
       "  'grasa': '0,0',\n",
       "  'hidratos de carbono': '4,8',\n",
       "  'azucar': '4,2',\n",
       "  'sal': '<0,1 g'},\n",
       " {'calorias': '19,4',\n",
       "  'proteinas': '0,0',\n",
       "  'grasa': '0,0',\n",
       "  'hidratos de carbono': '4,2',\n",
       "  'azucar': '3,5',\n",
       "  'sal': '<0,1 g'},\n",
       " {'calorias': '22,9',\n",
       "  'proteinas': '0,0',\n",
       "  'grasa': '0,0',\n",
       "  'hidratos de carbono': '4,7',\n",
       "  'azucar': '4,0',\n",
       "  'sal': '<0,1 g'},\n",
       " {'calorias': '95.(',\n",
       "  'proteinas': '0,5',\n",
       "  'grasa': '0,3',\n",
       "  'hidratos de carbono': '5,6',\n",
       "  'azucar': '4,6',\n",
       "  'sal': '<0,1 g'},\n",
       " {'calorias': '95.(',\n",
       "  'proteinas': '0,5',\n",
       "  'grasa': '0,0',\n",
       "  'hidratos de carbono': '5,6',\n",
       "  'azucar': '4,6',\n",
       "  'sal': '<0,1 g'},\n",
       " {'calorias': '20,1',\n",
       "  'proteinas': '0,0',\n",
       "  'grasa': '0,0',\n",
       "  'hidratos de carbono': '4,4,',\n",
       "  'azucar': '4,0',\n",
       "  'sal': '<0,1 g'},\n",
       " {'calorias': '185,',\n",
       "  'proteinas': '0,0',\n",
       "  'grasa': '0,0',\n",
       "  'hidratos de carbono': '3,9',\n",
       "  'azucar': '3,5',\n",
       "  'sal': 'Sal:<0,1 g'},\n",
       " {'calorias': '19,5',\n",
       "  'proteinas': '0,0',\n",
       "  'grasa': '0,0',\n",
       "  'hidratos de carbono': '4,2',\n",
       "  'azucar': '4,2',\n",
       "  'sal': '<0,1 g'},\n",
       " {'calorias': '18,3',\n",
       "  'proteinas': '0,0',\n",
       "  'grasa': '0,0',\n",
       "  'hidratos de carbono': '4,4',\n",
       "  'azucar': '4,4',\n",
       "  'sal': ' <0,1 g'},\n",
       " {'calorias': '88.(',\n",
       "  'proteinas': '0,5',\n",
       "  'grasa': '0,3',\n",
       "  'hidratos de carbono': '4,8',\n",
       "  'azucar': '4,2',\n",
       "  'sal': ' <0,1 g'},\n",
       " {'calorias': '88.(',\n",
       "  'proteinas': '0,5',\n",
       "  'grasa': '0,0',\n",
       "  'hidratos de carbono': '4,8',\n",
       "  'azucar': '4,2',\n",
       "  'sal': ' <0,1 g'},\n",
       " {'calorias': '78,4',\n",
       "  'proteinas': '0,0',\n",
       "  'grasa': '0,0',\n",
       "  'hidratos de carbono': '4,4',\n",
       "  'azucar': '3,6',\n",
       "  'sal': ' <0,1 g'},\n",
       " {'calorias': '79,9',\n",
       "  'proteinas': '0,3',\n",
       "  'grasa': '0,0',\n",
       "  'hidratos de carbono': '4,7',\n",
       "  'azucar': '3,7',\n",
       "  'sal': ' <0,1 g'},\n",
       " {'calorias': '80,3',\n",
       "  'proteinas': '0,0',\n",
       "  'grasa': '0,0',\n",
       "  'hidratos de carbono': '4,5',\n",
       "  'azucar': '3,8',\n",
       "  'sal': ' <0,1 g'},\n",
       " {'calorias': '80.(',\n",
       "  'proteinas': '0,3',\n",
       "  'grasa': '0,0',\n",
       "  'hidratos de carbono': '4,5',\n",
       "  'azucar': '3,8',\n",
       "  'sal': ' <0,1 g'},\n",
       " {'calorias': '80..',\n",
       "  'proteinas': '0,0',\n",
       "  'grasa': '0,0',\n",
       "  'hidratos de carbono': '4',\n",
       "  'azucar': '4',\n",
       "  'sal': '0,02 g'},\n",
       " {'calorias': '18,3',\n",
       "  'proteinas': '0,0',\n",
       "  'grasa': '0,0',\n",
       "  'hidratos de carbono': '4',\n",
       "  'azucar': '4',\n",
       "  'sal': '<0,1 g'},\n",
       " {'calorias': '12',\n",
       "  'proteinas': '0,1',\n",
       "  'grasa': '1',\n",
       "  'hidratos de carbono': '19',\n",
       "  'azucar': '4',\n",
       "  'sal': '<0,1 g'},\n",
       " {'calorias': '81.(',\n",
       "  'proteinas': '0,0',\n",
       "  'grasa': '0,0',\n",
       "  'hidratos de carbono': '2,9',\n",
       "  'azucar': '2,9',\n",
       "  'sal': '0 g'},\n",
       " {'calorias': '80.(',\n",
       "  'proteinas': '0,0',\n",
       "  'grasa': '0,0',\n",
       "  'hidratos de carbono': '4',\n",
       "  'azucar': '4',\n",
       "  'sal': '0,02 g'},\n",
       " {'calorias': '185K',\n",
       "  'proteinas': '< 0,02',\n",
       "  'grasa': '0,5',\n",
       "  'hidratos de carbono': '3,0',\n",
       "  'azucar': '2,4',\n",
       "  'sal': '0,01 g'},\n",
       " {'calorias': '185K',\n",
       "  'proteinas': '< 0,02',\n",
       "  'grasa': '0,5',\n",
       "  'hidratos de carbono': '3,0',\n",
       "  'azucar': '2,4',\n",
       "  'sal': '0,01 g'},\n",
       " {'calorias': '77.(',\n",
       "  'proteinas': '0,0',\n",
       "  'grasa': '0,0',\n",
       "  'hidratos de carbono': '4,5',\n",
       "  'azucar': '4,5',\n",
       "  'sal': '0,02 g'},\n",
       " {'calorias': '43kc',\n",
       "  'proteinas': '0,0',\n",
       "  'grasa': '0,0',\n",
       "  'hidratos de carbono': '4,5',\n",
       "  'azucar': '4,5',\n",
       "  'sal': '0,02 g'},\n",
       " {'calorias': '77.(',\n",
       "  'proteinas': '0,0',\n",
       "  'grasa': '0,0',\n",
       "  'hidratos de carbono': '4,5',\n",
       "  'azucar': '4,5',\n",
       "  'sal': '0 g'},\n",
       " {'calorias': '308.',\n",
       "  'proteinas': '0,0',\n",
       "  'grasa': '0,0',\n",
       "  'hidratos de carbono': '18,1',\n",
       "  'azucar': '18,1',\n",
       "  'sal': '0,02 g'},\n",
       " {'calorias': '308.',\n",
       "  'proteinas': '0,0',\n",
       "  'grasa': '0,0',\n",
       "  'hidratos de carbono': '18,1',\n",
       "  'azucar': '18,1',\n",
       "  'sal': '0,02 g'},\n",
       " {'calorias': '73.(',\n",
       "  'proteinas': '0,0',\n",
       "  'grasa': '0,0',\n",
       "  'hidratos de carbono': '4,3',\n",
       "  'azucar': '4,3',\n",
       "  'sal': '0,02 g'},\n",
       " {'calorias': '36kc',\n",
       "  'proteinas': '0,0',\n",
       "  'grasa': '0,0',\n",
       "  'hidratos de carbono': '4,3',\n",
       "  'azucar': '4,3',\n",
       "  'sal': '0,02 g'},\n",
       " {'calorias': '36kc',\n",
       "  'proteinas': '0,0',\n",
       "  'grasa': '0,0',\n",
       "  'hidratos de carbono': '4,3',\n",
       "  'azucar': '4,3',\n",
       "  'sal': '0,02 g'},\n",
       " {'calorias': '185K',\n",
       "  'proteinas': '< 0,2',\n",
       "  'grasa': '0,5',\n",
       "  'hidratos de carbono': '2,6',\n",
       "  'azucar': '2,0',\n",
       "  'sal': '0,01 g'},\n",
       " {'calorias': '185K',\n",
       "  'proteinas': '< 0,2',\n",
       "  'grasa': '0,5',\n",
       "  'hidratos de carbono': '2,6',\n",
       "  'azucar': '2,0',\n",
       "  'sal': '0,01 g'},\n",
       " {'calorias': '185K',\n",
       "  'proteinas': '< 0,2',\n",
       "  'grasa': '0,5',\n",
       "  'hidratos de carbono': '2,6',\n",
       "  'azucar': '2,0',\n",
       "  'sal': '0,01 g'},\n",
       " {'calorias': '22,4',\n",
       "  'proteinas': '<0,3',\n",
       "  'grasa': '0,0',\n",
       "  'hidratos de carbono': '5,5',\n",
       "  'azucar': '5,5',\n",
       "  'sal': '<0,1 g'},\n",
       " {'calorias': '12',\n",
       "  'proteinas': '0,1',\n",
       "  'grasa': '1',\n",
       "  'hidratos de carbono': '19',\n",
       "  'azucar': '5,5',\n",
       "  'sal': '<0,1 g'},\n",
       " {'calorias': '204K',\n",
       "  'proteinas': '0,0',\n",
       "  'grasa': '0,0',\n",
       "  'hidratos de carbono': '4',\n",
       "  'azucar': '4',\n",
       "  'sal': '0 g'},\n",
       " {'calorias': '21,1',\n",
       "  'proteinas': '0,0',\n",
       "  'grasa': '0,0',\n",
       "  'hidratos de carbono': '4,7',\n",
       "  'azucar': '4',\n",
       "  'sal': '<0,1 g'},\n",
       " {'calorias': '85.(',\n",
       "  'proteinas': '0,0',\n",
       "  'grasa': '0,0',\n",
       "  'hidratos de carbono': '4,7',\n",
       "  'azucar': '4',\n",
       "  'sal': '<0,1 g'},\n",
       " {'calorias': '189K',\n",
       "  'proteinas': '0,0',\n",
       "  'grasa': '0,0',\n",
       "  'hidratos de carbono': '4',\n",
       "  'azucar': '4',\n",
       "  'sal': '<0,1 g'},\n",
       " {'calorias': '222K',\n",
       "  'proteinas': '< 0,5',\n",
       "  'grasa': '0,5',\n",
       "  'hidratos de carbono': '5',\n",
       "  'azucar': '4',\n",
       "  'sal': '<0,06 g'},\n",
       " {'calorias': '22,2',\n",
       "  'proteinas': '<0,3',\n",
       "  'grasa': '0,0',\n",
       "  'hidratos de carbono': '5,2',\n",
       "  'azucar': '4,6',\n",
       "  'sal': '<0,1 g'},\n",
       " {'calorias': '21,1',\n",
       "  'proteinas': '0,1',\n",
       "  'grasa': '0,1',\n",
       "  'hidratos de carbono': '4,7',\n",
       "  'azucar': '4,7',\n",
       "  'sal': '<0,01 g'},\n",
       " {'calorias': '22,8',\n",
       "  'proteinas': '0,0',\n",
       "  'grasa': '0,0',\n",
       "  'hidratos de carbono': '5,4',\n",
       "  'azucar': '4,7',\n",
       "  'sal': '0 g'},\n",
       " {'calorias': '79.(',\n",
       "  'proteinas': '0,0',\n",
       "  'grasa': '0,0',\n",
       "  'hidratos de carbono': '2,7',\n",
       "  'azucar': '2,7',\n",
       "  'sal': '0 g'},\n",
       " {'calorias': '20',\n",
       "  'proteinas': '2,7',\n",
       "  'grasa': '0,0',\n",
       "  'hidratos de carbono': '6,1',\n",
       "  'azucar': '2,3',\n",
       "  'sal': '0 g'},\n",
       " {'calorias': '24(1',\n",
       "  'proteinas': '< 0,5',\n",
       "  'grasa': '0,5',\n",
       "  'hidratos de carbono': '5',\n",
       "  'azucar': '4,4',\n",
       "  'sal': '<0,06 g'},\n",
       " {'calorias': '25(1',\n",
       "  'proteinas': '< 0,5',\n",
       "  'grasa': '0,5',\n",
       "  'hidratos de carbono': '5',\n",
       "  'azucar': '4,5',\n",
       "  'sal': '<0,06 g'},\n",
       " {'calorias': '64.(',\n",
       "  'proteinas': '0,0',\n",
       "  'grasa': '0,0',\n",
       "  'hidratos de carbono': '2,4',\n",
       "  'azucar': '2,4',\n",
       "  'sal': '0 g'},\n",
       " {'calorias': '32',\n",
       "  'proteinas': '2,7',\n",
       "  'grasa': '0,0',\n",
       "  'hidratos de carbono': '6,1',\n",
       "  'azucar': '3,5',\n",
       "  'sal': '0 g'},\n",
       " {'calorias': '20,9',\n",
       "  'proteinas': '0,0',\n",
       "  'grasa': '0,0',\n",
       "  'hidratos de carbono': '4,9',\n",
       "  'azucar': '4,9',\n",
       "  'sal': '0 g'},\n",
       " {'calorias': '79.(',\n",
       "  'proteinas': '0,0',\n",
       "  'grasa': '0,0',\n",
       "  'hidratos de carbono': '2,9',\n",
       "  'azucar': '2,9',\n",
       "  'sal': '0 g'},\n",
       " {'calorias': '17',\n",
       "  'proteinas': '0,00',\n",
       "  'grasa': '0,00',\n",
       "  'hidratos de carbono': '2,9',\n",
       "  'azucar': '2,9',\n",
       "  'sal': '0 g'},\n",
       " {'calorias': '70.(',\n",
       "  'proteinas': '0,0',\n",
       "  'grasa': '0,0',\n",
       "  'hidratos de carbono': '4,1',\n",
       "  'azucar': '4,1',\n",
       "  'sal': '0 g'},\n",
       " {'calorias': '12',\n",
       "  'proteinas': '0,00',\n",
       "  'grasa': '0,00',\n",
       "  'hidratos de carbono': '4,1',\n",
       "  'azucar': '4,1',\n",
       "  'sal': '0 g'},\n",
       " {'calorias': '17',\n",
       "  'proteinas': '0,0',\n",
       "  'grasa': '0,0',\n",
       "  'hidratos de carbono': '42',\n",
       "  'azucar': '4,1',\n",
       "  'sal': 'Sal:<0,1 g'},\n",
       " {'calorias': '17',\n",
       "  'proteinas': '0,0',\n",
       "  'grasa': '0,0',\n",
       "  'hidratos de carbono': '42',\n",
       "  'azucar': '4,1',\n",
       "  'sal': 'Sal:<0,1 g'},\n",
       " {'calorias': '17',\n",
       "  'proteinas': '0,00',\n",
       "  'grasa': '0,00',\n",
       "  'hidratos de carbono': '42',\n",
       "  'azucar': '4,1',\n",
       "  'sal': 'Sal:<0,1 g'},\n",
       " {'calorias': '18',\n",
       "  'proteinas': '0,00',\n",
       "  'grasa': '0,00',\n",
       "  'hidratos de carbono': '42',\n",
       "  'azucar': '4,1',\n",
       "  'sal': 'Sal:<0,1 g'},\n",
       " {'calorias': '17',\n",
       "  'proteinas': '0,00',\n",
       "  'grasa': '0,00',\n",
       "  'hidratos de carbono': '42',\n",
       "  'azucar': '4,1',\n",
       "  'sal': 'Sal:<0,1 g'},\n",
       " {'calorias': '19',\n",
       "  'proteinas': '0,00',\n",
       "  'grasa': '0,00',\n",
       "  'hidratos de carbono': '42',\n",
       "  'azucar': '4,1',\n",
       "  'sal': 'Sal:<0,1 g'},\n",
       " {'calorias': '13',\n",
       "  'proteinas': '0,1',\n",
       "  'grasa': '1',\n",
       "  'hidratos de carbono': '17',\n",
       "  'azucar': '4,1',\n",
       "  'sal': 'Sal:<0,1 g'},\n",
       " {'calorias': '5',\n",
       "  'proteinas': '0,00',\n",
       "  'grasa': '0,00',\n",
       "  'hidratos de carbono': '17',\n",
       "  'azucar': '4,1',\n",
       "  'sal': 'Sal:<0,1 g'}]"
      ]
     },
     "execution_count": 615,
     "metadata": {},
     "output_type": "execute_result"
    }
   ],
   "source": [
    "data3"
   ]
  },
  {
   "cell_type": "code",
   "execution_count": 616,
   "id": "e77ced63",
   "metadata": {},
   "outputs": [
    {
     "data": {
      "text/html": [
       "<div>\n",
       "<style scoped>\n",
       "    .dataframe tbody tr th:only-of-type {\n",
       "        vertical-align: middle;\n",
       "    }\n",
       "\n",
       "    .dataframe tbody tr th {\n",
       "        vertical-align: top;\n",
       "    }\n",
       "\n",
       "    .dataframe thead th {\n",
       "        text-align: right;\n",
       "    }\n",
       "</style>\n",
       "<table border=\"1\" class=\"dataframe\">\n",
       "  <thead>\n",
       "    <tr style=\"text-align: right;\">\n",
       "      <th></th>\n",
       "      <th>calorias</th>\n",
       "      <th>proteinas</th>\n",
       "      <th>grasa</th>\n",
       "      <th>hidratos de carbono</th>\n",
       "      <th>azucar</th>\n",
       "      <th>sal</th>\n",
       "    </tr>\n",
       "  </thead>\n",
       "  <tbody>\n",
       "    <tr>\n",
       "      <th>0</th>\n",
       "      <td>19,4</td>\n",
       "      <td>0,0</td>\n",
       "      <td>0,0</td>\n",
       "      <td>4,2</td>\n",
       "      <td>3,5</td>\n",
       "      <td>&lt;0,1 g</td>\n",
       "    </tr>\n",
       "    <tr>\n",
       "      <th>1</th>\n",
       "      <td>79.(</td>\n",
       "      <td>0,5</td>\n",
       "      <td>0,0</td>\n",
       "      <td>4,8</td>\n",
       "      <td>4,2</td>\n",
       "      <td>&lt;0,1 g</td>\n",
       "    </tr>\n",
       "    <tr>\n",
       "      <th>2</th>\n",
       "      <td>19,4</td>\n",
       "      <td>0,0</td>\n",
       "      <td>0,0</td>\n",
       "      <td>4,2</td>\n",
       "      <td>3,5</td>\n",
       "      <td>&lt;0,1 g</td>\n",
       "    </tr>\n",
       "    <tr>\n",
       "      <th>3</th>\n",
       "      <td>22,9</td>\n",
       "      <td>0,0</td>\n",
       "      <td>0,0</td>\n",
       "      <td>4,7</td>\n",
       "      <td>4,0</td>\n",
       "      <td>&lt;0,1 g</td>\n",
       "    </tr>\n",
       "    <tr>\n",
       "      <th>4</th>\n",
       "      <td>95.(</td>\n",
       "      <td>0,5</td>\n",
       "      <td>0,3</td>\n",
       "      <td>5,6</td>\n",
       "      <td>4,6</td>\n",
       "      <td>&lt;0,1 g</td>\n",
       "    </tr>\n",
       "  </tbody>\n",
       "</table>\n",
       "</div>"
      ],
      "text/plain": [
       "  calorias proteinas grasa hidratos de carbono azucar     sal\n",
       "0     19,4       0,0   0,0                 4,2    3,5  <0,1 g\n",
       "1     79.(       0,5   0,0                 4,8    4,2  <0,1 g\n",
       "2     19,4       0,0   0,0                 4,2    3,5  <0,1 g\n",
       "3     22,9       0,0   0,0                 4,7    4,0  <0,1 g\n",
       "4     95.(       0,5   0,3                 5,6    4,6  <0,1 g"
      ]
     },
     "execution_count": 616,
     "metadata": {},
     "output_type": "execute_result"
    }
   ],
   "source": [
    "listado_3 = pd.DataFrame(data3)\n",
    "\n",
    "listado_3.head()"
   ]
  },
  {
   "cell_type": "code",
   "execution_count": 617,
   "id": "e20d0d92",
   "metadata": {},
   "outputs": [
    {
     "data": {
      "text/plain": [
       "(63, 6)"
      ]
     },
     "execution_count": 617,
     "metadata": {},
     "output_type": "execute_result"
    }
   ],
   "source": [
    "listado_3.shape"
   ]
  },
  {
   "cell_type": "markdown",
   "id": "40dc45a4",
   "metadata": {},
   "source": [
    "Paso 5: Exportar a CSV cada DataFrame"
   ]
  },
  {
   "cell_type": "code",
   "execution_count": 618,
   "id": "13701dc2",
   "metadata": {},
   "outputs": [],
   "source": [
    "listado.to_csv ('listado.csv' , index = False)\n",
    "listado_2.to_csv ('listado2.csv' , index = False)\n",
    "listado_3.to_csv ('listado3.csv' , index = False)"
   ]
  },
  {
   "cell_type": "code",
   "execution_count": null,
   "id": "61f8f669",
   "metadata": {},
   "outputs": [],
   "source": []
  }
 ],
 "metadata": {
  "kernelspec": {
   "display_name": "Python 3 (ipykernel)",
   "language": "python",
   "name": "python3"
  },
  "language_info": {
   "codemirror_mode": {
    "name": "ipython",
    "version": 3
   },
   "file_extension": ".py",
   "mimetype": "text/x-python",
   "name": "python",
   "nbconvert_exporter": "python",
   "pygments_lexer": "ipython3",
   "version": "3.11.5"
  }
 },
 "nbformat": 4,
 "nbformat_minor": 5
}
