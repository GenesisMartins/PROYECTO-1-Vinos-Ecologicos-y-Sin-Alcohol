{
 "cells": [
  {
   "cell_type": "markdown",
   "id": "839c586a",
   "metadata": {},
   "source": [
    "### 1.1. Escrapear datos\n",
    "\n",
    "Descripcion: Utilizamos los datos reflejados en la web fuente para la creación de dos DataFrame.\n",
    "\n",
    "#### 1.1.1. Web pagina Inicial Vinos \"Sin Alcohol\".\n",
    "Tomamos la lista de 63 tipos de vinos y obtuvimos los principales datos sobre cada uno:\n",
    "- Nombre\n",
    "- Variedad\n",
    "- Precio\n",
    "\n",
    "#### 1.1.2. Webs secuntarias, entramos a la url por cada vino disponible en la pagina inicial.\n",
    "Obtuvimos los datos unicos sobre cada uno:\n",
    "- Volumen\n",
    "- Variedad\n",
    "- Graduación\n",
    "- Productor\n",
    "- Etiqueta"
   ]
  },
  {
   "cell_type": "markdown",
   "id": "db6a6b17",
   "metadata": {},
   "source": [
    "ESCRAPEO DE DATOS\n",
    "\n",
    "Fuente: https://www.thebluedolphinstore.com/"
   ]
  },
  {
   "cell_type": "markdown",
   "id": "da5aff53",
   "metadata": {},
   "source": [
    "### 1.1.1\n",
    "Paso 1: instalamos selenium e importamos librerias"
   ]
  },
  {
   "cell_type": "code",
   "execution_count": 287,
   "id": "044941d3",
   "metadata": {},
   "outputs": [
    {
     "name": "stdout",
     "output_type": "stream",
     "text": [
      "Requirement already satisfied: selenium in c:\\users\\genes\\anaconda3\\lib\\site-packages (4.17.2)\n",
      "Requirement already satisfied: urllib3[socks]<3,>=1.26 in c:\\users\\genes\\anaconda3\\lib\\site-packages (from selenium) (1.26.16)\n",
      "Requirement already satisfied: trio~=0.17 in c:\\users\\genes\\anaconda3\\lib\\site-packages (from selenium) (0.24.0)\n",
      "Requirement already satisfied: trio-websocket~=0.9 in c:\\users\\genes\\anaconda3\\lib\\site-packages (from selenium) (0.11.1)\n",
      "Requirement already satisfied: certifi>=2021.10.8 in c:\\users\\genes\\anaconda3\\lib\\site-packages (from selenium) (2023.7.22)\n",
      "Requirement already satisfied: typing_extensions>=4.9.0 in c:\\users\\genes\\anaconda3\\lib\\site-packages (from selenium) (4.9.0)\n",
      "Requirement already satisfied: attrs>=20.1.0 in c:\\users\\genes\\anaconda3\\lib\\site-packages (from trio~=0.17->selenium) (22.1.0)\n",
      "Requirement already satisfied: sortedcontainers in c:\\users\\genes\\anaconda3\\lib\\site-packages (from trio~=0.17->selenium) (2.4.0)\n",
      "Requirement already satisfied: idna in c:\\users\\genes\\anaconda3\\lib\\site-packages (from trio~=0.17->selenium) (3.4)\n",
      "Requirement already satisfied: outcome in c:\\users\\genes\\anaconda3\\lib\\site-packages (from trio~=0.17->selenium) (1.3.0.post0)\n",
      "Requirement already satisfied: sniffio>=1.3.0 in c:\\users\\genes\\anaconda3\\lib\\site-packages (from trio~=0.17->selenium) (1.3.0)\n",
      "Requirement already satisfied: cffi>=1.14 in c:\\users\\genes\\anaconda3\\lib\\site-packages (from trio~=0.17->selenium) (1.15.1)\n",
      "Requirement already satisfied: wsproto>=0.14 in c:\\users\\genes\\anaconda3\\lib\\site-packages (from trio-websocket~=0.9->selenium) (1.2.0)\n",
      "Requirement already satisfied: PySocks!=1.5.7,<2.0,>=1.5.6 in c:\\users\\genes\\anaconda3\\lib\\site-packages (from urllib3[socks]<3,>=1.26->selenium) (1.7.1)\n",
      "Requirement already satisfied: pycparser in c:\\users\\genes\\anaconda3\\lib\\site-packages (from cffi>=1.14->trio~=0.17->selenium) (2.21)\n",
      "Requirement already satisfied: h11<1,>=0.9.0 in c:\\users\\genes\\anaconda3\\lib\\site-packages (from wsproto>=0.14->trio-websocket~=0.9->selenium) (0.14.0)\n",
      "Note: you may need to restart the kernel to use updated packages.\n"
     ]
    }
   ],
   "source": [
    "pip install selenium"
   ]
  },
  {
   "cell_type": "code",
   "execution_count": 525,
   "id": "0f937817",
   "metadata": {},
   "outputs": [],
   "source": [
    "import requests as req\n",
    "\n",
    "from bs4 import BeautifulSoup as bs\n",
    "\n",
    "import pandas as pd"
   ]
  },
  {
   "cell_type": "code",
   "execution_count": 289,
   "id": "48f9f85e",
   "metadata": {},
   "outputs": [],
   "source": [
    "url = 'https://www.thebluedolphinstore.com/categoria-producto/vinos-sin-alcohol/'"
   ]
  },
  {
   "cell_type": "code",
   "execution_count": 290,
   "id": "3267a0c5",
   "metadata": {},
   "outputs": [],
   "source": [
    "html=req.get(url).text\n",
    "\n",
    "sopa=bs(html, 'html.parser')\n"
   ]
  },
  {
   "cell_type": "code",
   "execution_count": 291,
   "id": "94e26465",
   "metadata": {},
   "outputs": [],
   "source": [
    "from selenium import webdriver   # driver de selenium\n",
    "\n",
    "from selenium.webdriver.chrome.options import Options   # opciones del driver\n",
    "\n",
    "from selenium.webdriver.common.by import By # By es para buscar por tag, clase, id...\n",
    "\n",
    "from selenium.webdriver.common.keys import Keys  # para usar teclado"
   ]
  },
  {
   "cell_type": "code",
   "execution_count": 292,
   "id": "bf230dbb",
   "metadata": {},
   "outputs": [],
   "source": [
    "PATH = 'driver/chromedriver'"
   ]
  },
  {
   "cell_type": "code",
   "execution_count": 293,
   "id": "97b98171",
   "metadata": {},
   "outputs": [],
   "source": [
    "# opciones del driver\n",
    "opciones=Options()\n",
    "\n",
    "# quita la bandera de ser robot\n",
    "opciones.add_experimental_option('excludeSwitches', ['enable-automation'])\n",
    "opciones.add_experimental_option('useAutomationExtension', False)\n",
    "\n",
    "\n",
    "# guardar las cookies\n",
    "opciones.add_argument('user-data-dir=cookies')    # mantiene las coockies"
   ]
  },
  {
   "cell_type": "code",
   "execution_count": 294,
   "id": "5b02e987",
   "metadata": {},
   "outputs": [],
   "source": [
    "driver = webdriver.Chrome()\n",
    "\n",
    "driver.get(url) "
   ]
  },
  {
   "cell_type": "markdown",
   "id": "ead6886b",
   "metadata": {},
   "source": [
    " Paso 2: comenzamos la busqueda de datos"
   ]
  },
  {
   "cell_type": "code",
   "execution_count": 295,
   "id": "71a68c3b",
   "metadata": {},
   "outputs": [
    {
     "data": {
      "text/plain": [
       "63"
      ]
     },
     "execution_count": 295,
     "metadata": {},
     "output_type": "execute_result"
    }
   ],
   "source": [
    "productos = driver.find_elements(By.CLASS_NAME, \"product-wrap\")\n",
    "\n",
    "len(productos)"
   ]
  },
  {
   "cell_type": "code",
   "execution_count": 296,
   "id": "baaf5f65",
   "metadata": {},
   "outputs": [
    {
     "data": {
      "text/plain": [
       "['NUEV@', 'Carl Jung Rosé – Vino Rosado Sin Alcohol', '6,86€ IVA inc.']"
      ]
     },
     "execution_count": 296,
     "metadata": {},
     "output_type": "execute_result"
    }
   ],
   "source": [
    "productos[0].text.split('\\n')"
   ]
  },
  {
   "cell_type": "code",
   "execution_count": 297,
   "id": "fc876bff",
   "metadata": {},
   "outputs": [],
   "source": [
    "nombre_variedad = productos[0].find_element(By.TAG_NAME, 'h3').text.split(' – ')\n",
    "\n",
    "nombre = nombre_variedad[0]\n"
   ]
  },
  {
   "cell_type": "code",
   "execution_count": 298,
   "id": "a73ae932",
   "metadata": {},
   "outputs": [
    {
     "data": {
      "text/plain": [
       "'Carl Jung Rosé'"
      ]
     },
     "execution_count": 298,
     "metadata": {},
     "output_type": "execute_result"
    }
   ],
   "source": [
    "nombre"
   ]
  },
  {
   "cell_type": "code",
   "execution_count": 299,
   "id": "2accff52",
   "metadata": {},
   "outputs": [
    {
     "data": {
      "text/plain": [
       "'Vino Rosado Sin Alcohol'"
      ]
     },
     "execution_count": 299,
     "metadata": {},
     "output_type": "execute_result"
    }
   ],
   "source": [
    "variedad = nombre_variedad[1]\n",
    "\n",
    "variedad"
   ]
  },
  {
   "cell_type": "code",
   "execution_count": 300,
   "id": "58d5b2ea",
   "metadata": {},
   "outputs": [
    {
     "data": {
      "text/plain": [
       "'6,86€'"
      ]
     },
     "execution_count": 300,
     "metadata": {},
     "output_type": "execute_result"
    }
   ],
   "source": [
    "precio = productos[0].find_element(By.CSS_SELECTOR,'#ajax-content-wrap > div.container-wrap > div > div.row > div.post-area.col.span_9.col_last > ul > li.minimal.product.type-product.post-28958.status-publish.first.instock.product_cat-destacados.product_cat-vino-rosado-sin-alcohol.product_cat-vinos-sin-alcohol.product_tag-vegana-o.has-post-thumbnail.taxable.shipping-taxable.purchasable.product-type-simple.yith-wcbm-product-has-badges.hover-bound > div.product-wrap > div > div > span > span > bdi').text\n",
    "\n",
    "precio"
   ]
  },
  {
   "cell_type": "code",
   "execution_count": 301,
   "id": "d87fdc3b",
   "metadata": {
    "scrolled": true
   },
   "outputs": [
    {
     "data": {
      "text/plain": [
       "6.86"
      ]
     },
     "execution_count": 301,
     "metadata": {},
     "output_type": "execute_result"
    }
   ],
   "source": [
    "precio = float(precio.replace('€', '').replace(',', '.'))\n",
    "\n",
    "precio"
   ]
  },
  {
   "cell_type": "markdown",
   "id": "abec0706",
   "metadata": {},
   "source": [
    "Paso 3: Obtenemos la data y creamos el DataFrame"
   ]
  },
  {
   "cell_type": "code",
   "execution_count": 302,
   "id": "e0571de6",
   "metadata": {},
   "outputs": [],
   "source": [
    "data = []\n",
    "\n",
    "for p in productos[0:]:\n",
    "    \n",
    "    nombre = p.find_element(By.TAG_NAME, 'h3').text\n",
    "    \n",
    "    #precio = p.find_element(By.CSS_SELECTOR,'#ajax-content-wrap > div.container-wrap > div > div.row > div.post-area.col.span_9.col_last > ul > li.minimal.product.type-product.post-28958.status-publish.first.instock.product_cat-destacados.product_cat-vino-rosado-sin-alcohol.product_cat-vinos-sin-alcohol.product_tag-vegana-o.has-post-thumbnail.taxable.shipping-taxable.purchasable.product-type-simple.yith-wcbm-product-has-badges.hover-bound > div.product-wrap > div > div > span > span > bdi').text\n",
    "    \n",
    "    \n",
    "    #precio = float(precio.replace('€', '').replace('\\n', '.'))\n",
    "    \n",
    "    \n",
    "    dictio = {'nombre': nombre, 'variedad' : variedad, 'precio': precio}\n",
    "    \n",
    "    data.append(dictio)"
   ]
  },
  {
   "cell_type": "code",
   "execution_count": 303,
   "id": "6aacb5be",
   "metadata": {},
   "outputs": [
    {
     "data": {
      "text/plain": [
       "[{'nombre': 'Carl Jung Rosé – Vino Rosado Sin Alcohol',\n",
       "  'variedad': 'Vino Rosado Sin Alcohol',\n",
       "  'precio': 6.86},\n",
       " {'nombre': 'Schloss Raggendorf Shiraz Rosé – Vino Rosado Sin Alcohol',\n",
       "  'variedad': 'Vino Rosado Sin Alcohol',\n",
       "  'precio': 6.86},\n",
       " {'nombre': 'Carl Jung Cabernet Sauvignon – Vino Tinto Sin Alcohol',\n",
       "  'variedad': 'Vino Rosado Sin Alcohol',\n",
       "  'precio': 6.86},\n",
       " {'nombre': 'Carl Jung Merlot – Vino Tinto Sin Alcohol',\n",
       "  'variedad': 'Vino Rosado Sin Alcohol',\n",
       "  'precio': 6.86},\n",
       " {'nombre': 'Schloss Raggendorf Zweigelt – Vino Tinto Sin Alcohol',\n",
       "  'variedad': 'Vino Rosado Sin Alcohol',\n",
       "  'precio': 6.86},\n",
       " {'nombre': 'Schloss Raggendorf Cabernet Sauvignon – Vino Tinto Sin Alcohol',\n",
       "  'variedad': 'Vino Rosado Sin Alcohol',\n",
       "  'precio': 6.86},\n",
       " {'nombre': 'Carl Jung Chardonnay – Vino Blanco Sin Alcohol',\n",
       "  'variedad': 'Vino Rosado Sin Alcohol',\n",
       "  'precio': 6.86},\n",
       " {'nombre': 'Carl Jung Riesling – Vino Blanco Sin Alcohol',\n",
       "  'variedad': 'Vino Rosado Sin Alcohol',\n",
       "  'precio': 6.86},\n",
       " {'nombre': 'Oddbird Domaine de la Prade Blanco – Vino Blanco Sin Alcohol',\n",
       "  'variedad': 'Vino Rosado Sin Alcohol',\n",
       "  'precio': 6.86},\n",
       " {'nombre': 'Oddbird Low Intervention Organic White Nº2 – Vino Blanco Sin Alcohol',\n",
       "  'variedad': 'Vino Rosado Sin Alcohol',\n",
       "  'precio': 6.86},\n",
       " {'nombre': 'Schloss Raggendorf Grüner Veltliner – Vino Blanco Sin Alcohol',\n",
       "  'variedad': 'Vino Rosado Sin Alcohol',\n",
       "  'precio': 6.86},\n",
       " {'nombre': 'Schloss Raggendorf Chardonnay – Vino Blanco Sin Alcohol',\n",
       "  'variedad': 'Vino Rosado Sin Alcohol',\n",
       "  'precio': 6.86},\n",
       " {'nombre': 'König & Krieger Rosé – Vino Rosado Sin Alcohol',\n",
       "  'variedad': 'Vino Rosado Sin Alcohol',\n",
       "  'precio': 6.86},\n",
       " {'nombre': 'König & Krieger Cabernet Sauvignon – Vino Tinto Sin Alcohol',\n",
       "  'variedad': 'Vino Rosado Sin Alcohol',\n",
       "  'precio': 6.86},\n",
       " {'nombre': 'König & Krieger Riesling – Vino Blanco Sin Alcohol',\n",
       "  'variedad': 'Vino Rosado Sin Alcohol',\n",
       "  'precio': 6.86},\n",
       " {'nombre': 'König & Krieger Sauvignon Blanc – Vino Blanco Sin Alcohol',\n",
       "  'variedad': 'Vino Rosado Sin Alcohol',\n",
       "  'precio': 6.86},\n",
       " {'nombre': 'Pierre Zéro Signature Blanco – Vino Sin Alcohol Bio',\n",
       "  'variedad': 'Vino Rosado Sin Alcohol',\n",
       "  'precio': 6.86},\n",
       " {'nombre': 'Oddbird Low Intervention Organic White Nº1 – Vino Blanco sin Alcohol',\n",
       "  'variedad': 'Vino Rosado Sin Alcohol',\n",
       "  'precio': 6.86},\n",
       " {'nombre': 'Alternativa 0.0 Rosado – Vino Sin Alcohol',\n",
       "  'variedad': 'Vino Rosado Sin Alcohol',\n",
       "  'precio': 6.86},\n",
       " {'nombre': 'Kolonne Null Riesling – Vino Blanco Sin Alcohol',\n",
       "  'variedad': 'Vino Rosado Sin Alcohol',\n",
       "  'precio': 6.86},\n",
       " {'nombre': 'Pierre Zéro Signature Tinto – Vino Sin Alcohol Bio',\n",
       "  'variedad': 'Vino Rosado Sin Alcohol',\n",
       "  'precio': 6.86},\n",
       " {'nombre': 'Aldea 0,0 Blanco – Vino Sin Alcohol Blanco',\n",
       "  'variedad': 'Vino Rosado Sin Alcohol',\n",
       "  'precio': 6.86},\n",
       " {'nombre': 'Aldea 0,0 Rosado – Vino Sin Alcohol',\n",
       "  'variedad': 'Vino Rosado Sin Alcohol',\n",
       "  'precio': 6.86},\n",
       " {'nombre': 'Pierre Zéro Rosado – Vino Sin Alcohol',\n",
       "  'variedad': 'Vino Rosado Sin Alcohol',\n",
       "  'precio': 6.86},\n",
       " {'nombre': 'Win Verdejo – Vino Sin Alcohol Blanco',\n",
       "  'variedad': 'Vino Rosado Sin Alcohol',\n",
       "  'precio': 6.86},\n",
       " {'nombre': 'Pierre Zéro Chardonnay – Vino Sin Alcohol Blanco',\n",
       "  'variedad': 'Vino Rosado Sin Alcohol',\n",
       "  'precio': 6.86},\n",
       " {'nombre': 'Pierre Zéro Prestige Chardonnay – Vino Sin Alcohol Blanco',\n",
       "  'variedad': 'Vino Rosado Sin Alcohol',\n",
       "  'precio': 6.86},\n",
       " {'nombre': 'Natureo Blanco – Vino Sin Alcohol Blanco',\n",
       "  'variedad': 'Vino Rosado Sin Alcohol',\n",
       "  'precio': 6.86},\n",
       " {'nombre': 'Pierre Zéro Prestige Merlot – Vino Sin Alcohol Tinto',\n",
       "  'variedad': 'Vino Rosado Sin Alcohol',\n",
       "  'precio': 6.86},\n",
       " {'nombre': 'Win Tempranillo 12 Meses – Vino Sin Alcohol Tinto',\n",
       "  'variedad': 'Vino Rosado Sin Alcohol',\n",
       "  'precio': 6.86},\n",
       " {'nombre': 'Win Tempranillo – Vino Sin Alcohol Tinto',\n",
       "  'variedad': 'Vino Rosado Sin Alcohol',\n",
       "  'precio': 6.86},\n",
       " {'nombre': 'Aldea 0,0 Tinto – Vino Sin Alcohol Tinto',\n",
       "  'variedad': 'Vino Rosado Sin Alcohol',\n",
       "  'precio': 6.86},\n",
       " {'nombre': 'Natureo Tinto – Vino Sin Alcohol Tinto',\n",
       "  'variedad': 'Vino Rosado Sin Alcohol',\n",
       "  'precio': 6.86},\n",
       " {'nombre': 'Natureo Rosado – Vino Sin Alcohol Rosado',\n",
       "  'variedad': 'Vino Rosado Sin Alcohol',\n",
       "  'precio': 6.86},\n",
       " {'nombre': 'Somée Cabernet Sauvignon – Vino Tinto Sin Alcohol',\n",
       "  'variedad': 'Vino Rosado Sin Alcohol',\n",
       "  'precio': 6.86},\n",
       " {'nombre': 'Alternativa 0.0 Blanco – Vino Blanco Sin Alcohol',\n",
       "  'variedad': 'Vino Rosado Sin Alcohol',\n",
       "  'precio': 6.86},\n",
       " {'nombre': 'Disfrutand0,0 – Vino Blanco Sin Alcohol',\n",
       "  'variedad': 'Vino Rosado Sin Alcohol',\n",
       "  'precio': 6.86},\n",
       " {'nombre': 'Oddbird GSM – Vino Tinto Sin Alcohol',\n",
       "  'variedad': 'Vino Rosado Sin Alcohol',\n",
       "  'precio': 6.86},\n",
       " {'nombre': 'König & Krieger Chardonnay – Vino Blanco Sin Alcohol',\n",
       "  'variedad': 'Vino Rosado Sin Alcohol',\n",
       "  'precio': 6.86},\n",
       " {'nombre': 'Oddbird Domaine de la Prade – Vino Tinto Sin Alcohol',\n",
       "  'variedad': 'Vino Rosado Sin Alcohol',\n",
       "  'precio': 6.86},\n",
       " {'nombre': 'Cero Chardonnay – Vino Blanco Sin Alcohol',\n",
       "  'variedad': 'Vino Rosado Sin Alcohol',\n",
       "  'precio': 6.86},\n",
       " {'nombre': 'Somée Sauvignon Blanc – Vino Blanco Sin Alcohol',\n",
       "  'variedad': 'Vino Rosado Sin Alcohol',\n",
       "  'precio': 6.86},\n",
       " {'nombre': 'Somée Chardonnay – Vino Blanco Sin Alcohol',\n",
       "  'variedad': 'Vino Rosado Sin Alcohol',\n",
       "  'precio': 6.86},\n",
       " {'nombre': 'Somée Riesling – Vino Blanco Sin Alcohol',\n",
       "  'variedad': 'Vino Rosado Sin Alcohol',\n",
       "  'precio': 6.86},\n",
       " {'nombre': 'Kolonne Null Verdejo – Vino Blanco Sin Alcohol',\n",
       "  'variedad': 'Vino Rosado Sin Alcohol',\n",
       "  'precio': 6.86},\n",
       " {'nombre': 'Sinzero Chardonnay – Vino Sin Alcohol Blanco',\n",
       "  'variedad': 'Vino Rosado Sin Alcohol',\n",
       "  'precio': 6.86},\n",
       " {'nombre': 'Cero Rosé – Vino Rosado Sin Alcohol',\n",
       "  'variedad': 'Vino Rosado Sin Alcohol',\n",
       "  'precio': 6.86},\n",
       " {'nombre': 'Cero Zinfandel – Vino Tinto Sin Alcohol',\n",
       "  'variedad': 'Vino Rosado Sin Alcohol',\n",
       "  'precio': 6.86},\n",
       " {'nombre': 'Kolonne Null Cuvée Rouge – Vino Tinto Sin Alcohol',\n",
       "  'variedad': 'Vino Rosado Sin Alcohol',\n",
       "  'precio': 6.86},\n",
       " {'nombre': 'Sinzero Tinto – Vino Sin Alcohol Tinto',\n",
       "  'variedad': 'Vino Rosado Sin Alcohol',\n",
       "  'precio': 6.86},\n",
       " {'nombre': 'Somée Merlot Rosé – Vino Sin Alcohol Rosado',\n",
       "  'variedad': 'Vino Rosado Sin Alcohol',\n",
       "  'precio': 6.86},\n",
       " {'nombre': 'Kolonne Null Rosé – Vino Rosado Sin Alcohol',\n",
       "  'variedad': 'Vino Rosado Sin Alcohol',\n",
       "  'precio': 6.86},\n",
       " {'nombre': 'Lussory Rosado – Vino Sin Alcohol Rosado',\n",
       "  'variedad': 'Vino Rosado Sin Alcohol',\n",
       "  'precio': 6.86},\n",
       " {'nombre': 'Pierre Zéro Merlot – Vino Sin Alcohol Tinto',\n",
       "  'variedad': 'Vino Rosado Sin Alcohol',\n",
       "  'precio': 6.86},\n",
       " {'nombre': 'Élivo Zero Zero Tinto – Vino Sin Alcohol Tinto',\n",
       "  'variedad': 'Vino Rosado Sin Alcohol',\n",
       "  'precio': 6.86},\n",
       " {'nombre': 'Lussory Organic Chardonnay – Vino Sin Alcohol Blanco',\n",
       "  'variedad': 'Vino Rosado Sin Alcohol',\n",
       "  'precio': 6.86},\n",
       " {'nombre': 'Lussory Organic Merlot – Vino Sin Alcohol Tinto',\n",
       "  'variedad': 'Vino Rosado Sin Alcohol',\n",
       "  'precio': 6.86},\n",
       " {'nombre': 'Lussory Chardonnay – Vino Sin Alcohol Blanco',\n",
       "  'variedad': 'Vino Rosado Sin Alcohol',\n",
       "  'precio': 6.86},\n",
       " {'nombre': 'Lussory Airén – Vino Sin Alcohol Blanco',\n",
       "  'variedad': 'Vino Rosado Sin Alcohol',\n",
       "  'precio': 6.86},\n",
       " {'nombre': 'Lussory Merlot – Vino Sin Alcohol Tinto',\n",
       "  'variedad': 'Vino Rosado Sin Alcohol',\n",
       "  'precio': 6.86},\n",
       " {'nombre': 'Lussory Tempranillo – Vino Sin Alcohol Tinto',\n",
       "  'variedad': 'Vino Rosado Sin Alcohol',\n",
       "  'precio': 6.86},\n",
       " {'nombre': 'Alternativa 0.0 Tinto – Vino Sin Alcohol Tinto',\n",
       "  'variedad': 'Vino Rosado Sin Alcohol',\n",
       "  'precio': 6.86},\n",
       " {'nombre': 'Élivo Zero Zero Blanco – Vino Sin Alcohol Blanco',\n",
       "  'variedad': 'Vino Rosado Sin Alcohol',\n",
       "  'precio': 6.86}]"
      ]
     },
     "execution_count": 303,
     "metadata": {},
     "output_type": "execute_result"
    }
   ],
   "source": [
    "data"
   ]
  },
  {
   "cell_type": "code",
   "execution_count": 529,
   "id": "2bae608a",
   "metadata": {},
   "outputs": [
    {
     "data": {
      "text/html": [
       "<div>\n",
       "<style scoped>\n",
       "    .dataframe tbody tr th:only-of-type {\n",
       "        vertical-align: middle;\n",
       "    }\n",
       "\n",
       "    .dataframe tbody tr th {\n",
       "        vertical-align: top;\n",
       "    }\n",
       "\n",
       "    .dataframe thead th {\n",
       "        text-align: right;\n",
       "    }\n",
       "</style>\n",
       "<table border=\"1\" class=\"dataframe\">\n",
       "  <thead>\n",
       "    <tr style=\"text-align: right;\">\n",
       "      <th></th>\n",
       "      <th>nombre</th>\n",
       "      <th>variedad</th>\n",
       "      <th>precio</th>\n",
       "    </tr>\n",
       "  </thead>\n",
       "  <tbody>\n",
       "    <tr>\n",
       "      <th>0</th>\n",
       "      <td>Carl Jung Rosé – Vino Rosado Sin Alcohol</td>\n",
       "      <td>Vino Rosado Sin Alcohol</td>\n",
       "      <td>6.86</td>\n",
       "    </tr>\n",
       "    <tr>\n",
       "      <th>1</th>\n",
       "      <td>Schloss Raggendorf Shiraz Rosé – Vino Rosado S...</td>\n",
       "      <td>Vino Rosado Sin Alcohol</td>\n",
       "      <td>6.86</td>\n",
       "    </tr>\n",
       "    <tr>\n",
       "      <th>2</th>\n",
       "      <td>Carl Jung Cabernet Sauvignon – Vino Tinto Sin ...</td>\n",
       "      <td>Vino Rosado Sin Alcohol</td>\n",
       "      <td>6.86</td>\n",
       "    </tr>\n",
       "    <tr>\n",
       "      <th>3</th>\n",
       "      <td>Carl Jung Merlot – Vino Tinto Sin Alcohol</td>\n",
       "      <td>Vino Rosado Sin Alcohol</td>\n",
       "      <td>6.86</td>\n",
       "    </tr>\n",
       "    <tr>\n",
       "      <th>4</th>\n",
       "      <td>Schloss Raggendorf Zweigelt – Vino Tinto Sin A...</td>\n",
       "      <td>Vino Rosado Sin Alcohol</td>\n",
       "      <td>6.86</td>\n",
       "    </tr>\n",
       "  </tbody>\n",
       "</table>\n",
       "</div>"
      ],
      "text/plain": [
       "                                              nombre                 variedad  \\\n",
       "0           Carl Jung Rosé – Vino Rosado Sin Alcohol  Vino Rosado Sin Alcohol   \n",
       "1  Schloss Raggendorf Shiraz Rosé – Vino Rosado S...  Vino Rosado Sin Alcohol   \n",
       "2  Carl Jung Cabernet Sauvignon – Vino Tinto Sin ...  Vino Rosado Sin Alcohol   \n",
       "3          Carl Jung Merlot – Vino Tinto Sin Alcohol  Vino Rosado Sin Alcohol   \n",
       "4  Schloss Raggendorf Zweigelt – Vino Tinto Sin A...  Vino Rosado Sin Alcohol   \n",
       "\n",
       "   precio  \n",
       "0    6.86  \n",
       "1    6.86  \n",
       "2    6.86  \n",
       "3    6.86  \n",
       "4    6.86  "
      ]
     },
     "execution_count": 529,
     "metadata": {},
     "output_type": "execute_result"
    }
   ],
   "source": [
    "## primer DataFrame listo:\n",
    "\n",
    "listado = pd.DataFrame(data)\n",
    "\n",
    "listado.head()"
   ]
  },
  {
   "cell_type": "markdown",
   "id": "6029899c",
   "metadata": {},
   "source": [
    "### 1.1.2\n",
    "\n",
    "Obtenemos datos especificios sobre cada producto de la pagina inicial"
   ]
  },
  {
   "cell_type": "markdown",
   "id": "583c8cbe",
   "metadata": {},
   "source": [
    "Paso 1: Conseguir las URL de cada producto"
   ]
  },
  {
   "cell_type": "code",
   "execution_count": 462,
   "id": "da0fc167",
   "metadata": {},
   "outputs": [],
   "source": [
    "lista_urls = []"
   ]
  },
  {
   "cell_type": "code",
   "execution_count": 463,
   "id": "fc68386a",
   "metadata": {
    "scrolled": true
   },
   "outputs": [],
   "source": [
    "lista_urls = []\n",
    "for div in sopa.find_all('div', {'class':'product-wrap'}): \n",
    "    url = div.find('a').attrs['href']\n",
    "    lista_urls.append(url)"
   ]
  },
  {
   "cell_type": "markdown",
   "id": "f52bc101",
   "metadata": {},
   "source": [
    "Paso 2. Defino las características que describen cada botella de vino y posteriormente lo aplico a cada URL"
   ]
  },
  {
   "cell_type": "code",
   "execution_count": 490,
   "id": "23efb034",
   "metadata": {},
   "outputs": [],
   "source": [
    "url_producto_indv = \"https://www.thebluedolphinstore.com/producto/carl-jung-rose-vino-rosado-sin-alcohol/\""
   ]
  },
  {
   "cell_type": "code",
   "execution_count": 491,
   "id": "224a713d",
   "metadata": {},
   "outputs": [],
   "source": [
    "driver = webdriver.Chrome()   # abre una ventana de chrome\n",
    "\n",
    "driver.get(url_producto_indv)   # entra en la pagina"
   ]
  },
  {
   "cell_type": "code",
   "execution_count": 492,
   "id": "5afac6a0",
   "metadata": {},
   "outputs": [
    {
     "data": {
      "text/plain": [
       "['Vino rosado sin alcohol',\n",
       " 'Carl Jung Rosé es un delicioso vino rosado sin alcohol que tiene hasta 1/3 menos calorías que un vino rosado normal. Por tanto permite disfrutar de forma más saludable y si estás a dieta, sin perder nada de sabor.',\n",
       " 'Este vino rosado sin alcohol de Carl Jung tiene todas las ventajas de un rosado típico pero nada de alcohol. Además, esta marca produce vinos sin alcohol veganos.',\n",
       " 'Notas de Cata',\n",
       " 'De color rosa sutil, ligeramente brillante, finamente afrutado y refrescante. Acidez armoniosa, taninos sutiles, frutal con recuerdos a frambuesas y fresas.',\n",
       " 'Volumen: 75 cl.',\n",
       " 'Variedad:',\n",
       " 'Graduación: <0,5 %',\n",
       " 'Productor: Carl Jung (Alemania)']"
      ]
     },
     "execution_count": 492,
     "metadata": {},
     "output_type": "execute_result"
    }
   ],
   "source": [
    "producto_indv = driver.find_element(By.CLASS_NAME, \"woocommerce-product-details__short-description\").text.split('\\n')\n",
    "\n",
    "producto_indv"
   ]
  },
  {
   "cell_type": "code",
   "execution_count": 493,
   "id": "5ad3726f",
   "metadata": {},
   "outputs": [
    {
     "data": {
      "text/plain": [
       "'De color rosa sutil, ligeramente brillante, finamente afrutado y refrescante. Acidez armoniosa, taninos sutiles, frutal con recuerdos a frambuesas y fresas.'"
      ]
     },
     "execution_count": 493,
     "metadata": {},
     "output_type": "execute_result"
    }
   ],
   "source": [
    "notas_de_cata = producto_indv[4]\n",
    "notas_de_cata"
   ]
  },
  {
   "cell_type": "code",
   "execution_count": 495,
   "id": "ceb05929",
   "metadata": {},
   "outputs": [],
   "source": [
    "for element in producto_indv:\n",
    "    if element.startswith('Volumen'):\n",
    "        volumen = int(element.replace('Volumen: ', '').replace('<.','').replace('cl.',''))\n",
    "    if element.startswith('Variedad'):\n",
    "        variedad = element.replace('Variedad: ', '')\n",
    "    if element.startswith('Graduación'): \n",
    "        graduacion = element.replace('Graduación: ', '')\n",
    "    if element.startswith('Productor'): \n",
    "        productor = element.replace('Productor: ', '')\n",
    "    if element.startswith('Productor'):\n",
    "        pais = element.split('(')[1].replace(')','')\n",
    "    if element in producto_indv[4]:\n",
    "        notas_de_cata = notas_de_cata"
   ]
  },
  {
   "cell_type": "code",
   "execution_count": 440,
   "id": "2c2b624d",
   "metadata": {},
   "outputs": [
    {
     "data": {
      "text/plain": [
       "75"
      ]
     },
     "execution_count": 440,
     "metadata": {},
     "output_type": "execute_result"
    }
   ],
   "source": [
    "volumen"
   ]
  },
  {
   "cell_type": "code",
   "execution_count": 441,
   "id": "4e334e55",
   "metadata": {},
   "outputs": [
    {
     "data": {
      "text/plain": [
       "'Variedad:'"
      ]
     },
     "execution_count": 441,
     "metadata": {},
     "output_type": "execute_result"
    }
   ],
   "source": [
    "variedad"
   ]
  },
  {
   "cell_type": "code",
   "execution_count": 442,
   "id": "d6f97d99",
   "metadata": {},
   "outputs": [
    {
     "data": {
      "text/plain": [
       "'<0,5 %'"
      ]
     },
     "execution_count": 442,
     "metadata": {},
     "output_type": "execute_result"
    }
   ],
   "source": [
    "graduacion"
   ]
  },
  {
   "cell_type": "code",
   "execution_count": 443,
   "id": "a5b9ed35",
   "metadata": {},
   "outputs": [
    {
     "data": {
      "text/plain": [
       "'Carl Jung (Alemania)'"
      ]
     },
     "execution_count": 443,
     "metadata": {},
     "output_type": "execute_result"
    }
   ],
   "source": [
    "productor"
   ]
  },
  {
   "cell_type": "code",
   "execution_count": 444,
   "id": "5294cc3f",
   "metadata": {},
   "outputs": [
    {
     "data": {
      "text/plain": [
       "'Alemania'"
      ]
     },
     "execution_count": 444,
     "metadata": {},
     "output_type": "execute_result"
    }
   ],
   "source": [
    "pais"
   ]
  },
  {
   "cell_type": "code",
   "execution_count": 445,
   "id": "7400f065",
   "metadata": {},
   "outputs": [
    {
     "data": {
      "text/plain": [
       "'Etiqueta: Vegano'"
      ]
     },
     "execution_count": 445,
     "metadata": {},
     "output_type": "execute_result"
    }
   ],
   "source": [
    "etiqueta = driver.find_element(By.CLASS_NAME, \"tagged_as\").text\n",
    "\n",
    "etiqueta"
   ]
  },
  {
   "cell_type": "code",
   "execution_count": 446,
   "id": "ae7b9db7",
   "metadata": {},
   "outputs": [
    {
     "data": {
      "text/plain": [
       "'Vegano'"
      ]
     },
     "execution_count": 446,
     "metadata": {},
     "output_type": "execute_result"
    }
   ],
   "source": [
    "etiqueta = etiqueta.replace('Etiqueta: ', '')\n",
    "        \n",
    "etiqueta"
   ]
  },
  {
   "cell_type": "code",
   "execution_count": 520,
   "id": "9aab2813",
   "metadata": {},
   "outputs": [],
   "source": [
    "## Tuve que instalar el paquete de selenium porque me daba esta excepcion en la etiqueta\n",
    "from selenium.common.exceptions import NoSuchElementException"
   ]
  },
  {
   "cell_type": "markdown",
   "id": "7dc694bf",
   "metadata": {},
   "source": [
    "Paso 3: Creo la data2 con cada valor unico y obtenemos el siguiente DataFrame\n",
    "Este paso me ha dado muchos errores:\n",
    "1. He tenido que incluir muchos valores de .replace() porque no en todas las url estan definidos de la misma forma, y por ello me cortaba el bucle una y otra vez.\n",
    "2. Cada pagina tiene que abrir, buscar y cerrarse, por eso agrego los driver.get() y driver.close()\n",
    "3. Etiqueta me daba muchos errores agregamos la excepcion de NoSuchElementException y le pedimos que cuando esto ocurra nos arroje el valor de No Disponible.\n",
    "4. Paciencia."
   ]
  },
  {
   "cell_type": "code",
   "execution_count": 517,
   "id": "8b42155b",
   "metadata": {},
   "outputs": [],
   "source": [
    "data2 = []\n",
    "\n",
    "for u in lista_urls:\n",
    "    driver = webdriver.Chrome()\n",
    "    driver.get(u) \n",
    "   \n",
    "    producto_indv = driver.find_element(By.CLASS_NAME, \"woocommerce-product-details__short-description\").text.split('\\n')\n",
    "    \n",
    "    for element in producto_indv:\n",
    "        if element.startswith('Volumen'):\n",
    "            volumen = int(element.replace('Volumen: ', '').replace('75 .','').replace('.','').replace('cl','').replace('cl.',''))\n",
    "        if element.startswith('Variedad'):\n",
    "            variedad = element.replace('Variedad: ', '')\n",
    "        if element.startswith('Graduación'): \n",
    "            graduacion = element.replace('Graduación: ', '')\n",
    "        if element.startswith('Productor'): \n",
    "            productor = element.replace('Productor: ', '')\n",
    "        if element.startswith('Productor'):\n",
    "            pais = element.split('(')[1].replace(')','')\n",
    "        if element in producto_indv[4]:\n",
    "            notas_de_cata = notas_de_cata\n",
    "    try:\n",
    "        etiqueta = driver.find_element(By.CLASS_NAME, \"tagged_as\").text.replace('Etiqueta: ', '')\n",
    "        etiqueta = etiqueta.replace('Etiqueta: ', '').replace('Etiquetas: ' ,'')\n",
    "    except NoSuchElementException:\n",
    "        etiqueta = \"No Disponible\"\n",
    "\n",
    "    \n",
    "    dictio2 = {'volumen' : volumen, 'graduacion': graduacion, 'productor':productor, 'pais': pais, 'etiqueta': etiqueta, 'notas de cata': notas_de_cata,'url': url}\n",
    "    \n",
    "    data2.append(dictio2)\n",
    "    \n",
    "    driver.close()\n",
    "    "
   ]
  },
  {
   "cell_type": "code",
   "execution_count": 518,
   "id": "0a510e5d",
   "metadata": {
    "scrolled": false
   },
   "outputs": [
    {
     "data": {
      "text/plain": [
       "[{'volumen': 75,\n",
       "  'graduacion': '<0,5 %',\n",
       "  'productor': 'Carl Jung (Alemania)',\n",
       "  'pais': 'Alemania',\n",
       "  'etiqueta': 'Vegano',\n",
       "  'notas de cata': 'De color rosa sutil, ligeramente brillante, finamente afrutado y refrescante. Acidez armoniosa, taninos sutiles, frutal con recuerdos a frambuesas y fresas.',\n",
       "  'url': 'https://www.thebluedolphinstore.com/producto/vino-sin-alcohol-zero-zero-blanco/'},\n",
       " {'volumen': 75,\n",
       "  'graduacion': '0,5%',\n",
       "  'productor': 'Carl Jung (Alemania)',\n",
       "  'pais': 'Alemania',\n",
       "  'etiqueta': 'Syrah',\n",
       "  'notas de cata': 'De color rosa sutil, ligeramente brillante, finamente afrutado y refrescante. Acidez armoniosa, taninos sutiles, frutal con recuerdos a frambuesas y fresas.',\n",
       "  'url': 'https://www.thebluedolphinstore.com/producto/vino-sin-alcohol-zero-zero-blanco/'},\n",
       " {'volumen': 75,\n",
       "  'graduacion': '<0,5 %',\n",
       "  'productor': 'Carl Jung (Alemania)',\n",
       "  'pais': 'Alemania',\n",
       "  'etiqueta': 'Cabernet Sauvignon, Vegano',\n",
       "  'notas de cata': 'De color rosa sutil, ligeramente brillante, finamente afrutado y refrescante. Acidez armoniosa, taninos sutiles, frutal con recuerdos a frambuesas y fresas.',\n",
       "  'url': 'https://www.thebluedolphinstore.com/producto/vino-sin-alcohol-zero-zero-blanco/'},\n",
       " {'volumen': 75,\n",
       "  'graduacion': '<0,5 %',\n",
       "  'productor': 'Carl Jung (Alemania)',\n",
       "  'pais': 'Alemania',\n",
       "  'etiqueta': 'Merlot, Vegano',\n",
       "  'notas de cata': 'De color rosa sutil, ligeramente brillante, finamente afrutado y refrescante. Acidez armoniosa, taninos sutiles, frutal con recuerdos a frambuesas y fresas.',\n",
       "  'url': 'https://www.thebluedolphinstore.com/producto/vino-sin-alcohol-zero-zero-blanco/'},\n",
       " {'volumen': 75,\n",
       "  'graduacion': '0,5%',\n",
       "  'productor': 'Carl Jung (Alemania)',\n",
       "  'pais': 'Alemania',\n",
       "  'etiqueta': 'No Disponible',\n",
       "  'notas de cata': 'De color rosa sutil, ligeramente brillante, finamente afrutado y refrescante. Acidez armoniosa, taninos sutiles, frutal con recuerdos a frambuesas y fresas.',\n",
       "  'url': 'https://www.thebluedolphinstore.com/producto/vino-sin-alcohol-zero-zero-blanco/'},\n",
       " {'volumen': 75,\n",
       "  'graduacion': '0,5%',\n",
       "  'productor': 'Carl Jung (Alemania)',\n",
       "  'pais': 'Alemania',\n",
       "  'etiqueta': 'Cabernet Sauvignon',\n",
       "  'notas de cata': 'De color rosa sutil, ligeramente brillante, finamente afrutado y refrescante. Acidez armoniosa, taninos sutiles, frutal con recuerdos a frambuesas y fresas.',\n",
       "  'url': 'https://www.thebluedolphinstore.com/producto/vino-sin-alcohol-zero-zero-blanco/'},\n",
       " {'volumen': 75,\n",
       "  'graduacion': '<0,5 %',\n",
       "  'productor': 'Carl Jung (Alemania)',\n",
       "  'pais': 'Alemania',\n",
       "  'etiqueta': 'Chardonnay, Vegano',\n",
       "  'notas de cata': 'De color rosa sutil, ligeramente brillante, finamente afrutado y refrescante. Acidez armoniosa, taninos sutiles, frutal con recuerdos a frambuesas y fresas.',\n",
       "  'url': 'https://www.thebluedolphinstore.com/producto/vino-sin-alcohol-zero-zero-blanco/'},\n",
       " {'volumen': 75,\n",
       "  'graduacion': '<0,5 %',\n",
       "  'productor': 'Carl Jung (Alemania)',\n",
       "  'pais': 'Alemania',\n",
       "  'etiqueta': 'Riesling, Vegano',\n",
       "  'notas de cata': 'De color rosa sutil, ligeramente brillante, finamente afrutado y refrescante. Acidez armoniosa, taninos sutiles, frutal con recuerdos a frambuesas y fresas.',\n",
       "  'url': 'https://www.thebluedolphinstore.com/producto/vino-sin-alcohol-zero-zero-blanco/'},\n",
       " {'volumen': 75,\n",
       "  'graduacion': '<0,5 %',\n",
       "  'productor': 'Oddbird International (Suecia)',\n",
       "  'pais': 'Suecia',\n",
       "  'etiqueta': 'Chardonnay, Orgánico / Ecológico, Vegano',\n",
       "  'notas de cata': 'De color rosa sutil, ligeramente brillante, finamente afrutado y refrescante. Acidez armoniosa, taninos sutiles, frutal con recuerdos a frambuesas y fresas.',\n",
       "  'url': 'https://www.thebluedolphinstore.com/producto/vino-sin-alcohol-zero-zero-blanco/'},\n",
       " {'volumen': 75,\n",
       "  'graduacion': '0%',\n",
       "  'productor': 'Oddbird International (Suecia)',\n",
       "  'pais': 'Suecia',\n",
       "  'etiqueta': 'Orgánico / Ecológico, Sin saborizantes, Vegano',\n",
       "  'notas de cata': 'De color rosa sutil, ligeramente brillante, finamente afrutado y refrescante. Acidez armoniosa, taninos sutiles, frutal con recuerdos a frambuesas y fresas.',\n",
       "  'url': 'https://www.thebluedolphinstore.com/producto/vino-sin-alcohol-zero-zero-blanco/'},\n",
       " {'volumen': 75,\n",
       "  'graduacion': '0,5%',\n",
       "  'productor': 'Oddbird International (Suecia)',\n",
       "  'pais': 'Suecia',\n",
       "  'etiqueta': 'No Disponible',\n",
       "  'notas de cata': 'De color rosa sutil, ligeramente brillante, finamente afrutado y refrescante. Acidez armoniosa, taninos sutiles, frutal con recuerdos a frambuesas y fresas.',\n",
       "  'url': 'https://www.thebluedolphinstore.com/producto/vino-sin-alcohol-zero-zero-blanco/'},\n",
       " {'volumen': 75,\n",
       "  'graduacion': '0,5%',\n",
       "  'productor': 'Oddbird International (Suecia)',\n",
       "  'pais': 'Suecia',\n",
       "  'etiqueta': 'Chardonnay',\n",
       "  'notas de cata': 'De color rosa sutil, ligeramente brillante, finamente afrutado y refrescante. Acidez armoniosa, taninos sutiles, frutal con recuerdos a frambuesas y fresas.',\n",
       "  'url': 'https://www.thebluedolphinstore.com/producto/vino-sin-alcohol-zero-zero-blanco/'},\n",
       " {'volumen': 75,\n",
       "  'graduacion': '<0,5%',\n",
       "  'productor': 'Oddbird International (Suecia)',\n",
       "  'pais': 'Suecia',\n",
       "  'etiqueta': 'Merlot',\n",
       "  'notas de cata': 'De color rosa sutil, ligeramente brillante, finamente afrutado y refrescante. Acidez armoniosa, taninos sutiles, frutal con recuerdos a frambuesas y fresas.',\n",
       "  'url': 'https://www.thebluedolphinstore.com/producto/vino-sin-alcohol-zero-zero-blanco/'},\n",
       " {'volumen': 75,\n",
       "  'graduacion': '<0,5%',\n",
       "  'productor': 'Oddbird International (Suecia)',\n",
       "  'pais': 'Suecia',\n",
       "  'etiqueta': 'Cabernet Sauvignon',\n",
       "  'notas de cata': 'De color rosa sutil, ligeramente brillante, finamente afrutado y refrescante. Acidez armoniosa, taninos sutiles, frutal con recuerdos a frambuesas y fresas.',\n",
       "  'url': 'https://www.thebluedolphinstore.com/producto/vino-sin-alcohol-zero-zero-blanco/'},\n",
       " {'volumen': 75,\n",
       "  'graduacion': '<0,5%',\n",
       "  'productor': 'Oddbird International (Suecia)',\n",
       "  'pais': 'Suecia',\n",
       "  'etiqueta': 'Riesling',\n",
       "  'notas de cata': 'De color rosa sutil, ligeramente brillante, finamente afrutado y refrescante. Acidez armoniosa, taninos sutiles, frutal con recuerdos a frambuesas y fresas.',\n",
       "  'url': 'https://www.thebluedolphinstore.com/producto/vino-sin-alcohol-zero-zero-blanco/'},\n",
       " {'volumen': 75,\n",
       "  'graduacion': '<0,5%',\n",
       "  'productor': 'Oddbird International (Suecia)',\n",
       "  'pais': 'Suecia',\n",
       "  'etiqueta': 'No Disponible',\n",
       "  'notas de cata': 'De color rosa sutil, ligeramente brillante, finamente afrutado y refrescante. Acidez armoniosa, taninos sutiles, frutal con recuerdos a frambuesas y fresas.',\n",
       "  'url': 'https://www.thebluedolphinstore.com/producto/vino-sin-alcohol-zero-zero-blanco/'},\n",
       " {'volumen': 75,\n",
       "  'graduacion': '<0,5%',\n",
       "  'productor': 'Oddbird International (Suecia)',\n",
       "  'pais': 'Suecia',\n",
       "  'etiqueta': 'Bajo o Sin Calorías, Chardonnay, Orgánico / Ecológico',\n",
       "  'notas de cata': 'De color rosa sutil, ligeramente brillante, finamente afrutado y refrescante. Acidez armoniosa, taninos sutiles, frutal con recuerdos a frambuesas y fresas.',\n",
       "  'url': 'https://www.thebluedolphinstore.com/producto/vino-sin-alcohol-zero-zero-blanco/'},\n",
       " {'volumen': 75,\n",
       "  'graduacion': '0%',\n",
       "  'productor': 'Oddbird International (Suecia)',\n",
       "  'pais': 'Suecia',\n",
       "  'etiqueta': 'Bajo o Sin Calorías, Orgánico / Ecológico, Sin saborizantes',\n",
       "  'notas de cata': 'De color rosa sutil, ligeramente brillante, finamente afrutado y refrescante. Acidez armoniosa, taninos sutiles, frutal con recuerdos a frambuesas y fresas.',\n",
       "  'url': 'https://www.thebluedolphinstore.com/producto/vino-sin-alcohol-zero-zero-blanco/'},\n",
       " {'volumen': 75,\n",
       "  'graduacion': '0,0%',\n",
       "  'productor': 'Princess (Italia)',\n",
       "  'pais': 'Italia',\n",
       "  'etiqueta': 'Bajo o Sin Calorías, Natural, Sin saborizantes',\n",
       "  'notas de cata': 'De color rosa sutil, ligeramente brillante, finamente afrutado y refrescante. Acidez armoniosa, taninos sutiles, frutal con recuerdos a frambuesas y fresas.',\n",
       "  'url': 'https://www.thebluedolphinstore.com/producto/vino-sin-alcohol-zero-zero-blanco/'},\n",
       " {'volumen': 75,\n",
       "  'graduacion': '0,3%',\n",
       "  'productor': 'Kolonne Null (Alemania)',\n",
       "  'pais': 'Alemania',\n",
       "  'etiqueta': 'Bajo o Sin Calorías, Exclusivo Blue Dolphin, Riesling, Sin gluten, Vegano',\n",
       "  'notas de cata': 'De color rosa sutil, ligeramente brillante, finamente afrutado y refrescante. Acidez armoniosa, taninos sutiles, frutal con recuerdos a frambuesas y fresas.',\n",
       "  'url': 'https://www.thebluedolphinstore.com/producto/vino-sin-alcohol-zero-zero-blanco/'},\n",
       " {'volumen': 75,\n",
       "  'graduacion': '<0,5%',\n",
       "  'productor': 'Kolonne Null (Alemania)',\n",
       "  'pais': 'Alemania',\n",
       "  'etiqueta': 'Bajo o Sin Calorías, Garnacha, Orgánico / Ecológico',\n",
       "  'notas de cata': 'De color rosa sutil, ligeramente brillante, finamente afrutado y refrescante. Acidez armoniosa, taninos sutiles, frutal con recuerdos a frambuesas y fresas.',\n",
       "  'url': 'https://www.thebluedolphinstore.com/producto/vino-sin-alcohol-zero-zero-blanco/'},\n",
       " {'volumen': 75,\n",
       "  'graduacion': '0,0%',\n",
       "  'productor': 'Producto de Aldea (Galicia-España)',\n",
       "  'pais': 'Galicia-España',\n",
       "  'etiqueta': 'Verdejo',\n",
       "  'notas de cata': 'De color rosa sutil, ligeramente brillante, finamente afrutado y refrescante. Acidez armoniosa, taninos sutiles, frutal con recuerdos a frambuesas y fresas.',\n",
       "  'url': 'https://www.thebluedolphinstore.com/producto/vino-sin-alcohol-zero-zero-blanco/'},\n",
       " {'volumen': 75,\n",
       "  'graduacion': '0,0%',\n",
       "  'productor': 'Producto de Aldea (Galicia-España)',\n",
       "  'pais': 'Galicia-España',\n",
       "  'etiqueta': 'Tempranillo',\n",
       "  'notas de cata': 'De color rosa sutil, ligeramente brillante, finamente afrutado y refrescante. Acidez armoniosa, taninos sutiles, frutal con recuerdos a frambuesas y fresas.',\n",
       "  'url': 'https://www.thebluedolphinstore.com/producto/vino-sin-alcohol-zero-zero-blanco/'},\n",
       " {'volumen': 75,\n",
       "  'graduacion': '0,0%',\n",
       "  'productor': 'Producto de Aldea (Galicia-España)',\n",
       "  'pais': 'Galicia-España',\n",
       "  'etiqueta': 'Bajo o Sin Calorías, Chardonnay, Exclusivo Blue Dolphin, Halal, Merlot, Vegano',\n",
       "  'notas de cata': 'De color rosa sutil, ligeramente brillante, finamente afrutado y refrescante. Acidez armoniosa, taninos sutiles, frutal con recuerdos a frambuesas y fresas.',\n",
       "  'url': 'https://www.thebluedolphinstore.com/producto/vino-sin-alcohol-zero-zero-blanco/'},\n",
       " {'volumen': 75,\n",
       "  'graduacion': '0,0%',\n",
       "  'productor': 'Win (Valladolid – España)',\n",
       "  'pais': 'Valladolid – España',\n",
       "  'etiqueta': 'Sin gluten, Vegano, Verdejo',\n",
       "  'notas de cata': 'De color rosa sutil, ligeramente brillante, finamente afrutado y refrescante. Acidez armoniosa, taninos sutiles, frutal con recuerdos a frambuesas y fresas.',\n",
       "  'url': 'https://www.thebluedolphinstore.com/producto/vino-sin-alcohol-zero-zero-blanco/'},\n",
       " {'volumen': 75,\n",
       "  'graduacion': '0%',\n",
       "  'productor': 'Win (Valladolid – España)',\n",
       "  'pais': 'Valladolid – España',\n",
       "  'etiqueta': 'Bajo o Sin Calorías, Chardonnay, Exclusivo Blue Dolphin, Halal, Vegano',\n",
       "  'notas de cata': 'De color rosa sutil, ligeramente brillante, finamente afrutado y refrescante. Acidez armoniosa, taninos sutiles, frutal con recuerdos a frambuesas y fresas.',\n",
       "  'url': 'https://www.thebluedolphinstore.com/producto/vino-sin-alcohol-zero-zero-blanco/'},\n",
       " {'volumen': 75,\n",
       "  'graduacion': '0%',\n",
       "  'productor': 'Win (Valladolid – España)',\n",
       "  'pais': 'Valladolid – España',\n",
       "  'etiqueta': 'Chardonnay, Exclusivo Blue Dolphin, Vegano',\n",
       "  'notas de cata': 'De color rosa sutil, ligeramente brillante, finamente afrutado y refrescante. Acidez armoniosa, taninos sutiles, frutal con recuerdos a frambuesas y fresas.',\n",
       "  'url': 'https://www.thebluedolphinstore.com/producto/vino-sin-alcohol-zero-zero-blanco/'},\n",
       " {'volumen': 75,\n",
       "  'graduacion': '0,0%',\n",
       "  'productor': 'Win (Valladolid – España)',\n",
       "  'pais': 'Valladolid – España',\n",
       "  'etiqueta': 'Bajo o Sin Calorías, Moscatel',\n",
       "  'notas de cata': 'De color rosa sutil, ligeramente brillante, finamente afrutado y refrescante. Acidez armoniosa, taninos sutiles, frutal con recuerdos a frambuesas y fresas.',\n",
       "  'url': 'https://www.thebluedolphinstore.com/producto/vino-sin-alcohol-zero-zero-blanco/'},\n",
       " {'volumen': 75,\n",
       "  'graduacion': '0%',\n",
       "  'productor': 'Win (Valladolid – España)',\n",
       "  'pais': 'Valladolid – España',\n",
       "  'etiqueta': 'Bajo o Sin Calorías, Exclusivo Blue Dolphin, Merlot, Vegano',\n",
       "  'notas de cata': 'De color rosa sutil, ligeramente brillante, finamente afrutado y refrescante. Acidez armoniosa, taninos sutiles, frutal con recuerdos a frambuesas y fresas.',\n",
       "  'url': 'https://www.thebluedolphinstore.com/producto/vino-sin-alcohol-zero-zero-blanco/'},\n",
       " {'volumen': 75,\n",
       "  'graduacion': '0,0%',\n",
       "  'productor': 'Win (Valladolid – España)',\n",
       "  'pais': 'Valladolid – España',\n",
       "  'etiqueta': 'Tempranillo',\n",
       "  'notas de cata': 'De color rosa sutil, ligeramente brillante, finamente afrutado y refrescante. Acidez armoniosa, taninos sutiles, frutal con recuerdos a frambuesas y fresas.',\n",
       "  'url': 'https://www.thebluedolphinstore.com/producto/vino-sin-alcohol-zero-zero-blanco/'},\n",
       " {'volumen': 75,\n",
       "  'graduacion': '0,0%',\n",
       "  'productor': 'Win (Valladolid – España)',\n",
       "  'pais': 'Valladolid – España',\n",
       "  'etiqueta': 'Sin gluten, Tempranillo, Vegano',\n",
       "  'notas de cata': 'De color rosa sutil, ligeramente brillante, finamente afrutado y refrescante. Acidez armoniosa, taninos sutiles, frutal con recuerdos a frambuesas y fresas.',\n",
       "  'url': 'https://www.thebluedolphinstore.com/producto/vino-sin-alcohol-zero-zero-blanco/'},\n",
       " {'volumen': 75,\n",
       "  'graduacion': '0,0%',\n",
       "  'productor': 'Producto de Aldea (Galicia-España)',\n",
       "  'pais': 'Galicia-España',\n",
       "  'etiqueta': 'Tempranillo',\n",
       "  'notas de cata': 'De color rosa sutil, ligeramente brillante, finamente afrutado y refrescante. Acidez armoniosa, taninos sutiles, frutal con recuerdos a frambuesas y fresas.',\n",
       "  'url': 'https://www.thebluedolphinstore.com/producto/vino-sin-alcohol-zero-zero-blanco/'},\n",
       " {'volumen': 75,\n",
       "  'graduacion': '0,0%',\n",
       "  'productor': 'Producto de Aldea (Galicia-España)',\n",
       "  'pais': 'Galicia-España',\n",
       "  'etiqueta': 'Bajo o Sin Calorías, Garnacha, Syrah',\n",
       "  'notas de cata': 'De color rosa sutil, ligeramente brillante, finamente afrutado y refrescante. Acidez armoniosa, taninos sutiles, frutal con recuerdos a frambuesas y fresas.',\n",
       "  'url': 'https://www.thebluedolphinstore.com/producto/vino-sin-alcohol-zero-zero-blanco/'},\n",
       " {'volumen': 75,\n",
       "  'graduacion': '0,0%',\n",
       "  'productor': 'Producto de Aldea (Galicia-España)',\n",
       "  'pais': 'Galicia-España',\n",
       "  'etiqueta': 'Bajo o Sin Calorías, Cabernet Sauvignon, Syrah',\n",
       "  'notas de cata': 'De color rosa sutil, ligeramente brillante, finamente afrutado y refrescante. Acidez armoniosa, taninos sutiles, frutal con recuerdos a frambuesas y fresas.',\n",
       "  'url': 'https://www.thebluedolphinstore.com/producto/vino-sin-alcohol-zero-zero-blanco/'},\n",
       " {'volumen': 75,\n",
       "  'graduacion': '<0,5%',\n",
       "  'productor': 'Somée (Alemania)',\n",
       "  'pais': 'Alemania',\n",
       "  'etiqueta': 'Cabernet Sauvignon',\n",
       "  'notas de cata': 'De color rosa sutil, ligeramente brillante, finamente afrutado y refrescante. Acidez armoniosa, taninos sutiles, frutal con recuerdos a frambuesas y fresas.',\n",
       "  'url': 'https://www.thebluedolphinstore.com/producto/vino-sin-alcohol-zero-zero-blanco/'},\n",
       " {'volumen': 75,\n",
       "  'graduacion': '0,0%',\n",
       "  'productor': 'Princess (Italia)',\n",
       "  'pais': 'Italia',\n",
       "  'etiqueta': 'Bajo o Sin Calorías, Natural, Sin saborizantes',\n",
       "  'notas de cata': 'De color rosa sutil, ligeramente brillante, finamente afrutado y refrescante. Acidez armoniosa, taninos sutiles, frutal con recuerdos a frambuesas y fresas.',\n",
       "  'url': 'https://www.thebluedolphinstore.com/producto/vino-sin-alcohol-zero-zero-blanco/'},\n",
       " {'volumen': 75,\n",
       "  'graduacion': '0,0 %',\n",
       "  'productor': 'Bodegas Juan Gil (España)',\n",
       "  'pais': 'España',\n",
       "  'etiqueta': 'Vegano, Verdejo',\n",
       "  'notas de cata': 'De color rosa sutil, ligeramente brillante, finamente afrutado y refrescante. Acidez armoniosa, taninos sutiles, frutal con recuerdos a frambuesas y fresas.',\n",
       "  'url': 'https://www.thebluedolphinstore.com/producto/vino-sin-alcohol-zero-zero-blanco/'},\n",
       " {'volumen': 75,\n",
       "  'graduacion': '<0,5%',\n",
       "  'productor': 'Oddbird International (Suecia)',\n",
       "  'pais': 'Suecia',\n",
       "  'etiqueta': 'Vegano',\n",
       "  'notas de cata': 'De color rosa sutil, ligeramente brillante, finamente afrutado y refrescante. Acidez armoniosa, taninos sutiles, frutal con recuerdos a frambuesas y fresas.',\n",
       "  'url': 'https://www.thebluedolphinstore.com/producto/vino-sin-alcohol-zero-zero-blanco/'},\n",
       " {'volumen': 75,\n",
       "  'graduacion': '<0,5%',\n",
       "  'productor': 'Oddbird International (Suecia)',\n",
       "  'pais': 'Suecia',\n",
       "  'etiqueta': 'Chardonnay',\n",
       "  'notas de cata': 'De color rosa sutil, ligeramente brillante, finamente afrutado y refrescante. Acidez armoniosa, taninos sutiles, frutal con recuerdos a frambuesas y fresas.',\n",
       "  'url': 'https://www.thebluedolphinstore.com/producto/vino-sin-alcohol-zero-zero-blanco/'},\n",
       " {'volumen': 75,\n",
       "  'graduacion': '0%',\n",
       "  'productor': 'Oddbird International (Suecia)',\n",
       "  'pais': 'Suecia',\n",
       "  'etiqueta': 'Bajo o Sin Calorías, Merlot, Orgánico / Ecológico, Syrah',\n",
       "  'notas de cata': 'De color rosa sutil, ligeramente brillante, finamente afrutado y refrescante. Acidez armoniosa, taninos sutiles, frutal con recuerdos a frambuesas y fresas.',\n",
       "  'url': 'https://www.thebluedolphinstore.com/producto/vino-sin-alcohol-zero-zero-blanco/'},\n",
       " {'volumen': 75,\n",
       "  'graduacion': '0,0%',\n",
       "  'productor': 'Oddbird International (Suecia)',\n",
       "  'pais': 'Suecia',\n",
       "  'etiqueta': 'Chardonnay, Vegano',\n",
       "  'notas de cata': 'De color rosa sutil, ligeramente brillante, finamente afrutado y refrescante. Acidez armoniosa, taninos sutiles, frutal con recuerdos a frambuesas y fresas.',\n",
       "  'url': 'https://www.thebluedolphinstore.com/producto/vino-sin-alcohol-zero-zero-blanco/'},\n",
       " {'volumen': 75,\n",
       "  'graduacion': '<0,5%',\n",
       "  'productor': 'Somée (Alemania)',\n",
       "  'pais': 'Alemania',\n",
       "  'etiqueta': 'No Disponible',\n",
       "  'notas de cata': 'De color rosa sutil, ligeramente brillante, finamente afrutado y refrescante. Acidez armoniosa, taninos sutiles, frutal con recuerdos a frambuesas y fresas.',\n",
       "  'url': 'https://www.thebluedolphinstore.com/producto/vino-sin-alcohol-zero-zero-blanco/'},\n",
       " {'volumen': 75,\n",
       "  'graduacion': '<0,5%',\n",
       "  'productor': 'Somée (Alemania)',\n",
       "  'pais': 'Alemania',\n",
       "  'etiqueta': 'Chardonnay',\n",
       "  'notas de cata': 'De color rosa sutil, ligeramente brillante, finamente afrutado y refrescante. Acidez armoniosa, taninos sutiles, frutal con recuerdos a frambuesas y fresas.',\n",
       "  'url': 'https://www.thebluedolphinstore.com/producto/vino-sin-alcohol-zero-zero-blanco/'},\n",
       " {'volumen': 75,\n",
       "  'graduacion': '<0,5%',\n",
       "  'productor': 'Somée (Alemania)',\n",
       "  'pais': 'Alemania',\n",
       "  'etiqueta': 'Riesling',\n",
       "  'notas de cata': 'De color rosa sutil, ligeramente brillante, finamente afrutado y refrescante. Acidez armoniosa, taninos sutiles, frutal con recuerdos a frambuesas y fresas.',\n",
       "  'url': 'https://www.thebluedolphinstore.com/producto/vino-sin-alcohol-zero-zero-blanco/'},\n",
       " {'volumen': 75,\n",
       "  'graduacion': '0,3%',\n",
       "  'productor': 'Kolonne Null (Alemania)',\n",
       "  'pais': 'Alemania',\n",
       "  'etiqueta': 'Bajo o Sin Calorías, Exclusivo Blue Dolphin, Sin gluten, Vegano, Verdejo',\n",
       "  'notas de cata': 'De color rosa sutil, ligeramente brillante, finamente afrutado y refrescante. Acidez armoniosa, taninos sutiles, frutal con recuerdos a frambuesas y fresas.',\n",
       "  'url': 'https://www.thebluedolphinstore.com/producto/vino-sin-alcohol-zero-zero-blanco/'},\n",
       " {'volumen': 75,\n",
       "  'graduacion': '0,5%',\n",
       "  'productor': 'Comercial DYP SPA (Chile)',\n",
       "  'pais': 'Chile',\n",
       "  'etiqueta': 'Chardonnay, Exclusivo Blue Dolphin',\n",
       "  'notas de cata': 'De color rosa sutil, ligeramente brillante, finamente afrutado y refrescante. Acidez armoniosa, taninos sutiles, frutal con recuerdos a frambuesas y fresas.',\n",
       "  'url': 'https://www.thebluedolphinstore.com/producto/vino-sin-alcohol-zero-zero-blanco/'},\n",
       " {'volumen': 75,\n",
       "  'graduacion': '0,0%',\n",
       "  'productor': 'Comercial DYP SPA (Chile)',\n",
       "  'pais': 'Chile',\n",
       "  'etiqueta': 'Vegano',\n",
       "  'notas de cata': 'De color rosa sutil, ligeramente brillante, finamente afrutado y refrescante. Acidez armoniosa, taninos sutiles, frutal con recuerdos a frambuesas y fresas.',\n",
       "  'url': 'https://www.thebluedolphinstore.com/producto/vino-sin-alcohol-zero-zero-blanco/'},\n",
       " {'volumen': 75,\n",
       "  'graduacion': '0,0%',\n",
       "  'productor': 'Comercial DYP SPA (Chile)',\n",
       "  'pais': 'Chile',\n",
       "  'etiqueta': 'Vegano',\n",
       "  'notas de cata': 'De color rosa sutil, ligeramente brillante, finamente afrutado y refrescante. Acidez armoniosa, taninos sutiles, frutal con recuerdos a frambuesas y fresas.',\n",
       "  'url': 'https://www.thebluedolphinstore.com/producto/vino-sin-alcohol-zero-zero-blanco/'},\n",
       " {'volumen': 75,\n",
       "  'graduacion': '0,4%',\n",
       "  'productor': 'Kolonne Null (Alemania)',\n",
       "  'pais': 'Alemania',\n",
       "  'etiqueta': 'Bajo o Sin Calorías, Exclusivo Blue Dolphin, Sin gluten, Vegano',\n",
       "  'notas de cata': 'De color rosa sutil, ligeramente brillante, finamente afrutado y refrescante. Acidez armoniosa, taninos sutiles, frutal con recuerdos a frambuesas y fresas.',\n",
       "  'url': 'https://www.thebluedolphinstore.com/producto/vino-sin-alcohol-zero-zero-blanco/'},\n",
       " {'volumen': 75,\n",
       "  'graduacion': '<0,5%',\n",
       "  'productor': 'Comercial DYP SPA (Chile)',\n",
       "  'pais': 'Chile',\n",
       "  'etiqueta': 'Cabernet Sauvignon, Exclusivo Blue Dolphin',\n",
       "  'notas de cata': 'De color rosa sutil, ligeramente brillante, finamente afrutado y refrescante. Acidez armoniosa, taninos sutiles, frutal con recuerdos a frambuesas y fresas.',\n",
       "  'url': 'https://www.thebluedolphinstore.com/producto/vino-sin-alcohol-zero-zero-blanco/'},\n",
       " {'volumen': 75,\n",
       "  'graduacion': '<0,5%',\n",
       "  'productor': 'Somée (Alemania)',\n",
       "  'pais': 'Alemania',\n",
       "  'etiqueta': 'Merlot',\n",
       "  'notas de cata': 'De color rosa sutil, ligeramente brillante, finamente afrutado y refrescante. Acidez armoniosa, taninos sutiles, frutal con recuerdos a frambuesas y fresas.',\n",
       "  'url': 'https://www.thebluedolphinstore.com/producto/vino-sin-alcohol-zero-zero-blanco/'},\n",
       " {'volumen': 75,\n",
       "  'graduacion': '0,2%',\n",
       "  'productor': 'Kolonne Null  (Alemania)',\n",
       "  'pais': 'Alemania',\n",
       "  'etiqueta': 'Bajo o Sin Calorías, Exclusivo Blue Dolphin, Sin gluten, Vegano',\n",
       "  'notas de cata': 'De color rosa sutil, ligeramente brillante, finamente afrutado y refrescante. Acidez armoniosa, taninos sutiles, frutal con recuerdos a frambuesas y fresas.',\n",
       "  'url': 'https://www.thebluedolphinstore.com/producto/vino-sin-alcohol-zero-zero-blanco/'},\n",
       " {'volumen': 75,\n",
       "  'graduacion': '0,01%',\n",
       "  'productor': 'Dismark Products (Galicia – España)',\n",
       "  'pais': 'Galicia – España',\n",
       "  'etiqueta': 'Airén, Bajo o Sin Calorías, Halal, Natural, Sin saborizantes, Tempranillo',\n",
       "  'notas de cata': 'De color rosa sutil, ligeramente brillante, finamente afrutado y refrescante. Acidez armoniosa, taninos sutiles, frutal con recuerdos a frambuesas y fresas.',\n",
       "  'url': 'https://www.thebluedolphinstore.com/producto/vino-sin-alcohol-zero-zero-blanco/'},\n",
       " {'volumen': 75,\n",
       "  'graduacion': '0,0%',\n",
       "  'productor': 'Dismark Products (Galicia – España)',\n",
       "  'pais': 'Galicia – España',\n",
       "  'etiqueta': 'Bajo o Sin Calorías, Exclusivo Blue Dolphin, Halal, Merlot, Vegano',\n",
       "  'notas de cata': 'De color rosa sutil, ligeramente brillante, finamente afrutado y refrescante. Acidez armoniosa, taninos sutiles, frutal con recuerdos a frambuesas y fresas.',\n",
       "  'url': 'https://www.thebluedolphinstore.com/producto/vino-sin-alcohol-zero-zero-blanco/'},\n",
       " {'volumen': 75,\n",
       "  'graduacion': '0,0%',\n",
       "  'productor': 'Mercantia Desarrollos Alimentarios (Galicia – España)',\n",
       "  'pais': 'Galicia – España',\n",
       "  'etiqueta': 'Bajo o Sin Calorías, Cabernet Sauvignon, Tempranillo',\n",
       "  'notas de cata': 'De color rosa sutil, ligeramente brillante, finamente afrutado y refrescante. Acidez armoniosa, taninos sutiles, frutal con recuerdos a frambuesas y fresas.',\n",
       "  'url': 'https://www.thebluedolphinstore.com/producto/vino-sin-alcohol-zero-zero-blanco/'},\n",
       " {'volumen': 75,\n",
       "  'graduacion': '0,0%',\n",
       "  'productor': 'Dismark Products (Galicia – España)',\n",
       "  'pais': 'Galicia – España',\n",
       "  'etiqueta': 'Bajo o Sin Calorías, Chardonnay, Halal, Natural, Orgánico / Ecológico, Sin saborizantes',\n",
       "  'notas de cata': 'De color rosa sutil, ligeramente brillante, finamente afrutado y refrescante. Acidez armoniosa, taninos sutiles, frutal con recuerdos a frambuesas y fresas.',\n",
       "  'url': 'https://www.thebluedolphinstore.com/producto/vino-sin-alcohol-zero-zero-blanco/'},\n",
       " {'volumen': 75,\n",
       "  'graduacion': '0,0%',\n",
       "  'productor': 'Dismark Products (Galicia – España)',\n",
       "  'pais': 'Galicia – España',\n",
       "  'etiqueta': 'Bajo o Sin Calorías, Halal, Merlot, Natural, Orgánico / Ecológico, Sin saborizantes',\n",
       "  'notas de cata': 'De color rosa sutil, ligeramente brillante, finamente afrutado y refrescante. Acidez armoniosa, taninos sutiles, frutal con recuerdos a frambuesas y fresas.',\n",
       "  'url': 'https://www.thebluedolphinstore.com/producto/vino-sin-alcohol-zero-zero-blanco/'},\n",
       " {'volumen': 75,\n",
       "  'graduacion': '0,0%',\n",
       "  'productor': 'Dismark Products (Galicia – España)',\n",
       "  'pais': 'Galicia – España',\n",
       "  'etiqueta': 'Bajo o Sin Calorías, Chardonnay, Halal, Natural, Sin saborizantes',\n",
       "  'notas de cata': 'De color rosa sutil, ligeramente brillante, finamente afrutado y refrescante. Acidez armoniosa, taninos sutiles, frutal con recuerdos a frambuesas y fresas.',\n",
       "  'url': 'https://www.thebluedolphinstore.com/producto/vino-sin-alcohol-zero-zero-blanco/'},\n",
       " {'volumen': 75,\n",
       "  'graduacion': '0,01%',\n",
       "  'productor': 'Dismark Products (Galicia – España)',\n",
       "  'pais': 'Galicia – España',\n",
       "  'etiqueta': 'Airén, Bajo o Sin Calorías, Halal, Natural, Sin saborizantes',\n",
       "  'notas de cata': 'De color rosa sutil, ligeramente brillante, finamente afrutado y refrescante. Acidez armoniosa, taninos sutiles, frutal con recuerdos a frambuesas y fresas.',\n",
       "  'url': 'https://www.thebluedolphinstore.com/producto/vino-sin-alcohol-zero-zero-blanco/'},\n",
       " {'volumen': 75,\n",
       "  'graduacion': '0,02%',\n",
       "  'productor': 'Dismark Products (Galicia – España)',\n",
       "  'pais': 'Galicia – España',\n",
       "  'etiqueta': 'Bajo o Sin Calorías, Halal, Merlot, Natural, Sin saborizantes',\n",
       "  'notas de cata': 'De color rosa sutil, ligeramente brillante, finamente afrutado y refrescante. Acidez armoniosa, taninos sutiles, frutal con recuerdos a frambuesas y fresas.',\n",
       "  'url': 'https://www.thebluedolphinstore.com/producto/vino-sin-alcohol-zero-zero-blanco/'},\n",
       " {'volumen': 75,\n",
       "  'graduacion': '0,0%',\n",
       "  'productor': 'Dismark Products (Galicia – España)',\n",
       "  'pais': 'Galicia – España',\n",
       "  'etiqueta': 'Bajo o Sin Calorías, Halal, Natural, Sin saborizantes, Tempranillo',\n",
       "  'notas de cata': 'De color rosa sutil, ligeramente brillante, finamente afrutado y refrescante. Acidez armoniosa, taninos sutiles, frutal con recuerdos a frambuesas y fresas.',\n",
       "  'url': 'https://www.thebluedolphinstore.com/producto/vino-sin-alcohol-zero-zero-blanco/'},\n",
       " {'volumen': 75,\n",
       "  'graduacion': '0,0%',\n",
       "  'productor': 'Princess (Italia)',\n",
       "  'pais': 'Italia',\n",
       "  'etiqueta': 'Bajo o Sin Calorías, Natural, Sin saborizantes',\n",
       "  'notas de cata': 'De color rosa sutil, ligeramente brillante, finamente afrutado y refrescante. Acidez armoniosa, taninos sutiles, frutal con recuerdos a frambuesas y fresas.',\n",
       "  'url': 'https://www.thebluedolphinstore.com/producto/vino-sin-alcohol-zero-zero-blanco/'},\n",
       " {'volumen': 75,\n",
       "  'graduacion': '0,0%',\n",
       "  'productor': 'Mercantia Desarrollos Alimentarios (Galicia – España)',\n",
       "  'pais': 'Galicia – España',\n",
       "  'etiqueta': 'Airén, Bajo o Sin Calorías',\n",
       "  'notas de cata': 'De color rosa sutil, ligeramente brillante, finamente afrutado y refrescante. Acidez armoniosa, taninos sutiles, frutal con recuerdos a frambuesas y fresas.',\n",
       "  'url': 'https://www.thebluedolphinstore.com/producto/vino-sin-alcohol-zero-zero-blanco/'}]"
      ]
     },
     "execution_count": 518,
     "metadata": {},
     "output_type": "execute_result"
    }
   ],
   "source": [
    "data2"
   ]
  },
  {
   "cell_type": "code",
   "execution_count": 528,
   "id": "08af619f",
   "metadata": {},
   "outputs": [
    {
     "data": {
      "text/html": [
       "<div>\n",
       "<style scoped>\n",
       "    .dataframe tbody tr th:only-of-type {\n",
       "        vertical-align: middle;\n",
       "    }\n",
       "\n",
       "    .dataframe tbody tr th {\n",
       "        vertical-align: top;\n",
       "    }\n",
       "\n",
       "    .dataframe thead th {\n",
       "        text-align: right;\n",
       "    }\n",
       "</style>\n",
       "<table border=\"1\" class=\"dataframe\">\n",
       "  <thead>\n",
       "    <tr style=\"text-align: right;\">\n",
       "      <th></th>\n",
       "      <th>volumen</th>\n",
       "      <th>graduacion</th>\n",
       "      <th>productor</th>\n",
       "      <th>pais</th>\n",
       "      <th>etiqueta</th>\n",
       "      <th>notas de cata</th>\n",
       "      <th>url</th>\n",
       "    </tr>\n",
       "  </thead>\n",
       "  <tbody>\n",
       "    <tr>\n",
       "      <th>0</th>\n",
       "      <td>75</td>\n",
       "      <td>&lt;0,5 %</td>\n",
       "      <td>Carl Jung (Alemania)</td>\n",
       "      <td>Alemania</td>\n",
       "      <td>Vegano</td>\n",
       "      <td>De color rosa sutil, ligeramente brillante, fi...</td>\n",
       "      <td>https://www.thebluedolphinstore.com/producto/v...</td>\n",
       "    </tr>\n",
       "    <tr>\n",
       "      <th>1</th>\n",
       "      <td>75</td>\n",
       "      <td>0,5%</td>\n",
       "      <td>Carl Jung (Alemania)</td>\n",
       "      <td>Alemania</td>\n",
       "      <td>Syrah</td>\n",
       "      <td>De color rosa sutil, ligeramente brillante, fi...</td>\n",
       "      <td>https://www.thebluedolphinstore.com/producto/v...</td>\n",
       "    </tr>\n",
       "    <tr>\n",
       "      <th>2</th>\n",
       "      <td>75</td>\n",
       "      <td>&lt;0,5 %</td>\n",
       "      <td>Carl Jung (Alemania)</td>\n",
       "      <td>Alemania</td>\n",
       "      <td>Cabernet Sauvignon, Vegano</td>\n",
       "      <td>De color rosa sutil, ligeramente brillante, fi...</td>\n",
       "      <td>https://www.thebluedolphinstore.com/producto/v...</td>\n",
       "    </tr>\n",
       "    <tr>\n",
       "      <th>3</th>\n",
       "      <td>75</td>\n",
       "      <td>&lt;0,5 %</td>\n",
       "      <td>Carl Jung (Alemania)</td>\n",
       "      <td>Alemania</td>\n",
       "      <td>Merlot, Vegano</td>\n",
       "      <td>De color rosa sutil, ligeramente brillante, fi...</td>\n",
       "      <td>https://www.thebluedolphinstore.com/producto/v...</td>\n",
       "    </tr>\n",
       "    <tr>\n",
       "      <th>4</th>\n",
       "      <td>75</td>\n",
       "      <td>0,5%</td>\n",
       "      <td>Carl Jung (Alemania)</td>\n",
       "      <td>Alemania</td>\n",
       "      <td>No Disponible</td>\n",
       "      <td>De color rosa sutil, ligeramente brillante, fi...</td>\n",
       "      <td>https://www.thebluedolphinstore.com/producto/v...</td>\n",
       "    </tr>\n",
       "  </tbody>\n",
       "</table>\n",
       "</div>"
      ],
      "text/plain": [
       "   volumen graduacion             productor      pais  \\\n",
       "0       75     <0,5 %  Carl Jung (Alemania)  Alemania   \n",
       "1       75       0,5%  Carl Jung (Alemania)  Alemania   \n",
       "2       75     <0,5 %  Carl Jung (Alemania)  Alemania   \n",
       "3       75     <0,5 %  Carl Jung (Alemania)  Alemania   \n",
       "4       75       0,5%  Carl Jung (Alemania)  Alemania   \n",
       "\n",
       "                     etiqueta  \\\n",
       "0                      Vegano   \n",
       "1                       Syrah   \n",
       "2  Cabernet Sauvignon, Vegano   \n",
       "3              Merlot, Vegano   \n",
       "4               No Disponible   \n",
       "\n",
       "                                       notas de cata  \\\n",
       "0  De color rosa sutil, ligeramente brillante, fi...   \n",
       "1  De color rosa sutil, ligeramente brillante, fi...   \n",
       "2  De color rosa sutil, ligeramente brillante, fi...   \n",
       "3  De color rosa sutil, ligeramente brillante, fi...   \n",
       "4  De color rosa sutil, ligeramente brillante, fi...   \n",
       "\n",
       "                                                 url  \n",
       "0  https://www.thebluedolphinstore.com/producto/v...  \n",
       "1  https://www.thebluedolphinstore.com/producto/v...  \n",
       "2  https://www.thebluedolphinstore.com/producto/v...  \n",
       "3  https://www.thebluedolphinstore.com/producto/v...  \n",
       "4  https://www.thebluedolphinstore.com/producto/v...  "
      ]
     },
     "execution_count": 528,
     "metadata": {},
     "output_type": "execute_result"
    }
   ],
   "source": [
    "listado_2 = pd.DataFrame(data2)\n",
    "\n",
    "listado_2.head()"
   ]
  },
  {
   "cell_type": "markdown",
   "id": "64aaaf1f",
   "metadata": {},
   "source": [
    "Paso 3: Procedo a concatenar los dos DataFrame y crear la lista definitiva."
   ]
  },
  {
   "cell_type": "code",
   "execution_count": 532,
   "id": "4f270d15",
   "metadata": {
    "scrolled": true
   },
   "outputs": [
    {
     "data": {
      "text/html": [
       "<div>\n",
       "<style scoped>\n",
       "    .dataframe tbody tr th:only-of-type {\n",
       "        vertical-align: middle;\n",
       "    }\n",
       "\n",
       "    .dataframe tbody tr th {\n",
       "        vertical-align: top;\n",
       "    }\n",
       "\n",
       "    .dataframe thead th {\n",
       "        text-align: right;\n",
       "    }\n",
       "</style>\n",
       "<table border=\"1\" class=\"dataframe\">\n",
       "  <thead>\n",
       "    <tr style=\"text-align: right;\">\n",
       "      <th></th>\n",
       "      <th>nombre</th>\n",
       "      <th>variedad</th>\n",
       "      <th>precio</th>\n",
       "      <th>volumen</th>\n",
       "      <th>graduacion</th>\n",
       "      <th>productor</th>\n",
       "      <th>pais</th>\n",
       "      <th>etiqueta</th>\n",
       "      <th>notas de cata</th>\n",
       "      <th>url</th>\n",
       "    </tr>\n",
       "  </thead>\n",
       "  <tbody>\n",
       "    <tr>\n",
       "      <th>0</th>\n",
       "      <td>Carl Jung Rosé – Vino Rosado Sin Alcohol</td>\n",
       "      <td>Vino Rosado Sin Alcohol</td>\n",
       "      <td>6.86</td>\n",
       "      <td>75</td>\n",
       "      <td>&lt;0,5 %</td>\n",
       "      <td>Carl Jung (Alemania)</td>\n",
       "      <td>Alemania</td>\n",
       "      <td>Vegano</td>\n",
       "      <td>De color rosa sutil, ligeramente brillante, fi...</td>\n",
       "      <td>https://www.thebluedolphinstore.com/producto/v...</td>\n",
       "    </tr>\n",
       "    <tr>\n",
       "      <th>1</th>\n",
       "      <td>Schloss Raggendorf Shiraz Rosé – Vino Rosado S...</td>\n",
       "      <td>Vino Rosado Sin Alcohol</td>\n",
       "      <td>6.86</td>\n",
       "      <td>75</td>\n",
       "      <td>0,5%</td>\n",
       "      <td>Carl Jung (Alemania)</td>\n",
       "      <td>Alemania</td>\n",
       "      <td>Syrah</td>\n",
       "      <td>De color rosa sutil, ligeramente brillante, fi...</td>\n",
       "      <td>https://www.thebluedolphinstore.com/producto/v...</td>\n",
       "    </tr>\n",
       "    <tr>\n",
       "      <th>2</th>\n",
       "      <td>Carl Jung Cabernet Sauvignon – Vino Tinto Sin ...</td>\n",
       "      <td>Vino Rosado Sin Alcohol</td>\n",
       "      <td>6.86</td>\n",
       "      <td>75</td>\n",
       "      <td>&lt;0,5 %</td>\n",
       "      <td>Carl Jung (Alemania)</td>\n",
       "      <td>Alemania</td>\n",
       "      <td>Cabernet Sauvignon, Vegano</td>\n",
       "      <td>De color rosa sutil, ligeramente brillante, fi...</td>\n",
       "      <td>https://www.thebluedolphinstore.com/producto/v...</td>\n",
       "    </tr>\n",
       "    <tr>\n",
       "      <th>3</th>\n",
       "      <td>Carl Jung Merlot – Vino Tinto Sin Alcohol</td>\n",
       "      <td>Vino Rosado Sin Alcohol</td>\n",
       "      <td>6.86</td>\n",
       "      <td>75</td>\n",
       "      <td>&lt;0,5 %</td>\n",
       "      <td>Carl Jung (Alemania)</td>\n",
       "      <td>Alemania</td>\n",
       "      <td>Merlot, Vegano</td>\n",
       "      <td>De color rosa sutil, ligeramente brillante, fi...</td>\n",
       "      <td>https://www.thebluedolphinstore.com/producto/v...</td>\n",
       "    </tr>\n",
       "    <tr>\n",
       "      <th>4</th>\n",
       "      <td>Schloss Raggendorf Zweigelt – Vino Tinto Sin A...</td>\n",
       "      <td>Vino Rosado Sin Alcohol</td>\n",
       "      <td>6.86</td>\n",
       "      <td>75</td>\n",
       "      <td>0,5%</td>\n",
       "      <td>Carl Jung (Alemania)</td>\n",
       "      <td>Alemania</td>\n",
       "      <td>No Disponible</td>\n",
       "      <td>De color rosa sutil, ligeramente brillante, fi...</td>\n",
       "      <td>https://www.thebluedolphinstore.com/producto/v...</td>\n",
       "    </tr>\n",
       "  </tbody>\n",
       "</table>\n",
       "</div>"
      ],
      "text/plain": [
       "                                              nombre                 variedad  \\\n",
       "0           Carl Jung Rosé – Vino Rosado Sin Alcohol  Vino Rosado Sin Alcohol   \n",
       "1  Schloss Raggendorf Shiraz Rosé – Vino Rosado S...  Vino Rosado Sin Alcohol   \n",
       "2  Carl Jung Cabernet Sauvignon – Vino Tinto Sin ...  Vino Rosado Sin Alcohol   \n",
       "3          Carl Jung Merlot – Vino Tinto Sin Alcohol  Vino Rosado Sin Alcohol   \n",
       "4  Schloss Raggendorf Zweigelt – Vino Tinto Sin A...  Vino Rosado Sin Alcohol   \n",
       "\n",
       "   precio  volumen graduacion             productor      pais  \\\n",
       "0    6.86       75     <0,5 %  Carl Jung (Alemania)  Alemania   \n",
       "1    6.86       75       0,5%  Carl Jung (Alemania)  Alemania   \n",
       "2    6.86       75     <0,5 %  Carl Jung (Alemania)  Alemania   \n",
       "3    6.86       75     <0,5 %  Carl Jung (Alemania)  Alemania   \n",
       "4    6.86       75       0,5%  Carl Jung (Alemania)  Alemania   \n",
       "\n",
       "                     etiqueta  \\\n",
       "0                      Vegano   \n",
       "1                       Syrah   \n",
       "2  Cabernet Sauvignon, Vegano   \n",
       "3              Merlot, Vegano   \n",
       "4               No Disponible   \n",
       "\n",
       "                                       notas de cata  \\\n",
       "0  De color rosa sutil, ligeramente brillante, fi...   \n",
       "1  De color rosa sutil, ligeramente brillante, fi...   \n",
       "2  De color rosa sutil, ligeramente brillante, fi...   \n",
       "3  De color rosa sutil, ligeramente brillante, fi...   \n",
       "4  De color rosa sutil, ligeramente brillante, fi...   \n",
       "\n",
       "                                                 url  \n",
       "0  https://www.thebluedolphinstore.com/producto/v...  \n",
       "1  https://www.thebluedolphinstore.com/producto/v...  \n",
       "2  https://www.thebluedolphinstore.com/producto/v...  \n",
       "3  https://www.thebluedolphinstore.com/producto/v...  \n",
       "4  https://www.thebluedolphinstore.com/producto/v...  "
      ]
     },
     "execution_count": 532,
     "metadata": {},
     "output_type": "execute_result"
    }
   ],
   "source": [
    "lista_vinos = pd.concat([listado , listado_2], axis = 1)\n",
    "\n",
    "lista_vinos.head()"
   ]
  },
  {
   "cell_type": "markdown",
   "id": "e579e7cf",
   "metadata": {},
   "source": [
    "Paso 4: exporto a CSV la tabla."
   ]
  },
  {
   "cell_type": "code",
   "execution_count": 537,
   "id": "db6a81ae",
   "metadata": {},
   "outputs": [],
   "source": [
    "lista_vinos.to_csv('lista_vinos', index=False)"
   ]
  },
  {
   "cell_type": "code",
   "execution_count": null,
   "id": "176c806f",
   "metadata": {},
   "outputs": [],
   "source": []
  }
 ],
 "metadata": {
  "kernelspec": {
   "display_name": "Python 3 (ipykernel)",
   "language": "python",
   "name": "python3"
  },
  "language_info": {
   "codemirror_mode": {
    "name": "ipython",
    "version": 3
   },
   "file_extension": ".py",
   "mimetype": "text/x-python",
   "name": "python",
   "nbconvert_exporter": "python",
   "pygments_lexer": "ipython3",
   "version": "3.11.5"
  }
 },
 "nbformat": 4,
 "nbformat_minor": 5
}
